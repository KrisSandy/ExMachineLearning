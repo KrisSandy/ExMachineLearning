{
  "nbformat": 4,
  "nbformat_minor": 0,
  "metadata": {
    "colab": {
      "name": "ML Assignment.ipynb",
      "version": "0.3.2",
      "provenance": [],
      "include_colab_link": true
    },
    "kernelspec": {
      "name": "python3",
      "display_name": "Python 3"
    }
  },
  "cells": [
    {
      "cell_type": "markdown",
      "metadata": {
        "id": "view-in-github",
        "colab_type": "text"
      },
      "source": [
        "[View in Colaboratory](https://colab.research.google.com/github/KrisSandy/MachineLearning/blob/master/ML_Assignment%20Original.ipynb)"
      ]
    },
    {
      "metadata": {
        "id": "L8rsZzq1WgBM",
        "colab_type": "text"
      },
      "cell_type": "markdown",
      "source": [
        "# Machine Learning Assignment 1"
      ]
    },
    {
      "metadata": {
        "id": "YNCiiHDYbs-A",
        "colab_type": "text"
      },
      "cell_type": "markdown",
      "source": [
        "## Why scikit-learn"
      ]
    },
    {
      "metadata": {
        "id": "vBWrRNEFWtEs",
        "colab_type": "text"
      },
      "cell_type": "markdown",
      "source": [
        "There are many open source Machine learning packages available in the market. TensorFlow, SciKit-learn, Caffe are few to name. For this task I have choosen scikit-learn library which is an open source package developed in python. scikit-learn along with other scientific packages in python (pandas, numpy etc) provides powerful data structures and machine learning features which can be leveraged with ease.\n",
        "\n",
        "Besides readily available implementation of K nearest Neighbours algorithm, below are some of the main reasons for choosing scikit-learn\n",
        "\n",
        "\n",
        "*   scikit-learn is open source package\n",
        "*   Its regularly updated with more than 1 release per year which means the packages are up to date.\n",
        "* Easy to use \n",
        "* It has implementations for most of the machine learning tasks such as Clustering, Classification, Regression etc.\n",
        "* Very good and up to date documentation available.\n",
        "\n",
        "scikit-learn offers below features:\n",
        "\n",
        "*  Powerful function for data pre processing, transformations and data normalization.\n",
        "*  Functions to perform many of the Classification, Regression, Clustering algorithms. All the algorithms follow same design principles, so it is easy to adopt and use different machine learning algorithms. \n",
        "* Provides powerful functions for Dimensionality reduction \n",
        "\n",
        "\n",
        "*Reference: https://www.oreilly.com/ideas/six-reasons-why-i-recommend-scikit-learn*\n",
        "\n",
        "*Reference: http://scikit-learn.org/stable/index.html*"
      ]
    },
    {
      "metadata": {
        "id": "nhbriW06b3-W",
        "colab_type": "text"
      },
      "cell_type": "markdown",
      "source": [
        "## Data Pre-processing"
      ]
    },
    {
      "metadata": {
        "id": "g5ygSy_McMKt",
        "colab_type": "text"
      },
      "cell_type": "markdown",
      "source": [
        "* Data in the dataset is seperated by tab. Each row represents an attribute and columns represent each individual patients. \n",
        "\n",
        "* In order to load the data into pandas dataframe, the file is read using read_csv using the seperator as tab ('\\t'). A transpose of the dataframe is required to bring the data into traditional format i.e. features in columns and observations (patients) in rows. \n",
        "\n",
        "* After getting the data in desired format, column names are added to give more sense and completeness to the dataframe.\n",
        "\n",
        "* Data and Response used to train and test the models should be in numbers as numpy arrays. So Autoimmune_Disease column needs to be coverted to 0 and 1 representing negative and positive respectively. "
      ]
    },
    {
      "metadata": {
        "id": "5QqRHo0Vf1fM",
        "colab_type": "text"
      },
      "cell_type": "markdown",
      "source": [
        "#### Configuring Google Drive"
      ]
    },
    {
      "metadata": {
        "id": "UpXmQt6Efon5",
        "colab_type": "code",
        "colab": {
          "base_uri": "https://localhost:8080/",
          "height": 124
        },
        "outputId": "b4e27091-28ea-4558-ea24-075f6992e305"
      },
      "cell_type": "code",
      "source": [
        "from google.colab import drive\n",
        "drive.mount('/content/gdrive')"
      ],
      "execution_count": 1,
      "outputs": [
        {
          "output_type": "stream",
          "text": [
            "Go to this URL in a browser: https://accounts.google.com/o/oauth2/auth?client_id=947318989803-6bn6qk8qdgf4n4g3pfee6491hc0brc4i.apps.googleusercontent.com&redirect_uri=urn%3Aietf%3Awg%3Aoauth%3A2.0%3Aoob&scope=email%20https%3A%2F%2Fwww.googleapis.com%2Fauth%2Fdocs.test%20https%3A%2F%2Fwww.googleapis.com%2Fauth%2Fdrive%20https%3A%2F%2Fwww.googleapis.com%2Fauth%2Fdrive.photos.readonly%20https%3A%2F%2Fwww.googleapis.com%2Fauth%2Fpeopleapi.readonly&response_type=code\n",
            "\n",
            "Enter your authorization code:\n",
            "··········\n",
            "Mounted at /content/gdrive\n"
          ],
          "name": "stdout"
        }
      ]
    },
    {
      "metadata": {
        "id": "LL3TIi1CgFyj",
        "colab_type": "code",
        "colab": {
          "base_uri": "https://localhost:8080/",
          "height": 243
        },
        "outputId": "5bb605c0-0444-459b-879d-82ecd3b71d35"
      },
      "cell_type": "code",
      "source": [
        "import pandas as pd\n",
        "import numpy\n",
        "fields = ['Age', 'Blood_Pressure', 'BMI', 'Plasma_level', 'Autoimmune_Disease', 'Adverse_events', 'Drug_in_serum', 'Liver_function', 'Activity_test', 'Secondary_test']\n",
        "autoimmune_data = pd.read_csv(r'/content/gdrive/My Drive/GYE06/CT475_ML/autoimmune.txt',\n",
        "                 sep='\\t',\n",
        "                 header=None\n",
        "                )\n",
        "autoimmune_data = autoimmune_data.transpose()\n",
        "autoimmune_data.columns = fields\n",
        "autoimmune_data['Autoimmune_Disease'] = autoimmune_data['Autoimmune_Disease'].map({'negative':0, 'positive':1})\n",
        "print(autoimmune_data.head())"
      ],
      "execution_count": 3,
      "outputs": [
        {
          "output_type": "stream",
          "text": [
            "  Age Blood_Pressure   BMI Plasma_level  Autoimmune_Disease Adverse_events  \\\n",
            "0  30             64  35.1           61                   1              1   \n",
            "1  22             74    30           40                   0              1   \n",
            "2  21             70  30.8           50                   0              0   \n",
            "3  23             64  34.9         59.5                   0              0   \n",
            "4  25             76  53.2           81                   1              0   \n",
            "\n",
            "  Drug_in_serum Liver_function Activity_test Secondary_test  \n",
            "0           156          0.692            32           12.7  \n",
            "1            60          0.527            11              0  \n",
            "2            50          0.597            26           22.6  \n",
            "3            92          0.725            18            1.8  \n",
            "4           100          0.759            56            3.6  \n"
          ],
          "name": "stdout"
        }
      ]
    },
    {
      "metadata": {
        "id": "pkJ578ehgnEH",
        "colab_type": "text"
      },
      "cell_type": "markdown",
      "source": [
        "## kNN (k-Nearest Neighbours)"
      ]
    },
    {
      "metadata": {
        "id": "NO3rLj3TiGOB",
        "colab_type": "text"
      },
      "cell_type": "markdown",
      "source": [
        "k nearest neighbours algorithm is an instance based learning algorithm used for classification. This is a lazy algorithm which predicts the outcome by calculating the distance from the query point to all the data points. It then taks the k nearest data points and classifies the query point as the category with higest number in the k data points. \n",
        "\n",
        "Scikit-learn's KNeighboursClassifier has been used for implementing k-Nearest Neighbours algorithm.  \n",
        "\n",
        "When the attributes in the data have wide range of values, attributes with large number range will have more impact during the distance calculation than attributes with smaller number range. Hence data must be normilized.\n",
        "\n"
      ]
    },
    {
      "metadata": {
        "id": "4hocb-m4-ilW",
        "colab_type": "text"
      },
      "cell_type": "markdown",
      "source": [
        "#### Normalizing data"
      ]
    },
    {
      "metadata": {
        "id": "E5w2jYa3-2vr",
        "colab_type": "text"
      },
      "cell_type": "markdown",
      "source": [
        "We will be using z normalisation, which means data will be scaled in such a way that mean of an attribute is zero and standard deviation is 1"
      ]
    },
    {
      "metadata": {
        "id": "0knsJW3A-xFf",
        "colab_type": "code",
        "colab": {
          "base_uri": "https://localhost:8080/",
          "height": 69
        },
        "outputId": "9039a3d6-c40c-4c26-d796-9add220690c3"
      },
      "cell_type": "code",
      "source": [
        "from sklearn import preprocessing\n",
        "\n",
        "X_scaled = preprocessing.scale(X)\n",
        " \n",
        "X_scaled.mean(axis=0) # axis=0 indicated that mean should be taken wrt col"
      ],
      "execution_count": 15,
      "outputs": [
        {
          "output_type": "execute_result",
          "data": {
            "text/plain": [
              "array([-1.11022302e-16,  3.68499557e-16,  0.00000000e+00,  0.00000000e+00,\n",
              "        7.08652994e-18,  6.37787695e-17,  9.44870659e-18,  3.77948264e-17,\n",
              "       -1.32281892e-16])"
            ]
          },
          "metadata": {
            "tags": []
          },
          "execution_count": 15
        }
      ]
    },
    {
      "metadata": {
        "id": "gXeIEDRpn_ps",
        "colab_type": "code",
        "colab": {
          "base_uri": "https://localhost:8080/",
          "height": 52
        },
        "outputId": "3d983ab7-7da6-4e1b-a042-94365ad62976"
      },
      "cell_type": "code",
      "source": [
        "from sklearn.model_selection import train_test_split\n",
        "\n",
        "X = autoimmune_data.drop(columns = ['Autoimmune_Disease'])\n",
        "y = autoimmune_data['Autoimmune_Disease']\n",
        "\n",
        "X_train, X_test, y_train, y_test = train_test_split(X_scaled, y)\n",
        "print(X_train.shape)\n",
        "print(X_test.shape)"
      ],
      "execution_count": 16,
      "outputs": [
        {
          "output_type": "stream",
          "text": [
            "(282, 9)\n",
            "(94, 9)\n"
          ],
          "name": "stdout"
        }
      ]
    },
    {
      "metadata": {
        "id": "-7Yxn566wfZq",
        "colab_type": "text"
      },
      "cell_type": "markdown",
      "source": [
        "#### Implementing kNN"
      ]
    },
    {
      "metadata": {
        "id": "g0qxWkyJoLbX",
        "colab_type": "code",
        "colab": {
          "base_uri": "https://localhost:8080/",
          "height": 34
        },
        "outputId": "2ceb1312-560c-4304-de79-54a1aea21ef9"
      },
      "cell_type": "code",
      "source": [
        "from sklearn.neighbors import KNeighborsClassifier\n",
        "\n",
        "autoimmune_knn = KNeighborsClassifier(n_neighbors=5)\n",
        "autoimmune_knn.fit(X_train, y_train)\n",
        "accuracy_knn = autoimmune_knn.score(X_test, y_test)\n",
        "print(\"The accuracy of the model using k=5 is {}\".format(accuracy_knn))"
      ],
      "execution_count": 25,
      "outputs": [
        {
          "output_type": "stream",
          "text": [
            "The accuracy of the model using k=5 is 0.7340425531914894\n"
          ],
          "name": "stdout"
        }
      ]
    },
    {
      "metadata": {
        "id": "x_C49xCq_6M0",
        "colab_type": "text"
      },
      "cell_type": "markdown",
      "source": [
        "## Logistic Regression"
      ]
    },
    {
      "metadata": {
        "id": "Qrk151XY_-Jf",
        "colab_type": "text"
      },
      "cell_type": "markdown",
      "source": [
        "Logistic regression is a machine learning technique used for classification problems. In this technique the probability of the response is calculated for the give predictors. \n",
        "\n",
        "The function used in logistic regression is sigmoid function:\n",
        "\n",
        "`sig(t) = (1/1+e^-t)`\n",
        "\n",
        "This range of the sigmoid function is between 0 and 1. \n",
        "\n",
        "In this example, after training a logistic regression model with the data, for new example if the output of the sigmoid function is > 0.5, then we can say its a case of autoimmune disease, and if the result if < 0.5, then its otherwise.\n",
        "\n"
      ]
    },
    {
      "metadata": {
        "id": "n1spNEQRH5gt",
        "colab_type": "code",
        "colab": {
          "base_uri": "https://localhost:8080/",
          "height": 34
        },
        "outputId": "d36b2a94-9772-4309-d188-7aba10ef0c78"
      },
      "cell_type": "code",
      "source": [
        "from sklearn.linear_model import LogisticRegression\n",
        "autoimmune_log_reg = LogisticRegression()\n",
        "accuracy_log_reg = cross_val_score(autoimmune_log_reg, X, y, cv=10).mean()\n",
        "print(\"Accuracy using Logistic Regression is {}\".format(accuracy_log_reg))"
      ],
      "execution_count": 20,
      "outputs": [
        {
          "output_type": "stream",
          "text": [
            "Accuracy using Logistic Regression is 0.7818713450292398\n"
          ],
          "name": "stdout"
        }
      ]
    },
    {
      "metadata": {
        "id": "C-QaJv3eILHU",
        "colab_type": "text"
      },
      "cell_type": "markdown",
      "source": [
        "References: \n",
        "\n",
        "Logistic Regression: https://towardsdatascience.com/logistic-regression-detailed-overview-46c4da4303bc \n",
        "\n",
        "scikit-learn: https://www.dataschool.io/machine-learning-with-scikit-learn/\n"
      ]
    },
    {
      "metadata": {
        "id": "aBd22-n9wilk",
        "colab_type": "text"
      },
      "cell_type": "markdown",
      "source": [
        "## 10-fold cross Validation"
      ]
    },
    {
      "metadata": {
        "id": "bL2TRMbZNTUe",
        "colab_type": "text"
      },
      "cell_type": "markdown",
      "source": [
        "k foldcross validation is a technique where a dataset is divided into k folds. The training of the model is done using k-1 folds and 1 fold is used for testing the model. This process is repeated k-1 changing the testing fold in every iteration. For each iteration, accuracy of the model is calculated and the mean of al the accuracies gives the model accuracy."
      ]
    },
    {
      "metadata": {
        "id": "fT461FwbN-e5",
        "colab_type": "text"
      },
      "cell_type": "markdown",
      "source": [
        "#### 10-fold cross validation on kNN"
      ]
    },
    {
      "metadata": {
        "id": "CZ9MGiZpOD8z",
        "colab_type": "text"
      },
      "cell_type": "markdown",
      "source": [
        "scikit-learn provides a inbuit function which performs the k fold validatio given k. The code is as below"
      ]
    },
    {
      "metadata": {
        "id": "5ek1Ksngwms7",
        "colab_type": "code",
        "colab": {
          "base_uri": "https://localhost:8080/",
          "height": 52
        },
        "outputId": "ec893899-a2b7-4023-f8d7-c2c825690f9b"
      },
      "cell_type": "code",
      "source": [
        "from sklearn.model_selection import cross_val_score\n",
        "scores = cross_val_score(autoimmune_knn, X, y, cv=10)\n",
        "print(scores)"
      ],
      "execution_count": 27,
      "outputs": [
        {
          "output_type": "stream",
          "text": [
            "[0.73684211 0.65789474 0.68421053 0.76315789 0.68421053 0.73684211\n",
            " 0.76315789 0.78947368 0.72222222 0.75      ]\n"
          ],
          "name": "stdout"
        }
      ]
    },
    {
      "metadata": {
        "id": "ABtzvQ0mwtCL",
        "colab_type": "code",
        "colab": {
          "base_uri": "https://localhost:8080/",
          "height": 34
        },
        "outputId": "8c50a673-3ada-441c-ba17-a0394ce268c4"
      },
      "cell_type": "code",
      "source": [
        "print(\"Mean of 10-fold cross validation scores : {}\".format(scores.mean()))"
      ],
      "execution_count": 7,
      "outputs": [
        {
          "output_type": "stream",
          "text": [
            "Mean of 10-fold cross validation scores : 0.7288011695906433\n"
          ],
          "name": "stdout"
        }
      ]
    },
    {
      "metadata": {
        "id": "1TOcoFiXOqqU",
        "colab_type": "text"
      },
      "cell_type": "markdown",
      "source": [
        "The accurace of the model is 73%."
      ]
    },
    {
      "metadata": {
        "id": "djJINcUFw2_Q",
        "colab_type": "text"
      },
      "cell_type": "markdown",
      "source": [
        "#### Finding optimal values of k"
      ]
    },
    {
      "metadata": {
        "id": "8A8QEhEdw7ZZ",
        "colab_type": "text"
      },
      "cell_type": "markdown",
      "source": [
        "In the above model, n_neigbors has been set to 5, but this may not give high accuracy. In order to findout the optimum value of k, use GridSearchCv of scikit-learn\n",
        "\n",
        "GridSearchCV will run the model (kNN in this case) with give range of parameters and gives the resulting accuracy scores.\n",
        "\n"
      ]
    },
    {
      "metadata": {
        "id": "x8AjBFhRxwC2",
        "colab_type": "code",
        "colab": {
          "base_uri": "https://localhost:8080/",
          "height": 139
        },
        "outputId": "901526cd-a08f-4440-b54d-c047fb7f1edf"
      },
      "cell_type": "code",
      "source": [
        "from sklearn.model_selection import GridSearchCV\n",
        "parm_grid = dict(n_neighbors=range(1, 20))\n",
        "autoimmune_knn = GridSearchCV(autoimmune, parm_grid, cv=10)\n",
        "autoimmune_knn.fit(X, y)"
      ],
      "execution_count": 28,
      "outputs": [
        {
          "output_type": "execute_result",
          "data": {
            "text/plain": [
              "GridSearchCV(cv=10, error_score='raise',\n",
              "       estimator=KNeighborsClassifier(algorithm='auto', leaf_size=30, metric='minkowski',\n",
              "           metric_params=None, n_jobs=1, n_neighbors=5, p=2,\n",
              "           weights='uniform'),\n",
              "       fit_params=None, iid=True, n_jobs=1,\n",
              "       param_grid={'n_neighbors': range(1, 20)}, pre_dispatch='2*n_jobs',\n",
              "       refit=True, return_train_score='warn', scoring=None, verbose=0)"
            ]
          },
          "metadata": {
            "tags": []
          },
          "execution_count": 28
        }
      ]
    },
    {
      "metadata": {
        "id": "YfmtkpjxyUaA",
        "colab_type": "code",
        "colab": {
          "base_uri": "https://localhost:8080/",
          "height": 208
        },
        "outputId": "fa023c47-dd44-4793-f822-6ea80939a90c"
      },
      "cell_type": "code",
      "source": [
        "print(\"Mean Scores\")\n",
        "print(autoimmune_knn.cv_results_['mean_test_score'])\n",
        "print(\"\\nStd deviation for each score\")\n",
        "print(autoimmune_knn.cv_results_['std_test_score'])"
      ],
      "execution_count": 29,
      "outputs": [
        {
          "output_type": "stream",
          "text": [
            "Mean Scores\n",
            "[0.68617021 0.69414894 0.69148936 0.72606383 0.7287234  0.74202128\n",
            " 0.75       0.76329787 0.75265957 0.74202128 0.75531915 0.7606383\n",
            " 0.7606383  0.73670213 0.75531915 0.74734043 0.75531915 0.75265957\n",
            " 0.75531915]\n",
            "\n",
            "Std deviation for each score\n",
            "[0.07074504 0.0535229  0.06917107 0.05215766 0.03976016 0.03469748\n",
            " 0.03477429 0.04503125 0.03752673 0.05095012 0.04172371 0.0378729\n",
            " 0.0521295  0.06448708 0.05409981 0.06716467 0.06250306 0.05368341\n",
            " 0.06419102]\n"
          ],
          "name": "stdout"
        }
      ]
    },
    {
      "metadata": {
        "id": "nT1DxjWTz3aF",
        "colab_type": "code",
        "colab": {
          "base_uri": "https://localhost:8080/",
          "height": 34
        },
        "outputId": "c562c775-00ee-43b9-bcec-7d8a90d990e6"
      },
      "cell_type": "code",
      "source": [
        "print(\"Best Score for normalised data : {} for {}\".format(autoimmune_knn.best_score_, autoimmune_knn.best_params_))"
      ],
      "execution_count": 14,
      "outputs": [
        {
          "output_type": "stream",
          "text": [
            "Best Score for normalised data : 0.7632978723404256 for {'n_neighbors': 8}\n"
          ],
          "name": "stdout"
        }
      ]
    }
  ]
}