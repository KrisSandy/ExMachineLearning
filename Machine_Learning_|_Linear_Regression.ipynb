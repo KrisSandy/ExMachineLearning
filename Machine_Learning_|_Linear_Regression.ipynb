{
  "nbformat": 4,
  "nbformat_minor": 0,
  "metadata": {
    "colab": {
      "name": "Machine Learning | Linear Regression",
      "version": "0.3.2",
      "provenance": [],
      "collapsed_sections": [],
      "include_colab_link": true
    },
    "kernelspec": {
      "name": "python3",
      "display_name": "Python 3"
    }
  },
  "cells": [
    {
      "cell_type": "markdown",
      "metadata": {
        "id": "view-in-github",
        "colab_type": "text"
      },
      "source": [
        "<a href=\"https://colab.research.google.com/github/KrisSandy/ExMachineLearning/blob/master/Machine_Learning_|_Linear_Regression.ipynb\" target=\"_parent\"><img src=\"https://colab.research.google.com/assets/colab-badge.svg\" alt=\"Open In Colab\"/></a>"
      ]
    },
    {
      "metadata": {
        "id": "2Cl7J0AbGAWo",
        "colab_type": "text"
      },
      "cell_type": "markdown",
      "source": [
        "## Linear Regression"
      ]
    },
    {
      "metadata": {
        "id": "-x8CYaTfcV_3",
        "colab_type": "text"
      },
      "cell_type": "markdown",
      "source": [
        "### Hypothesis\n",
        "\n",
        "\n",
        "$h_\\theta(x) = \\theta^Tx = \\theta_0  + \\theta_1x_1 + ...$"
      ]
    },
    {
      "metadata": {
        "id": "BoFLaRxdIv1O",
        "colab_type": "code",
        "colab": {}
      },
      "cell_type": "code",
      "source": [
        "def predict(X, theta):\n",
        "  X = pd.DataFrame(X)\n",
        "  X.insert(loc=0, column='x0', value=1)\n",
        "  y_predicted = np.matmul(X, theta)\n",
        "  return y_predicted"
      ],
      "execution_count": 0,
      "outputs": []
    },
    {
      "metadata": {
        "id": "f0iRJ4nrczYW",
        "colab_type": "text"
      },
      "cell_type": "markdown",
      "source": [
        "### Cost Function\n",
        "\n",
        "$J(\\theta) = \\frac{1}{m}\\displaystyle\\sum_{i=1}^{m}(h_{\\theta}(x^{(i)})-y^{(i)})^2$\n",
        "\n",
        "##### *Vectorized form* \n",
        "\n",
        "$J(\\theta) = \\frac{1}{2m}(X\\theta - \\overrightarrow{y})^T(X\\theta - \\overrightarrow{y})$"
      ]
    },
    {
      "metadata": {
        "id": "CPSlO5u5168S",
        "colab_type": "text"
      },
      "cell_type": "markdown",
      "source": [
        "##### *Implementation* \n",
        "Below compute_cost function implements a vectorized form of cost function. As vector of X is represented as a matrix with one observation in one row and columns representing the parameters. Below function adds a dummy parameter $x_0$ so that matrix multiplication can be performed with $\\theta$ vector with parameters ${\\theta_0, \\theta_1, ...}$"
      ]
    },
    {
      "metadata": {
        "id": "NT74lCzmG85M",
        "colab_type": "code",
        "colab": {}
      },
      "cell_type": "code",
      "source": [
        "import numpy as np\n",
        "\n",
        "def compute_cost(X, y, theta):\n",
        "  m=len(y)\n",
        "  xt = np.matmul(X.values, theta)\n",
        "  e = xt-y.values\n",
        "  J_theta = (1/(2*m))*np.matmul(np.transpose(e), e)\n",
        "  return J_theta"
      ],
      "execution_count": 0,
      "outputs": []
    },
    {
      "metadata": {
        "id": "8UnxmET23X_J",
        "colab_type": "text"
      },
      "cell_type": "markdown",
      "source": [
        "### Gradient Decent\n",
        "\n",
        "$\\theta_j := \\theta_j - \\alpha\\frac{1}{m}\\displaystyle\\sum_{i=1}^m(h_\\theta(x^{(i)}) - y^{(i)})x_j^{(i)} $\n",
        "\n",
        "##### *Vectorized form* \n",
        "\n",
        "$\\theta_j := \\theta_j - \\frac{\\alpha}{m}X^T(X\\theta - \\overrightarrow{y})$"
      ]
    },
    {
      "metadata": {
        "id": "TLzOlqwqG3dT",
        "colab_type": "code",
        "colab": {}
      },
      "cell_type": "code",
      "source": [
        "def gradient_decent(X, y, theta, aplha, num_iter):\n",
        "  m=len(y)\n",
        "  J_theta_hist = np.array(np.zeros((num_iter)))\n",
        "  X = pd.DataFrame(X)\n",
        "  X.insert(loc=0, column='x0', value=1)\n",
        "  for i in range(0, num_iter):\n",
        "    xt = np.matmul(X.values, theta)\n",
        "    e = xt-y.values\n",
        "    theta = theta - (aplha/m)*np.matmul(np.transpose(X.values), e)\n",
        "    J_theta_hist[i] = compute_cost(X, y, theta)\n",
        "  return theta, J_theta_hist"
      ],
      "execution_count": 0,
      "outputs": []
    },
    {
      "metadata": {
        "id": "ja0h66HOSkL7",
        "colab_type": "text"
      },
      "cell_type": "markdown",
      "source": [
        "## Single variable - Predicting Profit"
      ]
    },
    {
      "metadata": {
        "id": "ON6sq2C-O2t_",
        "colab_type": "text"
      },
      "cell_type": "markdown",
      "source": [
        "This dataset is an example for single variable linear regression. It has two fields, population and profit. In this below implementation, we will be constructing a Linear regression model to redict profit based on population. "
      ]
    },
    {
      "metadata": {
        "id": "n9rFjkrUTXnU",
        "colab_type": "code",
        "colab": {
          "base_uri": "https://localhost:8080/",
          "height": 34
        },
        "outputId": "30678bb2-2367-4689-dc91-9811c045e9a1"
      },
      "cell_type": "code",
      "source": [
        "from google.colab import drive\n",
        "drive.mount('/content/gdrive')"
      ],
      "execution_count": 88,
      "outputs": [
        {
          "output_type": "stream",
          "text": [
            "Drive already mounted at /content/gdrive; to attempt to forcibly remount, call drive.mount(\"/content/gdrive\", force_remount=True).\n"
          ],
          "name": "stdout"
        }
      ]
    },
    {
      "metadata": {
        "id": "kwongMxeT3qD",
        "colab_type": "code",
        "colab": {
          "base_uri": "https://localhost:8080/",
          "height": 206
        },
        "outputId": "fba80f99-0732-4380-e3ee-868e40562b5b"
      },
      "cell_type": "code",
      "source": [
        "import pandas as pd\n",
        "data = pd.read_csv(r'/content/gdrive/My Drive/Coursera/Machine Learning/ex1data1.txt',\n",
        "                  header=None)\n",
        "data.columns = ['population', 'profit']\n",
        "data.head()"
      ],
      "execution_count": 89,
      "outputs": [
        {
          "output_type": "execute_result",
          "data": {
            "text/html": [
              "<div>\n",
              "<style scoped>\n",
              "    .dataframe tbody tr th:only-of-type {\n",
              "        vertical-align: middle;\n",
              "    }\n",
              "\n",
              "    .dataframe tbody tr th {\n",
              "        vertical-align: top;\n",
              "    }\n",
              "\n",
              "    .dataframe thead th {\n",
              "        text-align: right;\n",
              "    }\n",
              "</style>\n",
              "<table border=\"1\" class=\"dataframe\">\n",
              "  <thead>\n",
              "    <tr style=\"text-align: right;\">\n",
              "      <th></th>\n",
              "      <th>population</th>\n",
              "      <th>profit</th>\n",
              "    </tr>\n",
              "  </thead>\n",
              "  <tbody>\n",
              "    <tr>\n",
              "      <th>0</th>\n",
              "      <td>6.1101</td>\n",
              "      <td>17.5920</td>\n",
              "    </tr>\n",
              "    <tr>\n",
              "      <th>1</th>\n",
              "      <td>5.5277</td>\n",
              "      <td>9.1302</td>\n",
              "    </tr>\n",
              "    <tr>\n",
              "      <th>2</th>\n",
              "      <td>8.5186</td>\n",
              "      <td>13.6620</td>\n",
              "    </tr>\n",
              "    <tr>\n",
              "      <th>3</th>\n",
              "      <td>7.0032</td>\n",
              "      <td>11.8540</td>\n",
              "    </tr>\n",
              "    <tr>\n",
              "      <th>4</th>\n",
              "      <td>5.8598</td>\n",
              "      <td>6.8233</td>\n",
              "    </tr>\n",
              "  </tbody>\n",
              "</table>\n",
              "</div>"
            ],
            "text/plain": [
              "   population   profit\n",
              "0      6.1101  17.5920\n",
              "1      5.5277   9.1302\n",
              "2      8.5186  13.6620\n",
              "3      7.0032  11.8540\n",
              "4      5.8598   6.8233"
            ]
          },
          "metadata": {
            "tags": []
          },
          "execution_count": 89
        }
      ]
    },
    {
      "metadata": {
        "id": "5fUolHU5XS6s",
        "colab_type": "code",
        "colab": {
          "base_uri": "https://localhost:8080/",
          "height": 294
        },
        "outputId": "6ec0357d-83ea-43db-84e3-af4545f80a8a"
      },
      "cell_type": "code",
      "source": [
        "%matplotlib inline\n",
        "import matplotlib.pyplot as plt\n",
        "plt.scatter(data['population'], data['profit'], c='r', marker='X')\n",
        "plt.xlabel(\"Population of city in 10,000s\")\n",
        "plt.ylabel(\"Profit in $10,000s\")\n",
        "plt.title(\"Scatter plot of training data\");"
      ],
      "execution_count": 98,
      "outputs": [
        {
          "output_type": "display_data",
          "data": {
            "image/png": "[encoded data removed]",
            "text/plain": [
              "<matplotlib.figure.Figure at 0x7f5fe69d4630>"
            ]
          },
          "metadata": {
            "tags": []
          }
        }
      ]
    },
    {
      "metadata": {
        "id": "Gm6wBOLMcTJo",
        "colab_type": "text"
      },
      "cell_type": "markdown",
      "source": [
        "#### Finding Cost\n",
        "\n"
      ]
    },
    {
      "metadata": {
        "id": "a-9HpqCub6ae",
        "colab_type": "code",
        "colab": {
          "base_uri": "https://localhost:8080/",
          "height": 34
        },
        "outputId": "0f643512-d986-42d4-cd59-9047baa0525d"
      },
      "cell_type": "code",
      "source": [
        "X = data['population']\n",
        "X = pd.DataFrame(X)\n",
        "X.insert(loc=0, column='x0', value=1)\n",
        "y = data['profit']\n",
        "theta = np.array(np.zeros(2))\n",
        "print(compute_cost(X, y, theta))"
      ],
      "execution_count": 91,
      "outputs": [
        {
          "output_type": "stream",
          "text": [
            "32.072733877455676\n"
          ],
          "name": "stdout"
        }
      ]
    },
    {
      "metadata": {
        "id": "OLK9iOmQHjOe",
        "colab_type": "text"
      },
      "cell_type": "markdown",
      "source": [
        "#### Optimising theta"
      ]
    },
    {
      "metadata": {
        "id": "TXeSbckJ69kq",
        "colab_type": "code",
        "colab": {
          "base_uri": "https://localhost:8080/",
          "height": 34
        },
        "outputId": "630092d7-45ea-428d-a39a-bdb77d59e914"
      },
      "cell_type": "code",
      "source": [
        "aplha = 0.01\n",
        "num_iter = 2000\n",
        "X = data['population']\n",
        "y = data['profit']\n",
        "theta = np.array(np.zeros(2))\n",
        "optimised_theta, J_theta_hist = gradient_decent(X, y, theta, aplha, num_iter)\n",
        "print(optimised_theta)"
      ],
      "execution_count": 92,
      "outputs": [
        {
          "output_type": "stream",
          "text": [
            "[-3.78806857  1.18221277]\n"
          ],
          "name": "stdout"
        }
      ]
    },
    {
      "metadata": {
        "id": "7O3d9QWUPj8C",
        "colab_type": "text"
      },
      "cell_type": "markdown",
      "source": [
        "#### Predicting for new cities"
      ]
    },
    {
      "metadata": {
        "id": "lSsq5qWcSagZ",
        "colab_type": "code",
        "colab": {
          "base_uri": "https://localhost:8080/",
          "height": 52
        },
        "outputId": "bf1da5c3-84bd-4e87-f30b-8bfbdb5735ca"
      },
      "cell_type": "code",
      "source": [
        "print(\"Predicted profit for a city with population 35,000 is {}\".format(predict([3.5], optimised_theta)*10000))\n",
        "print(\"Predicted profit for a city with population 70,000 is {}\".format(predict([7], optimised_theta)*10000))"
      ],
      "execution_count": 93,
      "outputs": [
        {
          "output_type": "stream",
          "text": [
            "Predicted profit for a city with population 35,000 is [3496.76138928]\n",
            "Predicted profit for a city with population 70,000 is [44874.20850579]\n"
          ],
          "name": "stdout"
        }
      ]
    },
    {
      "metadata": {
        "id": "Cur93mcmW0_t",
        "colab_type": "text"
      },
      "cell_type": "markdown",
      "source": [
        "#### Cost vs Number of iterations"
      ]
    },
    {
      "metadata": {
        "id": "k_9Qlt4mW0Ar",
        "colab_type": "code",
        "colab": {
          "base_uri": "https://localhost:8080/",
          "height": 294
        },
        "outputId": "2d0b8240-6181-4d58-dc9b-430509aa5ba2"
      },
      "cell_type": "code",
      "source": [
        "plt.plot(range(1,num_iter+1), J_theta_hist)\n",
        "plt.xlabel(\"Number of Iterations\")\n",
        "plt.ylabel(\"Cost\")\n",
        "plt.title(\"Convergence of gradient descent (Cost vs Number of iterations)\");"
      ],
      "execution_count": 94,
      "outputs": [
        {
          "output_type": "display_data",
          "data": {
            "image/png": "[encoded data removed]",
            "text/plain": [
              "<matplotlib.figure.Figure at 0x7f5fe8e357f0>"
            ]
          },
          "metadata": {
            "tags": []
          }
        }
      ]
    },
    {
      "metadata": {
        "id": "Lt_EPo8tH1uI",
        "colab_type": "text"
      },
      "cell_type": "markdown",
      "source": [
        "#### Plotting Linear Regression function"
      ]
    },
    {
      "metadata": {
        "id": "suDrRJ1joCoA",
        "colab_type": "code",
        "colab": {
          "base_uri": "https://localhost:8080/",
          "height": 482
        },
        "outputId": "e41cd95c-888f-440f-ead4-c8ead20d2f02"
      },
      "cell_type": "code",
      "source": [
        "plt.scatter(data['population'], data['profit'], c='r', marker='X')\n",
        "plt.xlabel(\"Population of city in 10,000s\")\n",
        "plt.ylabel(\"Profit in $10,000s\")\n",
        "plt.title(\"Scatter plo?\n",
        "plt.plot(X.values, predict(X)/10000, '-');"
      ],
      "execution_count": 95,
      "outputs": [
        {
          "output_type": "stream",
          "text": [
            "Object `plo` not found.\n"
          ],
          "name": "stdout"
        },
        {
          "output_type": "error",
          "ename": "TypeError",
          "evalue": "ignored",
          "traceback": [
            "\u001b[0;31m---------------------------------------------------------------------------\u001b[0m",
            "\u001b[0;31mTypeError\u001b[0m                                 Traceback (most recent call last)",
            "\u001b[0;32m<ipython-input-95-b4db1f3442aa>\u001b[0m in \u001b[0;36m<module>\u001b[0;34m()\u001b[0m\n\u001b[1;32m      3\u001b[0m \u001b[0mplt\u001b[0m\u001b[0;34m.\u001b[0m\u001b[0mylabel\u001b[0m\u001b[0;34m(\u001b[0m\u001b[0;34m\"Profit in $10,000s\"\u001b[0m\u001b[0;34m)\u001b[0m\u001b[0;34m\u001b[0m\u001b[0m\n\u001b[1;32m      4\u001b[0m \u001b[0mget_ipython\u001b[0m\u001b[0;34m(\u001b[0m\u001b[0;34m)\u001b[0m\u001b[0;34m.\u001b[0m\u001b[0mset_next_input\u001b[0m\u001b[0;34m(\u001b[0m\u001b[0;34m'plt.title(\"Scatter plo'\u001b[0m\u001b[0;34m)\u001b[0m\u001b[0;34m;\u001b[0m\u001b[0mget_ipython\u001b[0m\u001b[0;34m(\u001b[0m\u001b[0;34m)\u001b[0m\u001b[0;34m.\u001b[0m\u001b[0mmagic\u001b[0m\u001b[0;34m(\u001b[0m\u001b[0;34m'pinfo plo'\u001b[0m\u001b[0;34m)\u001b[0m\u001b[0;34m\u001b[0m\u001b[0m\n\u001b[0;32m----> 5\u001b[0;31m \u001b[0mplt\u001b[0m\u001b[0;34m.\u001b[0m\u001b[0mplot\u001b[0m\u001b[0;34m(\u001b[0m\u001b[0mX\u001b[0m\u001b[0;34m.\u001b[0m\u001b[0mvalues\u001b[0m\u001b[0;34m,\u001b[0m \u001b[0mpredict\u001b[0m\u001b[0;34m(\u001b[0m\u001b[0mX\u001b[0m\u001b[0;34m)\u001b[0m\u001b[0;34m/\u001b[0m\u001b[0;36m10000\u001b[0m\u001b[0;34m,\u001b[0m \u001b[0;34m'-'\u001b[0m\u001b[0;34m)\u001b[0m\u001b[0;34m;\u001b[0m\u001b[0;34m\u001b[0m\u001b[0m\n\u001b[0m",
            "\u001b[0;31mTypeError\u001b[0m: predict() missing 1 required positional argument: 'theta'"
          ]
        },
        {
          "output_type": "display_data",
          "data": {
            "image/png": "[encoded data removed]",
            "text/plain": [
              "<matplotlib.figure.Figure at 0x7f5febe25d30>"
            ]
          },
          "metadata": {
            "tags": []
          }
        }
      ]
    },
    {
      "metadata": {
        "id": "Tf-E70sUPCic",
        "colab_type": "code",
        "colab": {
          "base_uri": "https://localhost:8080/",
          "height": 269
        },
        "outputId": "e6777e97-9b78-4a4d-e415-f7e877c7d402"
      },
      "cell_type": "code",
      "source": [
        "theta0 = np.linspace(-10, 10, 100)\n",
        "theta1 = np.linspace(-1, 4, 100)\n",
        "J_val = np.array(np.zeros((len(theta0), len(theta1))))\n",
        "X = data['population']\n",
        "X = pd.DataFrame(X)\n",
        "X.insert(loc=0, column='x0', value=1)\n",
        "y = data['profit']\n",
        "\n",
        "for i in range(0, len(theta0)):\n",
        "  for j in range(0, len(theta1)):\n",
        "    t = np.array([theta0[i], theta1[j]])\n",
        "    J_val[i,j] = compute_cost(X, y, t)\n",
        "    \n",
        "#We need to ranspose the values because of the way contor plots work\n",
        "J_val = np.transpose(J_val)\n",
        "plt.contour(theta0, theta1, J_val, np.logspace(-2, 3, 30), cmap='rainbow');"
      ],
      "execution_count": 12,
      "outputs": [
        {
          "output_type": "display_data",
          "data": {
            "image/png": "[encoded data removed]",
            "text/plain": [
              "<matplotlib.figure.Figure at 0x7f5feb726780>"
            ]
          },
          "metadata": {
            "tags": []
          }
        }
      ]
    },
    {
      "metadata": {
        "id": "-V-N16PXaXXY",
        "colab_type": "text"
      },
      "cell_type": "markdown",
      "source": [
        "#### Impact of changing Learning Rate"
      ]
    },
    {
      "metadata": {
        "id": "2SHGAUKJaW8b",
        "colab_type": "code",
        "colab": {
          "base_uri": "https://localhost:8080/",
          "height": 294
        },
        "outputId": "24e0cad8-6a3a-42fc-b5b3-44232adcc3e7"
      },
      "cell_type": "code",
      "source": [
        "aplha = 0.01\n",
        "num_iter = 2000\n",
        "X = data['population']\n",
        "y = data['profit']\n",
        "theta = np.array(np.zeros(2))\n",
        "_, J1 = gradient_decent(X, y, theta, aplha, num_iter)\n",
        "aplha = 0.02\n",
        "X = data['population']\n",
        "theta = np.array(np.zeros(2))\n",
        "_, J2 = gradient_decent(X, y, theta, aplha, num_iter)\n",
        "plt.plot(range(1,num_iter+1), J1)\n",
        "plt.plot(range(1,num_iter+1), J2)\n",
        "plt.xlabel(\"Number of Iterations\")\n",
        "plt.ylabel(\"Cost\")\n",
        "plt.title(\"Convergence of gradient descent (w.r.t aplha)\");"
      ],
      "execution_count": 13,
      "outputs": [
        {
          "output_type": "display_data",
          "data": {
            "image/png": "[encoded data removed]",
            "text/plain": [
              "<matplotlib.figure.Figure at 0x7f5fe8dff5f8>"
            ]
          },
          "metadata": {
            "tags": []
          }
        }
      ]
    },
    {
      "metadata": {
        "id": "0h_j35jZIBrD",
        "colab_type": "text"
      },
      "cell_type": "markdown",
      "source": [
        "## Multi Variable Linear Regression"
      ]
    },
    {
      "metadata": {
        "id": "glrnCT7gZaJY",
        "colab_type": "code",
        "colab": {
          "base_uri": "https://localhost:8080/",
          "height": 206
        },
        "outputId": "8a1f4f35-35c4-492f-9026-8529ce3e2169"
      },
      "cell_type": "code",
      "source": [
        "import pandas as pd\n",
        "datam = pd.read_csv(r'/content/gdrive/My Drive/Coursera/Machine Learning/ex1data2.txt',\n",
        "                  header=None)\n",
        "datam.columns = ['size', 'bedrooms', 'price']\n",
        "datam.head()"
      ],
      "execution_count": 14,
      "outputs": [
        {
          "output_type": "execute_result",
          "data": {
            "text/html": [
              "<div>\n",
              "<style scoped>\n",
              "    .dataframe tbody tr th:only-of-type {\n",
              "        vertical-align: middle;\n",
              "    }\n",
              "\n",
              "    .dataframe tbody tr th {\n",
              "        vertical-align: top;\n",
              "    }\n",
              "\n",
              "    .dataframe thead th {\n",
              "        text-align: right;\n",
              "    }\n",
              "</style>\n",
              "<table border=\"1\" class=\"dataframe\">\n",
              "  <thead>\n",
              "    <tr style=\"text-align: right;\">\n",
              "      <th></th>\n",
              "      <th>size</th>\n",
              "      <th>bedrooms</th>\n",
              "      <th>price</th>\n",
              "    </tr>\n",
              "  </thead>\n",
              "  <tbody>\n",
              "    <tr>\n",
              "      <th>0</th>\n",
              "      <td>2104</td>\n",
              "      <td>3</td>\n",
              "      <td>399900</td>\n",
              "    </tr>\n",
              "    <tr>\n",
              "      <th>1</th>\n",
              "      <td>1600</td>\n",
              "      <td>3</td>\n",
              "      <td>329900</td>\n",
              "    </tr>\n",
              "    <tr>\n",
              "      <th>2</th>\n",
              "      <td>2400</td>\n",
              "      <td>3</td>\n",
              "      <td>369000</td>\n",
              "    </tr>\n",
              "    <tr>\n",
              "      <th>3</th>\n",
              "      <td>1416</td>\n",
              "      <td>2</td>\n",
              "      <td>232000</td>\n",
              "    </tr>\n",
              "    <tr>\n",
              "      <th>4</th>\n",
              "      <td>3000</td>\n",
              "      <td>4</td>\n",
              "      <td>539900</td>\n",
              "    </tr>\n",
              "  </tbody>\n",
              "</table>\n",
              "</div>"
            ],
            "text/plain": [
              "   size  bedrooms   price\n",
              "0  2104         3  399900\n",
              "1  1600         3  329900\n",
              "2  2400         3  369000\n",
              "3  1416         2  232000\n",
              "4  3000         4  539900"
            ]
          },
          "metadata": {
            "tags": []
          },
          "execution_count": 14
        }
      ]
    },
    {
      "metadata": {
        "id": "RWorM3V2GxS1",
        "colab_type": "text"
      },
      "cell_type": "markdown",
      "source": [
        "#### Normalizing Data"
      ]
    },
    {
      "metadata": {
        "id": "IuIJi5TrG1RM",
        "colab_type": "text"
      },
      "cell_type": "markdown",
      "source": [
        "From the data, its evident that each column has different range of data and data ranges vary a lot from column to column. Hence in order to reduce the impact of huge numbers (square feet) on the small numbers like bedrooms, we need to scale the data. \n",
        "\n",
        "We an use z-normalization in which we scale the data such that mean of the entire column becomes zero by using below formula for each value\n",
        "\n",
        "$x_i^{'} = \\frac{x_i- \\mu}{\\sigma}$\n",
        "\n",
        "This can be done using sklearns preprocessing method."
      ]
    },
    {
      "metadata": {
        "id": "0k9wxVb_aSPd",
        "colab_type": "code",
        "colab": {
          "base_uri": "https://localhost:8080/",
          "height": 34
        },
        "outputId": "1da953b9-57af-40a4-f148-337986ef6687"
      },
      "cell_type": "code",
      "source": [
        "aplha = 0.02\n",
        "num_iter = 400\n",
        "X = datam.drop(columns=['price'])\n",
        "X_norm = preprocessing.scale(X)\n",
        "y = datam['price']\n",
        "theta = np.array(np.zeros(X_norm.shape[1]+1))\n",
        "optimised_theta, J_theta_hist = gradient_decent(X_norm, y, theta, aplha, num_iter)\n",
        "print(optimised_theta)"
      ],
      "execution_count": 75,
      "outputs": [
        {
          "output_type": "stream",
          "text": [
            "[340307.35772969 107757.47433209  -4888.35338493]\n"
          ],
          "name": "stdout"
        }
      ]
    },
    {
      "metadata": {
        "id": "lrVavqjUDtP0",
        "colab_type": "code",
        "colab": {
          "base_uri": "https://localhost:8080/",
          "height": 34
        },
        "outputId": "ab39a124-4ae5-44d2-9322-01423c826420"
      },
      "cell_type": "code",
      "source": [
        "X=np.array([[1650.0, 3.0]])\n",
        "X_norm = preprocessing.scale(X)\n",
        "print(\"Predicted house price for a house with size 1650 sq.ft and 3 bedroom is {}\".format(predict(X_norm, optimised_theta)[0]))"
      ],
      "execution_count": 78,
      "outputs": [
        {
          "output_type": "stream",
          "text": [
            "Predicted house price for a house with size 1650 sq.ft and 3 bedroom is 340307.3577296875\n"
          ],
          "name": "stdout"
        }
      ]
    },
    {
      "metadata": {
        "id": "ZgczoxPqJ9bN",
        "colab_type": "text"
      },
      "cell_type": "markdown",
      "source": [
        "##Normal Equation"
      ]
    },
    {
      "metadata": {
        "id": "ZFOL9cF1VRef",
        "colab_type": "text"
      },
      "cell_type": "markdown",
      "source": [
        "All the above tasks of feature scaling, gradient descent etc to find theta can be done in one equation shown below\n",
        "\n",
        "$\\theta = (X^TX)^{-1}X^T\\overrightarrow{y}$"
      ]
    },
    {
      "metadata": {
        "id": "OdM_kFFhV5FH",
        "colab_type": "code",
        "colab": {
          "base_uri": "https://localhost:8080/",
          "height": 34
        },
        "outputId": "e628b1dd-8591-49a8-96e4-05138fb8f2c8"
      },
      "cell_type": "code",
      "source": [
        "X = datam.drop(columns=['price'])\n",
        "y = datam['price']\n",
        "X.insert(loc=0, column='x0', value=1)\n",
        "Xt = np.transpose(X)\n",
        "normal_theta = np.matmul(np.matmul(np.linalg.inv(np.matmul(Xt, X)), Xt), y.values)\n",
        "normal_theta"
      ],
      "execution_count": 83,
      "outputs": [
        {
          "output_type": "execute_result",
          "data": {
            "text/plain": [
              "array([89597.9095428 ,   139.21067402, -8738.01911233])"
            ]
          },
          "metadata": {
            "tags": []
          },
          "execution_count": 83
        }
      ]
    },
    {
      "metadata": {
        "id": "72JMqoAbXS0Y",
        "colab_type": "code",
        "colab": {
          "base_uri": "https://localhost:8080/",
          "height": 34
        },
        "outputId": "bb016fd7-6ad6-4202-ee8e-57fda5d93ff5"
      },
      "cell_type": "code",
      "source": [
        "X=np.array([[1650.0, 3.0]])\n",
        "print(\"Predicted house price for a house with size 1650 sq.ft and 3 bedroom is {}\".format(predict(X, normal_theta)[0]))"
      ],
      "execution_count": 84,
      "outputs": [
        {
          "output_type": "stream",
          "text": [
            "Predicted house price for a house with size 1650 sq.ft and 3 bedroom is 293081.4643348959\n"
          ],
          "name": "stdout"
        }
      ]
    }
  ]
}