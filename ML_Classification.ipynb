{
  "nbformat": 4,
  "nbformat_minor": 0,
  "metadata": {
    "colab": {
      "name": "ML Classification",
      "version": "0.3.2",
      "provenance": [],
      "collapsed_sections": [],
      "include_colab_link": true
    },
    "kernelspec": {
      "name": "python3",
      "display_name": "Python 3"
    }
  },
  "cells": [
    {
      "cell_type": "markdown",
      "metadata": {
        "id": "view-in-github",
        "colab_type": "text"
      },
      "source": [
        "[View in Colaboratory](https://colab.research.google.com/github/KrisSandy/MachineLearning/blob/master/ML_Classification.ipynb)"
      ]
    },
    {
      "metadata": {
        "id": "L8rsZzq1WgBM",
        "colab_type": "text"
      },
      "cell_type": "markdown",
      "source": [
        "# Machine Learning - Classification\n",
        "Author: SandyBoy"
      ]
    },
    {
      "metadata": {
        "id": "YNCiiHDYbs-A",
        "colab_type": "text"
      },
      "cell_type": "markdown",
      "source": [
        "## Why scikit-learn"
      ]
    },
    {
      "metadata": {
        "id": "vBWrRNEFWtEs",
        "colab_type": "text"
      },
      "cell_type": "markdown",
      "source": [
        "There are many open source Machine learning packages available in the market. TensorFlow, SciKit-learn, Caffe are few to name. For this task I have chosen scikit-learn library which is an open source package developed in python. scikit-learn along with other scientific packages in python (pandas, numpy etc) provides powerful data processing and machine learning tools which can be leveraged with ease.\n",
        "\n",
        "Besides readily available implementation of K Nearest Neighbors algorithm, below are some of the main reasons for choosing scikit-learn\n",
        "\n",
        "\n",
        "*   scikit-learn is open source package implemented in python.\n",
        "*   Its regularly updated with more than 1 release per year which means the packages are up to date.\n",
        "* Easy to use \n",
        "* It has implementations for most of the machine learning tasks such as Clustering, Classification, Regression etc.\n",
        "* Very good and up to date documentation available.\n",
        "\n",
        "Beow are some of the features of scikit learn:\n",
        "\n",
        "*  Powerful functions for data pre processing, transformations and data normalization.\n",
        "*  Functions to perform many of the Classification, Regression, Clustering algorithms. All the algorithms follow same design principles, so it is easy to adopt and use different machine learning algorithms. \n",
        "* Provides powerful functions for Dimensionality reduction \n",
        "\n",
        "\n",
        "*Reference: https://www.oreilly.com/ideas/six-reasons-why-i-recommend-scikit-learn*\n"
      ]
    },
    {
      "metadata": {
        "id": "nhbriW06b3-W",
        "colab_type": "text"
      },
      "cell_type": "markdown",
      "source": [
        "## Data Pre-processing"
      ]
    },
    {
      "metadata": {
        "id": "0PtJzlvmSN7D",
        "colab_type": "text"
      },
      "cell_type": "markdown",
      "source": [
        ""
      ]
    },
    {
      "metadata": {
        "id": "g5ygSy_McMKt",
        "colab_type": "text"
      },
      "cell_type": "markdown",
      "source": [
        "Below are the steps followed for getting the data in to the format used by scikit learn:\n",
        "\n",
        "* Data in the dataset is separated by tab. Each row represents an attribute and columns represent each individual patients. \n",
        "\n",
        "* In order to load the data into pandas dataframe, the file is read using read_csv using the separator as tab ('\\t'). A transpose of the dataframe is required to bring the data into traditional format i.e. features in columns and observations (patients) in rows. \n",
        "\n",
        "* After getting the data in desired format, column names are added to give more sense and completeness to the dataframe.\n",
        "\n",
        "* Data and Response used to train and test the models should be in numbers as numpy arrays. So Autoimmune_Disease column needs to be converted to 0 and 1 representing negative and positive respectively. "
      ]
    },
    {
      "metadata": {
        "id": "UpXmQt6Efon5",
        "colab_type": "code",
        "colab": {
          "base_uri": "https://localhost:8080/",
          "height": 34
        },
        "outputId": "1a0064e5-8a23-4a75-88ec-cf8caaa1bc3b"
      },
      "cell_type": "code",
      "source": [
        "from google.colab import drive\n",
        "drive.mount('/content/gdrive')"
      ],
      "execution_count": 1,
      "outputs": [
        {
          "output_type": "stream",
          "text": [
            "Mounted at /content/gdrive\n"
          ],
          "name": "stdout"
        }
      ]
    },
    {
      "metadata": {
        "id": "LL3TIi1CgFyj",
        "colab_type": "code",
        "colab": {}
      },
      "cell_type": "code",
      "source": [
        "import pandas as pd\n",
        "import numpy\n",
        "fields = ['Age', 'Blood_Pressure', 'BMI', 'Plasma_level', 'Autoimmune_Disease', \n",
        "          'Adverse_events', 'Drug_in_serum', 'Liver_function', 'Activity_test',\n",
        "          'Secondary_test']\n",
        "autoimmune_data = pd.read_csv(r'/content/gdrive/My Drive/GYE06/CT475_ML/autoimmune.txt',\n",
        "                 sep='\\t',\n",
        "                 header=None\n",
        "                )\n",
        "autoimmune_data = autoimmune_data.transpose()\n",
        "autoimmune_data.columns = fields\n",
        "autoimmune_data['Autoimmune_Disease'] = autoimmune_data['Autoimmune_Disease'] \\\n",
        ".map({'negative':0, 'positive':1})"
      ],
      "execution_count": 0,
      "outputs": []
    },
    {
      "metadata": {
        "id": "pkJ578ehgnEH",
        "colab_type": "text"
      },
      "cell_type": "markdown",
      "source": [
        "## kNN (k-Nearest Neighbours)"
      ]
    },
    {
      "metadata": {
        "id": "NO3rLj3TiGOB",
        "colab_type": "text"
      },
      "cell_type": "markdown",
      "source": [
        "k Nearest Neighbors algorithm is an instance based learning algorithm used for classification. This algorithm predicts the outcome by calculating the distance from the query point to all the data points.  It then takes the k nearest data points and classifies the query point as the category with higest number in the k data points. Distance can be measured either as Euclidean, or Cosign, or Manhattan or Hamming distance. \n",
        "\n",
        "Scikit-learn's KNeighborsClassifier has been used for implementing k Nearest Neighbors algorithm. The default distance measurement for kNN algorithm in scikitlearn is 'minkowski'. This can be changed to euclidean distance by using metrics parameter.\n"
      ]
    },
    {
      "metadata": {
        "id": "4hocb-m4-ilW",
        "colab_type": "text"
      },
      "cell_type": "markdown",
      "source": [
        "#### Normalizing data"
      ]
    },
    {
      "metadata": {
        "id": "E5w2jYa3-2vr",
        "colab_type": "text"
      },
      "cell_type": "markdown",
      "source": [
        "When the attributes in the data have wide range of values, attributes with large number range will have more impact during the distance calculation than attributes with smaller number range. Hence data must be normalized. We will be using z normalization, which means data will be scaled in such a way that mean of an attribute is zero and standard deviation is 1\n"
      ]
    },
    {
      "metadata": {
        "id": "gXeIEDRpn_ps",
        "colab_type": "code",
        "colab": {
          "base_uri": "https://localhost:8080/",
          "height": 51
        },
        "outputId": "d4771f39-e17b-44d6-c029-a7144f55416a"
      },
      "cell_type": "code",
      "source": [
        "from sklearn.model_selection import train_test_split\n",
        "from sklearn import preprocessing\n",
        "\n",
        "X = autoimmune_data.drop(columns = ['Autoimmune_Disease'])\n",
        "y = autoimmune_data['Autoimmune_Disease']\n",
        "X_scaled = preprocessing.scale(X)\n",
        "X_scaled.mean(axis=0) # axis=0 indicated that mean should be taken wrt col\n",
        "X_train, X_test, y_train, y_test = train_test_split(X_scaled, y)\n",
        "print(X_train.shape)\n",
        "print(X_test.shape)"
      ],
      "execution_count": 3,
      "outputs": [
        {
          "output_type": "stream",
          "text": [
            "(282, 9)\n",
            "(94, 9)\n"
          ],
          "name": "stdout"
        }
      ]
    },
    {
      "metadata": {
        "id": "-7Yxn566wfZq",
        "colab_type": "text"
      },
      "cell_type": "markdown",
      "source": [
        "#### Implementing kNN"
      ]
    },
    {
      "metadata": {
        "id": "g0qxWkyJoLbX",
        "colab_type": "code",
        "colab": {
          "base_uri": "https://localhost:8080/",
          "height": 34
        },
        "outputId": "efc7eafb-0d03-4066-cc77-e088421cb551"
      },
      "cell_type": "code",
      "source": [
        "from sklearn.neighbors import KNeighborsClassifier\n",
        "\n",
        "autoimmune_knn = KNeighborsClassifier(n_neighbors=7, metric='euclidean')\n",
        "autoimmune_knn.fit(X_train, y_train)\n",
        "accuracy_knn = autoimmune_knn.score(X_test, y_test)\n",
        "print(\"The accuracy of the model using k=5 is {}\".format(accuracy_knn))"
      ],
      "execution_count": 4,
      "outputs": [
        {
          "output_type": "stream",
          "text": [
            "The accuracy of the model using k=5 is 0.7659574468085106\n"
          ],
          "name": "stdout"
        }
      ]
    },
    {
      "metadata": {
        "id": "x_C49xCq_6M0",
        "colab_type": "text"
      },
      "cell_type": "markdown",
      "source": [
        "## Logistic Regression"
      ]
    },
    {
      "metadata": {
        "id": "Qrk151XY_-Jf",
        "colab_type": "text"
      },
      "cell_type": "markdown",
      "source": [
        "Logistic regression is a machine learning technique used for classification problems. In this technique the probability of the response is calculated for the give predictors using sigmoid function:\n",
        "\n",
        "`sigmoid(t) = (1/1+e^-t)`\n",
        "\n",
        "This range of the sigmoid function is between 0 and 1. \n",
        "\n",
        "In this example, after training a logistic regression model with the data, for new example if the output of the sigmoid function is > 0.5, then we can say its a case of autoimmune disease, and if the result if < 0.5, then its otherwise.\n"
      ]
    },
    {
      "metadata": {
        "id": "n1spNEQRH5gt",
        "colab_type": "code",
        "colab": {
          "base_uri": "https://localhost:8080/",
          "height": 34
        },
        "outputId": "6203aaf9-f7df-4e9f-bf23-7b5534fb2818"
      },
      "cell_type": "code",
      "source": [
        "from sklearn.linear_model import LogisticRegression\n",
        "autoimmune_log_reg = LogisticRegression()\n",
        "autoimmune_log_reg.fit(X_train, y_train)\n",
        "accuracy_log_reg = autoimmune_log_reg.score(X_test, y_test)\n",
        "print(\"Accuracy using Logistic Regression is {}\".format(accuracy_log_reg))"
      ],
      "execution_count": 5,
      "outputs": [
        {
          "output_type": "stream",
          "text": [
            "Accuracy using Logistic Regression is 0.8297872340425532\n"
          ],
          "name": "stdout"
        }
      ]
    },
    {
      "metadata": {
        "id": "C-QaJv3eILHU",
        "colab_type": "text"
      },
      "cell_type": "markdown",
      "source": [
        "References: \n",
        "\n",
        "Logistic Regression: https://towardsdatascience.com/logistic-regression-detailed-overview-46c4da4303bc \n",
        "\n"
      ]
    },
    {
      "metadata": {
        "id": "aBd22-n9wilk",
        "colab_type": "text"
      },
      "cell_type": "markdown",
      "source": [
        "## 10-fold cross Validation"
      ]
    },
    {
      "metadata": {
        "id": "bL2TRMbZNTUe",
        "colab_type": "text"
      },
      "cell_type": "markdown",
      "source": [
        "k fold cross validation is a technique used to find the accuracy of the model. In this technique the dataset is divided into k folds. The training of the model is done using k-1 folds and 1 fold is used for testing the model. This process is repeated k-1 times and changing the testing fold in each iteration. The accuracy of the model is calculated for each iteration and the mean of all the accuracies are taken to get the model accuracy.\n"
      ]
    },
    {
      "metadata": {
        "id": "fT461FwbN-e5",
        "colab_type": "text"
      },
      "cell_type": "markdown",
      "source": [
        "#### 10-fold cross validation for kNN"
      ]
    },
    {
      "metadata": {
        "id": "CZ9MGiZpOD8z",
        "colab_type": "text"
      },
      "cell_type": "markdown",
      "source": [
        "scikit-learn provides a inbuit function which performs the k fold validatio given k. The code is as below"
      ]
    },
    {
      "metadata": {
        "id": "5ek1Ksngwms7",
        "colab_type": "code",
        "colab": {
          "base_uri": "https://localhost:8080/",
          "height": 34
        },
        "outputId": "6bf77262-0bf8-4661-bdb5-ea90bc96db6c"
      },
      "cell_type": "code",
      "source": [
        "from sklearn.model_selection import cross_val_score\n",
        "scores = cross_val_score(KNeighborsClassifier(n_neighbors=7), X, y, cv=10)\n",
        "print(\"Mean of 10-fold cross validation scores : {}\".format(scores.mean()))"
      ],
      "execution_count": 6,
      "outputs": [
        {
          "output_type": "stream",
          "text": [
            "Mean of 10-fold cross validation scores : 0.7501461988304092\n"
          ],
          "name": "stdout"
        }
      ]
    },
    {
      "metadata": {
        "id": "djJINcUFw2_Q",
        "colab_type": "text"
      },
      "cell_type": "markdown",
      "source": [
        "#### Finding optimal values of k"
      ]
    },
    {
      "metadata": {
        "id": "8A8QEhEdw7ZZ",
        "colab_type": "text"
      },
      "cell_type": "markdown",
      "source": [
        "In the above model, n_neigbors has been set to 5, but this may not give high accuracy. In order to find out the optimum value of k, use GridSearchCv of scikit-learn\n",
        "\n",
        "GridSearchCV will run the model (kNN in this case) with give range of parameters and gives the resulting accuracy scores.\n"
      ]
    },
    {
      "metadata": {
        "id": "x8AjBFhRxwC2",
        "colab_type": "code",
        "colab": {
          "base_uri": "https://localhost:8080/",
          "height": 136
        },
        "outputId": "7c8a20af-b30e-4f25-dcf7-1e6a881ab9c8"
      },
      "cell_type": "code",
      "source": [
        "from sklearn.model_selection import GridSearchCV\n",
        "param_grid = dict(n_neighbors=range(1, 20))\n",
        "autoimmune_knn = GridSearchCV(KNeighborsClassifier(n_neighbors=1), param_grid, cv=10)\n",
        "autoimmune_knn.fit(X_scaled, y)"
      ],
      "execution_count": 7,
      "outputs": [
        {
          "output_type": "execute_result",
          "data": {
            "text/plain": [
              "GridSearchCV(cv=10, error_score='raise',\n",
              "       estimator=KNeighborsClassifier(algorithm='auto', leaf_size=30, metric='minkowski',\n",
              "           metric_params=None, n_jobs=1, n_neighbors=1, p=2,\n",
              "           weights='uniform'),\n",
              "       fit_params=None, iid=True, n_jobs=1,\n",
              "       param_grid={'n_neighbors': range(1, 20)}, pre_dispatch='2*n_jobs',\n",
              "       refit=True, return_train_score='warn', scoring=None, verbose=0)"
            ]
          },
          "metadata": {
            "tags": []
          },
          "execution_count": 7
        }
      ]
    },
    {
      "metadata": {
        "id": "YfmtkpjxyUaA",
        "colab_type": "code",
        "colab": {
          "base_uri": "https://localhost:8080/",
          "height": 296
        },
        "outputId": "7bc384aa-569a-4024-d2db-b50406303351"
      },
      "cell_type": "code",
      "source": [
        "import matplotlib.pyplot as plt\n",
        "%matplotlib inline\n",
        "\n",
        "plt.plot(range(1, 20), autoimmune_knn.cv_results_['mean_test_score'])\n",
        "plt.xlabel('k value')\n",
        "plt.ylabel('score')"
      ],
      "execution_count": 8,
      "outputs": [
        {
          "output_type": "execute_result",
          "data": {
            "text/plain": [
              "Text(0,0.5,'score')"
            ]
          },
          "metadata": {
            "tags": []
          },
          "execution_count": 8
        },
        {
          "output_type": "display_data",
          "data": {
            "image/png": "[encoded data removed]",
            "text/plain": [
              "<matplotlib.figure.Figure at 0x7fb4b34d4978>"
            ]
          },
          "metadata": {
            "tags": []
          }
        }
      ]
    },
    {
      "metadata": {
        "id": "nT1DxjWTz3aF",
        "colab_type": "code",
        "colab": {
          "base_uri": "https://localhost:8080/",
          "height": 34
        },
        "outputId": "9387a1d0-38a2-4829-d634-5d321d2dbd61"
      },
      "cell_type": "code",
      "source": [
        "print(\"Best Score for normalised data : {} for {}\".format(autoimmune_knn.best_score_, autoimmune_knn.best_params_))"
      ],
      "execution_count": 9,
      "outputs": [
        {
          "output_type": "stream",
          "text": [
            "Best Score for normalised data : 0.773936170212766 for {'n_neighbors': 5}\n"
          ],
          "name": "stdout"
        }
      ]
    },
    {
      "metadata": {
        "id": "zKPLxotidB96",
        "colab_type": "text"
      },
      "cell_type": "markdown",
      "source": [
        "#### 10-fold cross validation for Logistic Regression"
      ]
    },
    {
      "metadata": {
        "id": "vM93jySLdK69",
        "colab_type": "code",
        "colab": {
          "base_uri": "https://localhost:8080/",
          "height": 34
        },
        "outputId": "e227389e-5e68-4349-dab1-ea656ce4b006"
      },
      "cell_type": "code",
      "source": [
        "autoimmune_log_reg = LogisticRegression()\n",
        "accuracy_log_reg = cross_val_score(autoimmune_log_reg, X, y, cv=10).mean()\n",
        "print(\"Accuracy using Logistic Regression is {}\".format(accuracy_log_reg))"
      ],
      "execution_count": 10,
      "outputs": [
        {
          "output_type": "stream",
          "text": [
            "Accuracy using Logistic Regression is 0.7818713450292398\n"
          ],
          "name": "stdout"
        }
      ]
    },
    {
      "metadata": {
        "id": "lFGIeKdfgZr5",
        "colab_type": "text"
      },
      "cell_type": "markdown",
      "source": [
        "## Conclusion"
      ]
    },
    {
      "metadata": {
        "id": "_JVqOxkSgb9Y",
        "colab_type": "text"
      },
      "cell_type": "markdown",
      "source": [
        "Both the models gave similar accuracy scores, in fact logistic regression model gave slightly hgher score compared to kNN. Though both the models gave similar accuracies, we have achieved only around 78% accuracy. This may be that we have very less data to train the models and the accuracy may increase by collecting more samples and hence covering even wider and better range of values."
      ]
    },
    {
      "metadata": {
        "id": "IQOqkB9QReGU",
        "colab_type": "text"
      },
      "cell_type": "markdown",
      "source": [
        "####References "
      ]
    },
    {
      "metadata": {
        "id": "9TdzNZcRRgud",
        "colab_type": "text"
      },
      "cell_type": "markdown",
      "source": [
        "\n",
        "\n",
        "*   http://scikit-learn.org/stable/index.html (Documentation related to train_test_split, KNeighborsClassifier, LogisticRegression, GridSearchCV, cross_val_score)\n",
        "*   https://www.dataschool.io/machine-learning-with-scikit-learn/\n",
        "\n",
        "\n"
      ]
    }
  ]
}