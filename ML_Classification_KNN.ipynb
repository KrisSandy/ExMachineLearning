{
  "nbformat": 4,
  "nbformat_minor": 0,
  "metadata": {
    "colab": {
      "name": "ML Classification KNN",
      "version": "0.3.2",
      "provenance": [],
      "collapsed_sections": [],
      "include_colab_link": true
    },
    "kernelspec": {
      "name": "python3",
      "display_name": "Python 3"
    }
  },
  "cells": [
    {
      "cell_type": "markdown",
      "metadata": {
        "id": "view-in-github",
        "colab_type": "text"
      },
      "source": [
        "<a href=\"https://colab.research.google.com/github/KrisSandy/ExMachineLearning/blob/master/ML_Classification_KNN.ipynb\" target=\"_parent\"><img src=\"https://colab.research.google.com/assets/colab-badge.svg\" alt=\"Open In Colab\"/></a>"
      ]
    },
    {
      "metadata": {
        "id": "L8rsZzq1WgBM",
        "colab_type": "text"
      },
      "cell_type": "markdown",
      "source": [
        "# Machine Learning | Classification | K Nearest Neighbors\n",
        "Author: SandyBoy"
      ]
    },
    {
      "metadata": {
        "id": "YNCiiHDYbs-A",
        "colab_type": "text"
      },
      "cell_type": "markdown",
      "source": [
        "## Why scikit-learn"
      ]
    },
    {
      "metadata": {
        "id": "vBWrRNEFWtEs",
        "colab_type": "text"
      },
      "cell_type": "markdown",
      "source": [
        "There are many open source Machine learning packages available in the market. TensorFlow, SciKit-learn, Caffe are few to name. For this task I have chosen scikit-learn library which is an open source package developed in python. scikit-learn along with other scientific packages in python (pandas, numpy etc) provides powerful data processing and machine learning tools which can be leveraged with ease.\n",
        "\n",
        "Besides readily available implementation of K Nearest Neighbors algorithm, below are some of the main reasons for choosing scikit-learn\n",
        "\n",
        "\n",
        "*   scikit-learn is open source package implemented in python.\n",
        "*   Its regularly updated with more than 1 release per year which means the packages are up to date.\n",
        "* Easy to use \n",
        "* It has implementations for most of the machine learning tasks such as Clustering, Classification, Regression etc.\n",
        "* Very good and up to date documentation available.\n",
        "\n",
        "Beow are some of the features of scikit learn:\n",
        "\n",
        "*  Powerful functions for data pre processing, transformations and data normalization.\n",
        "*  Functions to perform many of the Classification, Regression, Clustering algorithms. All the algorithms follow same design principles, so it is easy to adopt and use different machine learning algorithms. \n",
        "* Provides powerful functions for Dimensionality reduction \n",
        "\n",
        "\n",
        "*Reference: https://www.oreilly.com/ideas/six-reasons-why-i-recommend-scikit-learn*\n"
      ]
    },
    {
      "metadata": {
        "id": "nhbriW06b3-W",
        "colab_type": "text"
      },
      "cell_type": "markdown",
      "source": [
        "## Data Pre-processing"
      ]
    },
    {
      "metadata": {
        "id": "0PtJzlvmSN7D",
        "colab_type": "text"
      },
      "cell_type": "markdown",
      "source": [
        ""
      ]
    },
    {
      "metadata": {
        "id": "g5ygSy_McMKt",
        "colab_type": "text"
      },
      "cell_type": "markdown",
      "source": [
        "Below are the steps followed for getting the data in to the format used by scikit learn:\n",
        "\n",
        "* Data in the dataset is separated by tab. Each row represents an attribute and columns represent each individual patients. \n",
        "\n",
        "* In order to load the data into pandas dataframe, the file is read using read_csv using the separator as tab ('\\t'). A transpose of the dataframe is required to bring the data into traditional format i.e. features in columns and observations (patients) in rows. \n",
        "\n",
        "* After getting the data in desired format, column names are added to give more sense and completeness to the dataframe.\n",
        "\n",
        "* Data and Response used to train and test the models should be in numbers as numpy arrays. So Autoimmune_Disease column needs to be converted to 0 and 1 representing negative and positive respectively. "
      ]
    },
    {
      "metadata": {
        "id": "UpXmQt6Efon5",
        "colab_type": "code",
        "outputId": "852630b3-f246-41b2-8588-81d8dec84802",
        "colab": {
          "base_uri": "https://localhost:8080/",
          "height": 34
        }
      },
      "cell_type": "code",
      "source": [
        "from google.colab import drive\n",
        "drive.mount('/content/gdrive')"
      ],
      "execution_count": 8,
      "outputs": [
        {
          "output_type": "stream",
          "text": [
            "Drive already mounted at /content/gdrive; to attempt to forcibly remount, call drive.mount(\"/content/gdrive\", force_remount=True).\n"
          ],
          "name": "stdout"
        }
      ]
    },
    {
      "metadata": {
        "id": "LL3TIi1CgFyj",
        "colab_type": "code",
        "colab": {}
      },
      "cell_type": "code",
      "source": [
        "import pandas as pd\n",
        "import numpy\n",
        "fields = ['Age', 'Blood_Pressure', 'BMI', 'Plasma_level', 'Autoimmune_Disease', \n",
        "          'Adverse_events', 'Drug_in_serum', 'Liver_function', 'Activity_test',\n",
        "          'Secondary_test']\n",
        "autoimmune_data = pd.read_csv(r'/content/gdrive/My Drive/GYE06/CT475_ML/autoimmune.txt',\n",
        "                 sep='\\t',\n",
        "                 header=None\n",
        "                )\n",
        "autoimmune_data = autoimmune_data.transpose()\n",
        "autoimmune_data.columns = fields\n",
        "autoimmune_data['Autoimmune_Disease'] = autoimmune_data['Autoimmune_Disease'] \\\n",
        ".map({'negative':0, 'positive':1})"
      ],
      "execution_count": 0,
      "outputs": []
    },
    {
      "metadata": {
        "id": "pkJ578ehgnEH",
        "colab_type": "text"
      },
      "cell_type": "markdown",
      "source": [
        "## Model Construction"
      ]
    },
    {
      "metadata": {
        "id": "NO3rLj3TiGOB",
        "colab_type": "text"
      },
      "cell_type": "markdown",
      "source": [
        "k Nearest Neighbors algorithm is an instance based learning algorithm used for classification. This algorithm predicts the outcome by calculating the distance from the query point to all the data points.  It then takes the k nearest data points and classifies the query point as the category with higest number in the k data points. Distance can be measured either as Euclidean, or Cosign, or Manhattan or Hamming distance. \n",
        "\n",
        "Scikit-learn's KNeighborsClassifier has been used for implementing k Nearest Neighbors algorithm. The default distance measurement for kNN algorithm in scikitlearn is 'minkowski'. This can be changed to euclidean distance by using metrics parameter.\n"
      ]
    },
    {
      "metadata": {
        "id": "4hocb-m4-ilW",
        "colab_type": "text"
      },
      "cell_type": "markdown",
      "source": [
        "#### Normalizing data"
      ]
    },
    {
      "metadata": {
        "id": "E5w2jYa3-2vr",
        "colab_type": "text"
      },
      "cell_type": "markdown",
      "source": [
        "When the attributes in the data have wide range of values, attributes with large number range will have more impact during the distance calculation than attributes with smaller number range. Hence data must be normalized. We will be using z normalization, which means data will be scaled in such a way that mean of an attribute is zero and standard deviation is 1\n"
      ]
    },
    {
      "metadata": {
        "id": "gXeIEDRpn_ps",
        "colab_type": "code",
        "outputId": "d4cc5537-e126-4711-9ad5-21bbff87d486",
        "colab": {
          "base_uri": "https://localhost:8080/",
          "height": 52
        }
      },
      "cell_type": "code",
      "source": [
        "from sklearn.model_selection import train_test_split\n",
        "from sklearn import preprocessing\n",
        "X = autoimmune_data.drop(columns = ['Autoimmune_Disease'])\n",
        "y = autoimmune_data['Autoimmune_Disease']\n",
        "X_scaled = preprocessing.scale(X)\n",
        "X_scaled.mean(axis=0) # axis=0 indicated that mean should be taken wrt col\n",
        "X_train, X_test, y_train, y_test = train_test_split(X_scaled, y, random_state = 99)\n",
        "print(X_train.shape)\n",
        "print(X_test.shape)"
      ],
      "execution_count": 10,
      "outputs": [
        {
          "output_type": "stream",
          "text": [
            "(282, 9)\n",
            "(94, 9)\n"
          ],
          "name": "stdout"
        }
      ]
    },
    {
      "metadata": {
        "id": "-7Yxn566wfZq",
        "colab_type": "text"
      },
      "cell_type": "markdown",
      "source": [
        "#### Implementing kNN"
      ]
    },
    {
      "metadata": {
        "id": "g0qxWkyJoLbX",
        "colab_type": "code",
        "outputId": "c056a923-465a-4678-fbdd-a00441d568d3",
        "colab": {
          "base_uri": "https://localhost:8080/",
          "height": 34
        }
      },
      "cell_type": "code",
      "source": [
        "from sklearn.neighbors import KNeighborsClassifier\n",
        "\n",
        "autoimmune_knn = KNeighborsClassifier(n_neighbors=7, metric='euclidean')\n",
        "autoimmune_knn.fit(X_train, y_train)\n",
        "accuracy_knn = autoimmune_knn.score(X_test, y_test)\n",
        "print(\"The accuracy of the model using k=5 is {}\".format(accuracy_knn))"
      ],
      "execution_count": 11,
      "outputs": [
        {
          "output_type": "stream",
          "text": [
            "The accuracy of the model using k=5 is 0.7553191489361702\n"
          ],
          "name": "stdout"
        }
      ]
    },
    {
      "metadata": {
        "id": "aBd22-n9wilk",
        "colab_type": "text"
      },
      "cell_type": "markdown",
      "source": [
        "## Model Evaluation\n"
      ]
    },
    {
      "metadata": {
        "id": "E0Z4VdXLhQGN",
        "colab_type": "text"
      },
      "cell_type": "markdown",
      "source": [
        "### 10-fold cross Validation"
      ]
    },
    {
      "metadata": {
        "id": "bL2TRMbZNTUe",
        "colab_type": "text"
      },
      "cell_type": "markdown",
      "source": [
        "k fold cross validation is a technique used to find the accuracy of the model. In this technique the dataset is divided into k folds. The training of the model is done using k-1 folds and 1 fold is used for testing the model. This process is repeated k-1 times and changing the testing fold in each iteration. The accuracy of the model is calculated for each iteration and the mean of all the accuracies are taken to get the model accuracy.\n"
      ]
    },
    {
      "metadata": {
        "id": "CZ9MGiZpOD8z",
        "colab_type": "text"
      },
      "cell_type": "markdown",
      "source": [
        "scikit-learn provides a inbuit function which performs the k fold validatio given k. The code is as below"
      ]
    },
    {
      "metadata": {
        "id": "5ek1Ksngwms7",
        "colab_type": "code",
        "outputId": "9c15a284-46e0-4ddd-e4e9-6d2847239e1c",
        "colab": {
          "base_uri": "https://localhost:8080/",
          "height": 34
        }
      },
      "cell_type": "code",
      "source": [
        "from sklearn.model_selection import cross_val_score\n",
        "scores = cross_val_score(KNeighborsClassifier(n_neighbors=7), X_train, y_train, cv=10)\n",
        "print(\"Mean of 10-fold cross validation scores : {}\".format(scores.mean()))"
      ],
      "execution_count": 12,
      "outputs": [
        {
          "output_type": "stream",
          "text": [
            "Mean of 10-fold cross validation scores : 0.7485312899106001\n"
          ],
          "name": "stdout"
        }
      ]
    },
    {
      "metadata": {
        "id": "djJINcUFw2_Q",
        "colab_type": "text"
      },
      "cell_type": "markdown",
      "source": [
        "#### Finding optimal values of k"
      ]
    },
    {
      "metadata": {
        "id": "8A8QEhEdw7ZZ",
        "colab_type": "text"
      },
      "cell_type": "markdown",
      "source": [
        "In the above model, n_neigbors has been set to 5, but this may not give high accuracy. In order to find out the optimum value of k, use GridSearchCv of scikit-learn\n",
        "\n",
        "GridSearchCV will run the model (kNN in this case) with give range of parameters and gives the resulting accuracy scores.\n"
      ]
    },
    {
      "metadata": {
        "id": "x8AjBFhRxwC2",
        "colab_type": "code",
        "outputId": "e836b140-5e00-478e-a67f-1b90c45707d3",
        "colab": {
          "base_uri": "https://localhost:8080/",
          "height": 139
        }
      },
      "cell_type": "code",
      "source": [
        "from sklearn.model_selection import GridSearchCV\n",
        "param_grid = dict(n_neighbors=range(1, 20))\n",
        "knn = GridSearchCV(KNeighborsClassifier(n_neighbors=1), param_grid, cv=10)\n",
        "knn.fit(X_train, y_train)"
      ],
      "execution_count": 13,
      "outputs": [
        {
          "output_type": "execute_result",
          "data": {
            "text/plain": [
              "GridSearchCV(cv=10, error_score='raise',\n",
              "       estimator=KNeighborsClassifier(algorithm='auto', leaf_size=30, metric='minkowski',\n",
              "           metric_params=None, n_jobs=1, n_neighbors=1, p=2,\n",
              "           weights='uniform'),\n",
              "       fit_params=None, iid=True, n_jobs=1,\n",
              "       param_grid={'n_neighbors': range(1, 20)}, pre_dispatch='2*n_jobs',\n",
              "       refit=True, return_train_score='warn', scoring=None, verbose=0)"
            ]
          },
          "metadata": {
            "tags": []
          },
          "execution_count": 13
        }
      ]
    },
    {
      "metadata": {
        "id": "YfmtkpjxyUaA",
        "colab_type": "code",
        "outputId": "b32e7380-a45e-4a5d-8c6d-951849e67aa9",
        "colab": {
          "base_uri": "https://localhost:8080/",
          "height": 296
        }
      },
      "cell_type": "code",
      "source": [
        "import matplotlib.pyplot as plt\n",
        "%matplotlib inline\n",
        "\n",
        "plt.plot(range(1, 20), knn.cv_results_['mean_test_score'])\n",
        "plt.xlabel('k value')\n",
        "plt.ylabel('score')"
      ],
      "execution_count": 14,
      "outputs": [
        {
          "output_type": "execute_result",
          "data": {
            "text/plain": [
              "Text(0,0.5,'score')"
            ]
          },
          "metadata": {
            "tags": []
          },
          "execution_count": 14
        },
        {
          "output_type": "display_data",
          "data": {
            "image/png": "[encoded data removed]",
            "text/plain": [
              "<matplotlib.figure.Figure at 0x7fa7dc4e1cf8>"
            ]
          },
          "metadata": {
            "tags": []
          }
        }
      ]
    },
    {
      "metadata": {
        "id": "nT1DxjWTz3aF",
        "colab_type": "code",
        "outputId": "1e9a3e93-090c-47ff-f274-16ffe95ec5b3",
        "colab": {
          "base_uri": "https://localhost:8080/",
          "height": 34
        }
      },
      "cell_type": "code",
      "source": [
        "print(\"Best Score for normalised data : {} for {}\".format(knn.best_score_, knn.best_params_))"
      ],
      "execution_count": 15,
      "outputs": [
        {
          "output_type": "stream",
          "text": [
            "Best Score for normalised data : 0.75177304964539 for {'n_neighbors': 4}\n"
          ],
          "name": "stdout"
        }
      ]
    },
    {
      "metadata": {
        "id": "iMg0orlwde2K",
        "colab_type": "text"
      },
      "cell_type": "markdown",
      "source": [
        "### Confusion Matrix"
      ]
    },
    {
      "metadata": {
        "id": "QEfKiDPfdjc6",
        "colab_type": "text"
      },
      "cell_type": "markdown",
      "source": [
        "Confusion matrix is one of the methods used to measure the performance of the model with 2 or\n",
        "more classes. Its basically a table of counts between actual and predicted. \n",
        "\n"
      ]
    },
    {
      "metadata": {
        "id": "T8wM4Pasfgrl",
        "colab_type": "code",
        "colab": {}
      },
      "cell_type": "code",
      "source": [
        "autoimmune_knn = KNeighborsClassifier(knn.best_estimator_.n_neighbors)\n",
        "autoimmune_knn.fit(X_train, y_train)\n",
        "y_predict_knn = autoimmune_knn.predict(X_test)"
      ],
      "execution_count": 0,
      "outputs": []
    },
    {
      "metadata": {
        "id": "5b3ZlBJlf56q",
        "colab_type": "code",
        "outputId": "d47d9b96-8e96-4b22-d238-98488d555faf",
        "colab": {
          "base_uri": "https://localhost:8080/",
          "height": 52
        }
      },
      "cell_type": "code",
      "source": [
        "from sklearn.metrics import confusion_matrix\n",
        "\n",
        "confusion_matrix_knn = confusion_matrix(y_test, y_predict_knn)\n",
        "tn, fp, fn, tp = confusion_matrix_knn.ravel()\n",
        "print(confusion_matrix_knn)"
      ],
      "execution_count": 17,
      "outputs": [
        {
          "output_type": "stream",
          "text": [
            "[[59  3]\n",
            " [23  9]]\n"
          ],
          "name": "stdout"
        }
      ]
    },
    {
      "metadata": {
        "id": "l_PmEZwuilTW",
        "colab_type": "text"
      },
      "cell_type": "markdown",
      "source": [
        "### ROC Curves and AUROC"
      ]
    },
    {
      "metadata": {
        "id": "NpPA1fNXin_M",
        "colab_type": "text"
      },
      "cell_type": "markdown",
      "source": [
        "From the above confusion matrix, we can derive below\n",
        "\n",
        "**Sensitivity, Recall, True positive rate, Hit Rate : **\n",
        "\n",
        "$TPR = TP/(TP+FN)$\n",
        "\n",
        "**Specificity, Selectivity, True Negative Rate :**\n",
        "\n",
        "$TNR = TN/(TN+FP)$\n",
        "\n",
        "**Precision: **\n",
        "\n",
        "$ Precision = TP / (TP+FP)$\n",
        "\n",
        "**Fall-out or False Positive Rate : **\n",
        "\n",
        "$FPR = FP/(FP+TN)$ i.e. $1-Specificity$ \n",
        "\n",
        "**Accuracy : **\n",
        "\n",
        "$ Accuracy = TP + TN / (Total)$\n"
      ]
    },
    {
      "metadata": {
        "id": "fk-Fqlu_lwQw",
        "colab_type": "text"
      },
      "cell_type": "markdown",
      "source": [
        "ROC curves are plotted with FPR in the x-axis and TPR in the y-axis. For a binary classification model,\n",
        "number of true positives and true negatives can be varied but adjusting the threshold of the\n",
        "classifier. For example in logistic regression this threshold is set to 0.5 by default and\n",
        "If\n",
        "P(X) > 0.5 then y = 1,\n",
        "P(X) <= 0.5 then y = 0.\n",
        "To plot the ROC curve this threshold is changed in steps and various observations for TPR and FPR\n",
        "are taken at each step. Finally all the observations are\n",
        "plotted.\n",
        "Classification performance can be measured using ‘Area\n",
        "Under ROC curve’ and it varies from 0 to 1. When the\n",
        "classifier predicts everything incorrectly, AUC will be equal\n",
        "to zero and ROC curve will be the line in orange. When the\n",
        "classifier predicts everything correctly, AUC will be equal to\n",
        "1 and the ROC curve will be the line in red. If AUC is 0.5 the\n",
        "graph will be along the line of equality which indicate a\n",
        "random classifier. As the AUC increases the curve will be\n",
        "closer to upper left hand corner."
      ]
    },
    {
      "metadata": {
        "id": "6j2DjC47lx8N",
        "colab_type": "code",
        "outputId": "27db0f9c-7320-44be-d66b-2b07abeb1cf0",
        "colab": {
          "base_uri": "https://localhost:8080/",
          "height": 294
        }
      },
      "cell_type": "code",
      "source": [
        "import matplotlib.pyplot as plt\n",
        "plt.plot([0,0], [1, 0], [1, 1], color=\"red\")\n",
        "plt.plot([1,1], [0, 1], [0, 0], color=\"orange\")\n",
        "plt.plot([0, 1], [0, 1], linestyle='--')\n",
        "plt.xlabel(\"False Positive Rate\")\n",
        "plt.ylabel(\"True Positive Rate\")\n",
        "plt.title(\"ROC Curve - Explained\")\n",
        "plt.show()"
      ],
      "execution_count": 18,
      "outputs": [
        {
          "output_type": "display_data",
          "data": {
            "image/png": "[encoded data removed]",
            "text/plain": [
              "<matplotlib.figure.Figure at 0x7fa7c9090d30>"
            ]
          },
          "metadata": {
            "tags": []
          }
        }
      ]
    },
    {
      "metadata": {
        "id": "dFBEOY8xmqnd",
        "colab_type": "code",
        "colab": {}
      },
      "cell_type": "code",
      "source": [
        "def plot_roc(fpr, tpr, auroc, title):\n",
        "  plt.plot(fpr, tpr)\n",
        "  plt.plot([0, 1], [0, 1], linestyle='--')\n",
        "  plt.xlabel(\"False Positive Rate\")\n",
        "  plt.ylabel(\"True Positive Rate\")\n",
        "  plt.title(\"ROC Curve - {}\".format(title))\n",
        "  plt.figtext(0.7, 0.2, \"AUROC = {:.2f}\".format(auroc), fontweight=\"bold\")\n",
        "  return plt"
      ],
      "execution_count": 0,
      "outputs": []
    },
    {
      "metadata": {
        "id": "0lzCo8aCl95k",
        "colab_type": "text"
      },
      "cell_type": "markdown",
      "source": [
        "#### ROC and AUROC for KNN"
      ]
    },
    {
      "metadata": {
        "id": "1juDhJmOmCYC",
        "colab_type": "code",
        "outputId": "3f62825d-f257-42d5-cc03-8442e16e1cfd",
        "colab": {
          "base_uri": "https://localhost:8080/",
          "height": 317
        }
      },
      "cell_type": "code",
      "source": [
        "%matplotlib inline\n",
        "import matplotlib.pyplot as plt\n",
        "y_predict_prob_knn = autoimmune_knn.predict_proba(X_test)[:, 1]\n",
        "plt.hist(y_predict_prob_knn)"
      ],
      "execution_count": 20,
      "outputs": [
        {
          "output_type": "execute_result",
          "data": {
            "text/plain": [
              "(array([40.,  0., 22.,  0.,  0., 20.,  0., 10.,  0.,  2.]),\n",
              " array([0. , 0.1, 0.2, 0.3, 0.4, 0.5, 0.6, 0.7, 0.8, 0.9, 1. ]),\n",
              " <a list of 10 Patch objects>)"
            ]
          },
          "metadata": {
            "tags": []
          },
          "execution_count": 20
        },
        {
          "output_type": "display_data",
          "data": {
            "image/png": "[encoded data removed]",
            "text/plain": [
              "<matplotlib.figure.Figure at 0x7fa7c912bf98>"
            ]
          },
          "metadata": {
            "tags": []
          }
        }
      ]
    },
    {
      "metadata": {
        "id": "2cVXlMDamMFy",
        "colab_type": "code",
        "outputId": "444d3a81-53eb-4e3b-91e8-25a009267217",
        "colab": {
          "base_uri": "https://localhost:8080/",
          "height": 294
        }
      },
      "cell_type": "code",
      "source": [
        "from sklearn.metrics import roc_curve, roc_auc_score\n",
        "fpr, tpr, thresholds = roc_curve(y_test, y_predict_prob_knn)\n",
        "auroc = roc_auc_score(y_test, y_predict_prob_knn)\n",
        "plot_roc(fpr, tpr, auroc , \"KNN (positive)\").show()"
      ],
      "execution_count": 21,
      "outputs": [
        {
          "output_type": "display_data",
          "data": {
            "image/png": "[encoded data removed]",
            "text/plain": [
              "<matplotlib.figure.Figure at 0x7fa7c90d3320>"
            ]
          },
          "metadata": {
            "tags": []
          }
        }
      ]
    },
    {
      "metadata": {
        "id": "rk5aBRqkwuWH",
        "colab_type": "text"
      },
      "cell_type": "markdown",
      "source": [
        "#### Observations\n",
        "1. Area Under ROC is the area under the blue line in the above graphs. From the two ROC\n",
        "curves, AUC of KNN model is 0.80 and AUC of Logistic Regression model is 0.82. This can be\n",
        "an indication that Logistic regression model is performing better compared to KNN in this\n",
        "case. As I have used only one test set for plotting the ROC curve and haven’t considered the\n",
        "variance of the accuracies, it cannot conclude that Logistic regression model is performing\n",
        "better than KNN model. Also as we have used only one test set, we need to consider the\n",
        "variance in the every TPR and FPR which makes it difficult to conclude which mode is better.\n",
        "\n",
        "2. As the ROC curve is plotted between sensitivity and (1-specificity), the observations close to\n",
        "point (0,0), i.e. left side of the ROC curve (below 0.2 on x-axis) gives a model which fails to\n",
        "predict most of the true positives, but the model preforms better in predicting the true\n",
        "negatives. This threshold can be set for the models for which missing a true positive\n",
        "prediction is fine compared to predicting a false positive predictions.\n",
        "\n",
        "3. The right extreme of the ROC curve (above 0.8 on x-axis) gives a model which fails to predict\n",
        "the true negatives, but the model performs better in predicting the true positives. This\n",
        "threshold can be set to models for which identifying a true positive is critical than mis-\n",
        "classifying negatives."
      ]
    },
    {
      "metadata": {
        "id": "Q-aK9GM6qDoQ",
        "colab_type": "text"
      },
      "cell_type": "markdown",
      "source": [
        "### Learning Curves"
      ]
    },
    {
      "metadata": {
        "id": "4QNtsyEYqICK",
        "colab_type": "text"
      },
      "cell_type": "markdown",
      "source": [
        "Learning curves are plotted between Training scores and Cross Validation scores with respect to sample size. This gives an indication of how the training and testing scores are varying with respect to the size of the training set. It can be used to decide whether collecting more data improves the performance of the classifier."
      ]
    },
    {
      "metadata": {
        "id": "jRVun40fsiHc",
        "colab_type": "code",
        "colab": {}
      },
      "cell_type": "code",
      "source": [
        "from sklearn.model_selection import learning_curve\n",
        "import numpy as np\n",
        "\n",
        "def plot_learning_curve(model, X, y):\n",
        "  \n",
        "  train_sizes = np.linspace(.1, 1.0, 15)\n",
        "  cv = 10\n",
        "  train_sizes, train_scores, test_scores = learning_curve(model, X, y, cv=cv, train_sizes=train_sizes)\n",
        "  \n",
        "  train_scores_mean = np.mean(train_scores, axis=1)\n",
        "  train_scores_std  = np.std(train_scores, axis=1)\n",
        "  test_scores_mean  = np.mean(test_scores, axis=1)\n",
        "  test_scores_std   = np.std(test_scores, axis=1)\n",
        "  \n",
        "  plt.plot(train_sizes, train_scores_mean, marker='o', color=\"r\",label=\"Training score\")\n",
        "  plt.plot(train_sizes, test_scores_mean, marker='o', color=\"g\",label=\"Cross-validation score\")\n",
        "  plt.legend(loc=\"best\")\n",
        "  plt.xlabel(\"Training Size\")\n",
        "  plt.ylabel(\"Score\")\n",
        "  \n",
        "  return plt"
      ],
      "execution_count": 0,
      "outputs": []
    },
    {
      "metadata": {
        "id": "UPwPPkWnsZH2",
        "colab_type": "code",
        "colab": {
          "base_uri": "https://localhost:8080/",
          "height": 279
        },
        "outputId": "e6d08b67-cbb8-4dcb-8a88-31f67c5a334a"
      },
      "cell_type": "code",
      "source": [
        "plot_learning_curve(autoimmune_knn, X_train, y_train)\n",
        "plt.show()"
      ],
      "execution_count": 23,
      "outputs": [
        {
          "output_type": "display_data",
          "data": {
            "image/png": "[encoded data removed]",
            "text/plain": [
              "<matplotlib.figure.Figure at 0x7fa7c9d45550>"
            ]
          },
          "metadata": {
            "tags": []
          }
        }
      ]
    },
    {
      "metadata": {
        "id": "QLIYjxdRw9p-",
        "colab_type": "text"
      },
      "cell_type": "markdown",
      "source": [
        "#### Observations\n",
        "from the learning curve its evident that the scores of training and cross validation set has not yet converged, and hence getting more data might help im improving the performance of the classifier."
      ]
    },
    {
      "metadata": {
        "id": "IQOqkB9QReGU",
        "colab_type": "text"
      },
      "cell_type": "markdown",
      "source": [
        "####References "
      ]
    },
    {
      "metadata": {
        "id": "9TdzNZcRRgud",
        "colab_type": "text"
      },
      "cell_type": "markdown",
      "source": [
        "\n",
        "\n",
        "*   *http://scikit-learn.org/stable/index.html*\n",
        "*  *https://www.dataschool.io/machine-learning-with-scikit-learn/*\n",
        "* *ROC Curves: https://en.wikipedia.org/wiki/Receiver_operating_characteristic*\n",
        "* *http://www.blogspot.udec.ugto.saedsayad.com/docs/ROC101.pdf*\n",
        "* *Confusion Matric: https://en.wikipedia.org/wiki/Confusion_matrix*\n",
        "* *Sklearn ROC curves: http://scikit-learn.org/stable/auto_examples/model_selection/plot_roc.html*\n",
        "* *Sklearn Confusion Matrix: http://scikit-learn.org/stable/modules/generated/sklearn.metrics.confusion_matrix.html*\n",
        "\n",
        "\n"
      ]
    }
  ]
}