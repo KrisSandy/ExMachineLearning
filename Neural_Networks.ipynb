{
  "nbformat": 4,
  "nbformat_minor": 0,
  "metadata": {
    "colab": {
      "name": "Neural Networks",
      "version": "0.3.2",
      "provenance": [],
      "collapsed_sections": [],
      "include_colab_link": true
    },
    "kernelspec": {
      "name": "python3",
      "display_name": "Python 3"
    },
    "accelerator": "GPU"
  },
  "cells": [
    {
      "cell_type": "markdown",
      "metadata": {
        "id": "view-in-github",
        "colab_type": "text"
      },
      "source": [
        "<a href=\"https://colab.research.google.com/github/KrisSandy/ExMachineLearning/blob/master/Neural_Networks.ipynb\" target=\"_parent\"><img src=\"https://colab.research.google.com/assets/colab-badge.svg\" alt=\"Open In Colab\"/></a>"
      ]
    },
    {
      "metadata": {
        "id": "UnbxAX2Ox1RX",
        "colab_type": "text"
      },
      "cell_type": "markdown",
      "source": [
        "# Shallow Neural Network (One Layer NN)"
      ]
    },
    {
      "metadata": {
        "id": "UCpk57DwgY1Q",
        "colab_type": "text"
      },
      "cell_type": "markdown",
      "source": [
        "## Implementation of Neural Network\n"
      ]
    },
    {
      "metadata": {
        "id": "Lxelz20wAAAG",
        "colab_type": "text"
      },
      "cell_type": "markdown",
      "source": [
        "Import required libraries"
      ]
    },
    {
      "metadata": {
        "id": "ql9wsyGcQQy4",
        "colab_type": "code",
        "colab": {}
      },
      "cell_type": "code",
      "source": [
        "import numpy as np\n",
        "import pandas as pd\n",
        "import matplotlib.pyplot as plt\n",
        "from sklearn.model_selection import train_test_split"
      ],
      "execution_count": 0,
      "outputs": []
    },
    {
      "metadata": {
        "id": "3RIrxPtOR8dU",
        "colab_type": "text"
      },
      "cell_type": "markdown",
      "source": [
        "### Initialize Weights"
      ]
    },
    {
      "metadata": {
        "id": "apACmt2ZBcdp",
        "colab_type": "text"
      },
      "cell_type": "markdown",
      "source": [
        "For a Shall Neural Network, there will be a 2 sets of weight matrices and bias vectors, one from input to hidden layer and the other from hidden layer to output.\n",
        "\n",
        "The weight matrices are initiaised using random function of numpy and to make the weights smaller, 0.01 is multiplied. Bais vectors are initialised with zeros. Python uses broadcasting to expand the bias vectors to match the dimensions of corresponsding weight vectors. \n",
        "\n",
        "**Dimensions:**\n",
        "\n",
        "**W1** : (hidden layer size * input layer size)\n",
        "\n",
        "**W2** : (output layer size * hidden layer size)\n",
        "\n",
        "**b1** : (hidden layer size * 1)\n",
        "\n",
        "**b2** : (output layer size * 1)"
      ]
    },
    {
      "metadata": {
        "id": "dmJHIXv0xuX2",
        "colab_type": "code",
        "colab": {}
      },
      "cell_type": "code",
      "source": [
        "def initialise_weights(input_features, hidden_layer_size, output_size = 1):\n",
        "  W1 = np.random.randn(hidden_layer_size, input_features) * 0.01\n",
        "  W2 = np.random.randn(output_size, hidden_layer_size) * 0.01\n",
        "  b1 = np.zeros((hidden_layer_size, 1))\n",
        "  b2 = np.zeros((output_size, 1))\n",
        "  return {'W1': W1, 'W2': W2, 'b1': b1, 'b2': b2}"
      ],
      "execution_count": 0,
      "outputs": []
    },
    {
      "metadata": {
        "id": "Eq0fTMxJR_50",
        "colab_type": "text"
      },
      "cell_type": "markdown",
      "source": [
        "### Activation Functions"
      ]
    },
    {
      "metadata": {
        "id": "dCJwJD--CotM",
        "colab_type": "text"
      },
      "cell_type": "markdown",
      "source": [
        "For this implementation, two types activation functions, sigmoid and tanh are used. \n",
        "\n",
        "$sigmoid(z) = \\frac{1}{1 + e^{-z}}$\n",
        "\n",
        "$tanh(z) = \\frac{e^{z} - e^{-z}}{e^{z} + e^{-z}}$\n",
        "\n",
        "In back propogation, gradients of these functions are used in the calculations, and the gradients are calculated as below\n",
        "\n",
        "Sigmoid: $f'(z) = f(z)(1-f(z))$ \n",
        "\n",
        "tanh: $f'(z) = (1-f(z)^2)$\n"
      ]
    },
    {
      "metadata": {
        "id": "HkEkoh5pHQRv",
        "colab_type": "code",
        "colab": {}
      },
      "cell_type": "code",
      "source": [
        "def activation_function(Z, ftype='sigmoid'):\n",
        "  \n",
        "  if ftype == 'sigmoid':\n",
        "    return 1 / (1 + np.exp(-1 * Z))\n",
        "  elif ftype == 'tanh':\n",
        "    return np.tanh(Z)\n",
        "  else:\n",
        "    raise Exception('Invalid activation function') "
      ],
      "execution_count": 0,
      "outputs": []
    },
    {
      "metadata": {
        "id": "GBt63nylIs2g",
        "colab_type": "code",
        "colab": {}
      },
      "cell_type": "code",
      "source": [
        "def activation_gradient_function(Z, ftype='sigmoid'):\n",
        "  \n",
        "  if ftype == 'sigmoid':\n",
        "    return Z * (1 - Z)\n",
        "  elif ftype == 'tanh':\n",
        "    return (1 - Z**2)\n",
        "  else:\n",
        "    raise Exception('Invalid activation gradient function') "
      ],
      "execution_count": 0,
      "outputs": []
    },
    {
      "metadata": {
        "id": "ZfaXfuUUSIYB",
        "colab_type": "text"
      },
      "cell_type": "markdown",
      "source": [
        "### Feed Forward"
      ]
    },
    {
      "metadata": {
        "id": "BmE79GiQMGtC",
        "colab_type": "text"
      },
      "cell_type": "markdown",
      "source": [
        "In forward propogation, the acivations are calculated by using the input features and weights corresponding to input and hidden layer (W1 and b1). Each layer activations are calculated by calculating the linear function (Z) and applying the activation fuction to the output of the linear function\n",
        "\n",
        "In the output layer, sigmoid activation function is used as we are implementing a binary classifier\n",
        "\n",
        "**Activatios of Hidden layer:**\n",
        "\n",
        "$Z1 = W1.X + b1$\n",
        "\n",
        "$A1 = g(Z1)$, (sigmoid or tanh activation function can be used here)\n",
        "\n",
        "\n",
        "$Z2 = W2.X + b2$\n",
        "\n",
        "$A2 = sigmoid(Z2)$"
      ]
    },
    {
      "metadata": {
        "id": "zqyBui2ZQhik",
        "colab_type": "code",
        "colab": {}
      },
      "cell_type": "code",
      "source": [
        "def feed_forward(X, weights, activation_func):\n",
        "  Z1 = np.dot(weights['W1'], X) + weights['b1']\n",
        "  A1 = activation_function(Z1, ftype=activation_func)\n",
        "  Z2 = np.dot(weights['W2'], A1) + weights['b2']\n",
        "  A2 = activation_function(Z2, ftype='sigmoid')\n",
        "  return {'Z1': Z1, 'A1': A1, 'Z2': Z2, 'A2': A2}"
      ],
      "execution_count": 0,
      "outputs": []
    },
    {
      "metadata": {
        "id": "znWZehlBTB2B",
        "colab_type": "text"
      },
      "cell_type": "markdown",
      "source": [
        "### Back Propogation\n",
        "\n",
        "In back propogation, we calculate the gradients of the weights using the activations and derivatives of the activation functions. Back propogation can be implemented using below equations\n",
        "\n",
        "$dZ^{[2]} = A^{[2]} - Y$\n",
        "\n",
        "$dW^{[2]} = \\frac{1}{m}dZ^{[2]}A^{[1]T}$\n",
        "\n",
        "$db^{[2]} = \\frac{1}{m}\\displaystyle\\sum_{i=1}^{k}dZ^{[2]}$\n",
        "\n",
        "$dZ^{[1]} = W^{[2]T}dZ^{[2]} * g^{[1]^{'}}(Z^{[1]})$\n",
        "\n",
        "$dW^{[1]} = \\frac{1}{m}dZ^{[1]}X^{T}$\n",
        "\n",
        "$db^{[1]} = \\frac{1}{m}\\displaystyle\\sum_{i=1}^{k}dZ^{[1]}$\n",
        "\n"
      ]
    },
    {
      "metadata": {
        "id": "OgzFWvFwTFMF",
        "colab_type": "code",
        "colab": {}
      },
      "cell_type": "code",
      "source": [
        "def backpropogation(X, y, weights, activations, activation_func):\n",
        "  m = X.shape[1]\n",
        "  dZ2 = activations['A2'] - y\n",
        "  dW2 = (1/m)*np.dot(dZ2, activations['A1'].T)\n",
        "  db2 = (1/m)*np.sum(dZ2, axis=1, keepdims=True)\n",
        "  dZ1 = np.dot(weights['W2'].T, dZ2) * activation_gradient_function(activations['A1'], ftype=activation_func)\n",
        "  dW1 = (1/m)*np.dot(dZ1, X.T)\n",
        "  db1 = (1/m)*np.sum(dZ1, axis=1, keepdims=True)\n",
        "  return {'dW1': dW1, 'db1': db1, 'dW2': dW2, 'db2': db2}"
      ],
      "execution_count": 0,
      "outputs": []
    },
    {
      "metadata": {
        "id": "SFUWrHQ6aPki",
        "colab_type": "text"
      },
      "cell_type": "markdown",
      "source": [
        "### Cost Function"
      ]
    },
    {
      "metadata": {
        "id": "0Cn5IUJMP8V-",
        "colab_type": "text"
      },
      "cell_type": "markdown",
      "source": [
        "Cost of the classifier can be calculated as below\n",
        "\n",
        "$J = \\frac{-1}{m}\\displaystyle\\sum_{i=1}^{m}(y^{(i)}log(a^{[2](i)}) + (1-y^{(i)})log(1 -a^{[2](i)})$"
      ]
    },
    {
      "metadata": {
        "id": "_QVjL9VfaSAv",
        "colab_type": "code",
        "colab": {}
      },
      "cell_type": "code",
      "source": [
        "def compute_cost(y, A2):\n",
        "  m = y.shape[1]\n",
        "  cost = (-1/m) * np.sum(np.multiply(y, np.log(A2)) + np.multiply(1 - y, np.log(1 - A2)))\n",
        "  return cost"
      ],
      "execution_count": 0,
      "outputs": []
    },
    {
      "metadata": {
        "id": "1ufDJiLkbk1o",
        "colab_type": "text"
      },
      "cell_type": "markdown",
      "source": [
        "### Update Weights\n",
        "\n",
        "Once the gradients are calculated, below function updates the weights using learning rate and gradients of weights"
      ]
    },
    {
      "metadata": {
        "id": "yuqGTepBbmxp",
        "colab_type": "code",
        "colab": {}
      },
      "cell_type": "code",
      "source": [
        "def update_weights(weights, gradients, learning_rate):\n",
        "  weights['W1'] = weights['W1'] - learning_rate * gradients['dW1']\n",
        "  weights['W2'] = weights['W2'] - learning_rate * gradients['dW2']\n",
        "  weights['b1'] = weights['b1'] - learning_rate * gradients['db1']\n",
        "  weights['b2'] = weights['b2'] - learning_rate * gradients['db2']\n",
        "  return weights\n",
        "  "
      ],
      "execution_count": 0,
      "outputs": []
    },
    {
      "metadata": {
        "id": "8amcqi5ScX7I",
        "colab_type": "text"
      },
      "cell_type": "markdown",
      "source": [
        "### Putting everything together"
      ]
    },
    {
      "metadata": {
        "id": "YpI-DNzCXeSV",
        "colab_type": "text"
      },
      "cell_type": "markdown",
      "source": [
        "Using the functions created above, a Neural Network with one hidden layer can be created as below\n",
        "\n",
        "\n",
        "\n",
        "1.   Initialise the weights of the Neural Network using the number of input features, hidden layer size and ouput layer size. As we are implementing a binary classification Neural Network, an output layer of size 1 is used.\n",
        "2.   Activations of each layer is calculated using the input data and weights. A default activation function of tanh is used to calculate the activations of hidden layer. This can be change to sigmoid if preferred.\n",
        "\n",
        "3. Cost is computed usin the activations of output layer (`A2`) and the actual output Y.\n",
        "\n",
        "4. Compute the gradients using back propogation\n",
        "\n",
        "5. Update the weights using the gradients \n",
        "\n",
        "6. Run steps 2-5 multiple times (number of epochs) to train the neural network.\n",
        "\n",
        "\n",
        "\n"
      ]
    },
    {
      "metadata": {
        "id": "Rsqu9fGWfzCQ",
        "colab_type": "code",
        "colab": {}
      },
      "cell_type": "code",
      "source": [
        "def NNWithOneHiddenLayer(X, Y, hidden_layer_size, activation_func='tanh', num_epochs=100, learning_rate=0.1):\n",
        "  \n",
        "  input_features = X.shape[0]\n",
        "  output_size = Y.shape[0]\n",
        "  \n",
        "  weights = initialise_weights(input_features, hidden_layer_size, output_size)\n",
        "  \n",
        "  for i in range(num_epochs):\n",
        "    \n",
        "    activations = feed_forward(X, weights, activation_func)\n",
        "    \n",
        "    cost = compute_cost(Y, activations['A2'])\n",
        "    if i % 1000 == 0:\n",
        "      print(\"Cost after {} iterations is {}\".format(i, cost))\n",
        "    \n",
        "    gradients = backpropogation(X, Y, weights, activations, activation_func)\n",
        "    \n",
        "    weights = update_weights(weights, gradients, learning_rate)\n",
        "  \n",
        "  print(\"Cost after {} iterations is {}\".format(i, cost))\n",
        "  \n",
        "  return weights\n"
      ],
      "execution_count": 0,
      "outputs": []
    },
    {
      "metadata": {
        "id": "uJ7cfiA4zr1-",
        "colab_type": "text"
      },
      "cell_type": "markdown",
      "source": [
        "### Predict\n",
        "\n"
      ]
    },
    {
      "metadata": {
        "id": "VjbmQj2AbgZP",
        "colab_type": "text"
      },
      "cell_type": "markdown",
      "source": [
        "Below functions makes the predictions using the feed forward function with test data. A threshold of 0.5 is used to predict the actual output i.e. if the output of the Neural Network is greater than 0.5, a prediction of 1 is made and if the output is less than 0.5, a pediction of 0 is made."
      ]
    },
    {
      "metadata": {
        "id": "j66Be1qpz5tK",
        "colab_type": "code",
        "colab": {}
      },
      "cell_type": "code",
      "source": [
        "def predict(X, weights, activation_func):\n",
        "  \n",
        "  activations = feed_forward(X, weights, activation_func)\n",
        "  y_predict = activations['A2'] > 0.5\n",
        "  \n",
        "  return y_predict.astype(int)"
      ],
      "execution_count": 0,
      "outputs": []
    },
    {
      "metadata": {
        "id": "t47xytCXbV7l",
        "colab_type": "text"
      },
      "cell_type": "markdown",
      "source": [
        "### Score\n",
        "\n",
        "This function takes in the actual values and predicted values and calculates the accuracy."
      ]
    },
    {
      "metadata": {
        "id": "6FJ4cWePJkQc",
        "colab_type": "code",
        "colab": {}
      },
      "cell_type": "code",
      "source": [
        "def score(y, y_predict):\n",
        "  return float(np.sum((y[0] == y_predict[0])) / y.shape[1]) * 100"
      ],
      "execution_count": 0,
      "outputs": []
    },
    {
      "metadata": {
        "id": "ZKEhhgqSeuYS",
        "colab_type": "text"
      },
      "cell_type": "markdown",
      "source": [
        "## Planar Dataset (Testing on a simple dataset)"
      ]
    },
    {
      "metadata": {
        "id": "U-v2xow9eDSA",
        "colab_type": "text"
      },
      "cell_type": "markdown",
      "source": [
        "### Prepare Data"
      ]
    },
    {
      "metadata": {
        "id": "OqBNMduWg517",
        "colab_type": "text"
      },
      "cell_type": "markdown",
      "source": [
        "Below function takes in X and y and splits the data into training and testing. \n",
        "\n",
        "Input to the neural network should be in the dimension of (n, m) where n is the number of features and m is the number of input examples. The output of the neural network should be in the dimension of (1, m). Hence X and y are transformed to bring in this format. "
      ]
    },
    {
      "metadata": {
        "id": "wuDO_tJK43Z_",
        "colab_type": "code",
        "colab": {}
      },
      "cell_type": "code",
      "source": [
        "def prepare_data(X, y):\n",
        "  X_train, X_test, y_train, y_test = train_test_split(X, y)\n",
        "  X_train = X_train.T\n",
        "  X_test = X_test.T\n",
        "  y_train = np.reshape(y_train, (1, len(y_train)))\n",
        "  y_test = np.reshape(y_test, (1, len(y_test)))\n",
        "  return X_train, X_test, y_train, y_test"
      ],
      "execution_count": 0,
      "outputs": []
    },
    {
      "metadata": {
        "id": "WsjXS_04iHwG",
        "colab_type": "text"
      },
      "cell_type": "markdown",
      "source": [
        "Below code reads the input dataset, calls prepare_data function to get training and testing sets"
      ]
    },
    {
      "metadata": {
        "id": "9mTzDIyZk7Lx",
        "colab_type": "code",
        "colab": {}
      },
      "cell_type": "code",
      "source": [
        "data = pd.read_csv('circles500.csv') \n",
        "X = data.drop(columns=['Class']).as_matrix()\n",
        "y = data['Class'].values\n",
        "X_train, X_test, y_train, y_test = prepare_data(X, y)"
      ],
      "execution_count": 0,
      "outputs": []
    },
    {
      "metadata": {
        "id": "tpdhVY0AeIb9",
        "colab_type": "text"
      },
      "cell_type": "markdown",
      "source": [
        "### Train Model"
      ]
    },
    {
      "metadata": {
        "id": "VNp-ABqZimHN",
        "colab_type": "text"
      },
      "cell_type": "markdown",
      "source": [
        "Using the training data (X_train and y_train) call the `NNWithOneHiddenLayer` function with below hyperparameters. \n",
        "\n",
        "* Hidden layers = 5\n",
        "\n",
        "* Hidden Layet Activation function = tanh\n",
        "\n",
        "* Number of epochs = 15000\n",
        "\n",
        "* Learning rate = 1"
      ]
    },
    {
      "metadata": {
        "id": "nguF9ZEGb6m6",
        "colab_type": "code",
        "outputId": "e0e5a759-f483-4848-f01d-ab478c79c8e3",
        "colab": {
          "base_uri": "https://localhost:8080/",
          "height": 295
        }
      },
      "cell_type": "code",
      "source": [
        "hidden_layer_size = 5\n",
        "activation_func = 'tanh'\n",
        "\n",
        "weights = NNWithOneHiddenLayer(X_train, \n",
        "                               y_train, \n",
        "                               hidden_layer_size, \n",
        "                               activation_func=activation_func, \n",
        "                               num_epochs=15000, \n",
        "                               learning_rate=1)"
      ],
      "execution_count": 0,
      "outputs": [
        {
          "output_type": "stream",
          "text": [
            "Cost after 0 iterations is 0.6931453437069706\n",
            "Cost after 1000 iterations is 0.07282368779579351\n",
            "Cost after 2000 iterations is 0.03228345899490409\n",
            "Cost after 3000 iterations is 0.02153652792516739\n",
            "Cost after 4000 iterations is 0.01591991608814122\n",
            "Cost after 5000 iterations is 0.012398520083414273\n",
            "Cost after 6000 iterations is 0.010297151714053265\n",
            "Cost after 7000 iterations is 0.008975029190911784\n",
            "Cost after 8000 iterations is 0.00800212106043316\n",
            "Cost after 9000 iterations is 0.007238545241741698\n",
            "Cost after 10000 iterations is 0.006619444463605703\n",
            "Cost after 11000 iterations is 0.006105897097516248\n",
            "Cost after 12000 iterations is 0.005672227007922444\n",
            "Cost after 13000 iterations is 0.00530062374338473\n",
            "Cost after 14000 iterations is 0.004978289580649439\n",
            "Cost after 14999 iterations is 0.004696035028485185\n"
          ],
          "name": "stdout"
        }
      ]
    },
    {
      "metadata": {
        "id": "DWuMhifxeK9b",
        "colab_type": "text"
      },
      "cell_type": "markdown",
      "source": [
        "### Predict\n",
        "\n",
        "Below code makes the predictions using test dataset and calculates the accuracy"
      ]
    },
    {
      "metadata": {
        "id": "PWz5BxNVeNV1",
        "colab_type": "code",
        "outputId": "c54aac02-2b4f-438e-e45b-f2373f7850c4",
        "colab": {
          "base_uri": "https://localhost:8080/",
          "height": 35
        }
      },
      "cell_type": "code",
      "source": [
        "y_predict = predict(X_test, weights, activation_func)\n",
        "accuracy = score(y_test, y_predict)\n",
        "print(\"Accuracy : \", accuracy)"
      ],
      "execution_count": 0,
      "outputs": [
        {
          "output_type": "stream",
          "text": [
            "Accuracy :  98.4\n"
          ],
          "name": "stdout"
        }
      ]
    },
    {
      "metadata": {
        "id": "XrNKQr0cfY0L",
        "colab_type": "text"
      },
      "cell_type": "markdown",
      "source": [
        "### Visualization"
      ]
    },
    {
      "metadata": {
        "id": "PgZh1DDhj_9y",
        "colab_type": "text"
      },
      "cell_type": "markdown",
      "source": [
        "\n",
        "Visualize the data points using scatter plot of both test and train datasets. 'x' in the below plot represents a data point from test dataset and 'o' represents a data point from train dataset"
      ]
    },
    {
      "metadata": {
        "id": "frwE8rhoppX-",
        "colab_type": "code",
        "outputId": "e3b8eb20-0faa-4422-9e64-e48570025969",
        "colab": {
          "base_uri": "https://localhost:8080/",
          "height": 347
        }
      },
      "cell_type": "code",
      "source": [
        "plt.scatter(X_train[0], X_train[1], c=y_train[0], s=40, marker='o', cmap=plt.cm.jet);\n",
        "plt.scatter(X_test[0], X_test[1], c=y_test[0], s=40, marker='x', cmap=plt.cm.jet);"
      ],
      "execution_count": 0,
      "outputs": [
        {
          "output_type": "display_data",
          "data": {
            "image/png": "[encoded data removed]",
            "text/plain": [
              "<Figure size 576x396 with 1 Axes>"
            ]
          },
          "metadata": {
            "tags": []
          }
        }
      ]
    },
    {
      "metadata": {
        "id": "qy0dTM5xmhZE",
        "colab_type": "text"
      },
      "cell_type": "markdown",
      "source": [
        "### Decision Boundary"
      ]
    },
    {
      "metadata": {
        "id": "rU88AFNYmnTF",
        "colab_type": "text"
      },
      "cell_type": "markdown",
      "source": [
        "Below code draws a decision boundary formed by the trained Neural Network. It is drawn by using a meshgrid of points between -1.5 and 1.5 with a spacing of 0.01 between points. These points are sent to the trained Neural Network and the predictions are made. These predictions are plotted using a contour plot. \n",
        "\n",
        "Note: 'x' in the below plot represents data points from test dataset and 'o' represents a data points from train dataset"
      ]
    },
    {
      "metadata": {
        "id": "nYbkOO_cEn1n",
        "colab_type": "code",
        "outputId": "6f91d82e-be6c-49af-ec68-c14f9d804caf",
        "colab": {
          "base_uri": "https://localhost:8080/",
          "height": 347
        }
      },
      "cell_type": "code",
      "source": [
        "xx1, xx2 = np.meshgrid(np.arange(-1.5, 1.5, 0.01), np.arange(-1.5, 1.5, 0.01))\n",
        "X_plot = np.c_[xx1.ravel(), xx2.ravel()]\n",
        "Z = predict(X_plot.T, weights, activation_func)\n",
        "Z = Z.reshape(xx1.shape)\n",
        "plt.contourf(xx1, xx2, Z, cmap=plt.cm.Accent)\n",
        "plt.scatter(X_train[0], X_train[1], c=y_train[0], s=40, marker='o', cmap=plt.cm.jet);\n",
        "plt.scatter(X_test[0], X_test[1], c=y_test[0], s=40, marker='x', cmap=plt.cm.jet);"
      ],
      "execution_count": 0,
      "outputs": [
        {
          "output_type": "display_data",
          "data": {
            "image/png": "[encoded data removed]",
            "text/plain": [
              "<Figure size 576x396 with 1 Axes>"
            ]
          },
          "metadata": {
            "tags": []
          }
        }
      ]
    },
    {
      "metadata": {
        "id": "sKiTr96jgb20",
        "colab_type": "text"
      },
      "cell_type": "markdown",
      "source": [
        "## Part 3 - Image Recognition - Cat vs Deer (Testing on a challenging dataset)"
      ]
    },
    {
      "metadata": {
        "id": "4nf6DFUjoCiC",
        "colab_type": "text"
      },
      "cell_type": "markdown",
      "source": [
        "### Fetch Dataset "
      ]
    },
    {
      "metadata": {
        "id": "B5oKV5byoLNB",
        "colab_type": "text"
      },
      "cell_type": "markdown",
      "source": [
        "Get the dataset and untar it"
      ]
    },
    {
      "metadata": {
        "id": "RBBn8FaXbiO8",
        "colab_type": "code",
        "outputId": "4869925d-92c7-41e8-86f4-6c1575d9ff55",
        "colab": {
          "base_uri": "https://localhost:8080/",
          "height": 208
        }
      },
      "cell_type": "code",
      "source": [
        "!wget http://www.cs.toronto.edu/~kriz/cifar-10-python.tar.gz\n",
        "!tar xzf cifar-10-python.tar.gz"
      ],
      "execution_count": 0,
      "outputs": [
        {
          "output_type": "stream",
          "text": [
            "--2019-03-04 23:30:16--  http://www.cs.toronto.edu/~kriz/cifar-10-python.tar.gz\n",
            "Resolving www.cs.toronto.edu (www.cs.toronto.edu)... 128.100.3.30\n",
            "Connecting to www.cs.toronto.edu (www.cs.toronto.edu)|128.100.3.30|:80... connected.\n",
            "HTTP request sent, awaiting response... 200 OK\n",
            "Length: 170498071 (163M) [application/x-gzip]\n",
            "Saving to: ‘cifar-10-python.tar.gz.2’\n",
            "\n",
            "cifar-10-python.tar 100%[===================>] 162.60M   866KB/s    in 2m 37s  \n",
            "\n",
            "2019-03-04 23:32:53 (1.04 MB/s) - ‘cifar-10-python.tar.gz.2’ saved [170498071/170498071]\n",
            "\n"
          ],
          "name": "stdout"
        }
      ]
    },
    {
      "metadata": {
        "id": "kdMSbRakuNFV",
        "colab_type": "text"
      },
      "cell_type": "markdown",
      "source": [
        "### Extract required images (cat and deer)"
      ]
    },
    {
      "metadata": {
        "id": "5Pfb5Ws6pNiH",
        "colab_type": "text"
      },
      "cell_type": "markdown",
      "source": [
        "Below function read the cifaf dataset and extract cat and deer images from the dataset"
      ]
    },
    {
      "metadata": {
        "id": "83aRyR2odtKE",
        "colab_type": "code",
        "colab": {}
      },
      "cell_type": "code",
      "source": [
        "import pickle\n",
        "\n",
        "def extract_cifar_batch(file, extract_labels):\n",
        "  folder = 'cifar-10-batches-py'\n",
        "  with open(folder + '/' + file, 'rb') as fo:\n",
        "    batch = pickle.load(fo, encoding='bytes')\n",
        "  data = batch[b'data']\n",
        "  labels = batch[b'labels']\n",
        "  extract_list = list()\n",
        "\n",
        "  for i in range(len(data)):\n",
        "    if labels[i] in extract_labels:\n",
        "      extract_list.append(i)\n",
        "\n",
        "  data = data[extract_list, :]\n",
        "  labels = np.array(labels)[extract_list]\n",
        "\n",
        "  return data, labels"
      ],
      "execution_count": 0,
      "outputs": []
    },
    {
      "metadata": {
        "id": "Zsxgp6SLug_J",
        "colab_type": "text"
      },
      "cell_type": "markdown",
      "source": [
        "### Convert Image to Grayscale"
      ]
    },
    {
      "metadata": {
        "id": "6v-XVywLrE28",
        "colab_type": "text"
      },
      "cell_type": "markdown",
      "source": [
        "Below function converts all the input RGB images to Grayscale images. An RGB image can be converted to Grayscale by taking the average of pixel values in each channel and dividing by 255\n",
        "\n",
        "$P_{grayscale} = \\frac{1}{3}(\\frac{P_{R}}{255} + \\frac{P_{G}}{255} + \\frac{P_{B}}{255}) \\quad \\textit{where p is the pixel value}$"
      ]
    },
    {
      "metadata": {
        "id": "mpWAofEPux6P",
        "colab_type": "code",
        "colab": {}
      },
      "cell_type": "code",
      "source": [
        "def convert_to_grayscale(X):\n",
        "  X = X/255\n",
        "  m, p = X.shape\n",
        "  X_gray = np.empty((m, int(p/3)))\n",
        "  for i in range(m):\n",
        "    picture = X[i]\n",
        "    picture.shape = (3,32,32)\n",
        "    r, g, b = picture[0,:,:], picture[0,:,:], picture[0,:,:] \n",
        "    gray = (r + g + b)/3\n",
        "    X_gray[i] = np.ravel(gray)\n",
        "  return X_gray"
      ],
      "execution_count": 0,
      "outputs": []
    },
    {
      "metadata": {
        "id": "_RtGrXHwK4a4",
        "colab_type": "text"
      },
      "cell_type": "markdown",
      "source": [
        "### Data Preprocessing"
      ]
    },
    {
      "metadata": {
        "id": "-76sQ8nDuUEP",
        "colab_type": "text"
      },
      "cell_type": "markdown",
      "source": [
        "In CIFAR dataset, the labels for the images are numbered from 0 to 9. Cat and Deer images are labelled as 3 and 4 respectively. Below code dows the following\n",
        "\n",
        "\n",
        "\n",
        "*   Extract Cat and Deer images from the CIFAR data_batch_2 dataset.\n",
        "*   Convert the images to gray scale.\n",
        "* Convert the label values from 3 and 4 to 0 and 4 by subtracting 3 from the labels.\n",
        "* Extract only first 500 images in speed up the training from the extracted images\n",
        "* Split into Training and Testing and prepare the data (transform the dimensions) using `prepare_data` function created above. \n",
        "\n"
      ]
    },
    {
      "metadata": {
        "id": "k1ccB70xb5ye",
        "colab_type": "code",
        "outputId": "284fcdc2-0fe3-473e-8a47-1ed4b7c3d275",
        "colab": {
          "base_uri": "https://localhost:8080/",
          "height": 87
        }
      },
      "cell_type": "code",
      "source": [
        "extract_labels_cifar = [3, 4]\n",
        "labels_dict = {0: 'cat', 1: 'deer'}\n",
        "batch_name = 'data_batch_2'\n",
        "\n",
        "# Extract the cat and deer images from cifar batch \n",
        "X,y = extract_cifar_batch(batch_name, extract_labels_cifar)\n",
        "\n",
        "# Convert the images to gray scale\n",
        "X_gray = convert_to_grayscale(X)\n",
        "\n",
        "# Convert the labels to 0/1\n",
        "y = y-3 \n",
        "\n",
        "# select subset of 500 images to speed up the training\n",
        "idx = range(500)\n",
        "X_gray = X_gray[idx, :]\n",
        "y = y[idx]\n",
        "\n",
        "X_train, X_test, y_train, y_test = prepare_data(X_gray, y)\n",
        "\n",
        "print(X_train.shape)\n",
        "print(X_test.shape)\n",
        "print(y_train.shape)\n",
        "print(y_test.shape)"
      ],
      "execution_count": 0,
      "outputs": [
        {
          "output_type": "stream",
          "text": [
            "(1024, 375)\n",
            "(1024, 125)\n",
            "(1, 375)\n",
            "(1, 125)\n"
          ],
          "name": "stdout"
        }
      ]
    },
    {
      "metadata": {
        "id": "tV9GqXtVuWSq",
        "colab_type": "text"
      },
      "cell_type": "markdown",
      "source": [
        "### Visualise Image"
      ]
    },
    {
      "metadata": {
        "id": "IANv9n-Xpu-T",
        "colab_type": "text"
      },
      "cell_type": "markdown",
      "source": [
        "This function takes in a picture (RBG or gray scale) and displays the image. Input image is identified as RGB by checking the length of the image which should be equal to 32 (height) * 32 (width) * 3 (channels). For grayscale image the dimension will be 32 (height) * 32 (width)"
      ]
    },
    {
      "metadata": {
        "id": "x23pkKNphfQU",
        "colab_type": "code",
        "colab": {}
      },
      "cell_type": "code",
      "source": [
        "def visualise(picture):\n",
        "\n",
        "# Depending whether the image is RBG or grayscale, \n",
        "# change the dimensions\n",
        "  if len(picture) == 3*32*32:\n",
        "    picture.shape = (3,32,32)\n",
        "    # Plot.imshow requires the RGB to be the third dimension, \n",
        "    # not the first, so need to rearrange\n",
        "    picture = picture.transpose([1, 2, 0])\n",
        "  elif len(picture) == 32*32:\n",
        "    picture.shape = (32,32)\n",
        "  else:\n",
        "    raise(Exception(\"Unknown dimension\"))\n",
        "    \n",
        "  plt.imshow(picture)\n",
        "  plt.show()"
      ],
      "execution_count": 0,
      "outputs": []
    },
    {
      "metadata": {
        "colab_type": "code",
        "id": "LfNP9XY-taXS",
        "outputId": "67fa9222-4ba1-4e98-ec14-2f4772c7866c",
        "colab": {
          "base_uri": "https://localhost:8080/",
          "height": 712
        }
      },
      "cell_type": "code",
      "source": [
        "# Display a few images from the batch\n",
        "for i in range (200,202):\n",
        "  visualise(X[i])\n",
        "  print(\"Image\", i,\": Class is \", labels_dict[y[i]])"
      ],
      "execution_count": 0,
      "outputs": [
        {
          "output_type": "display_data",
          "data": {
            "image/png": "[encoded data removed]",
            "text/plain": [
              "<Figure size 576x396 with 1 Axes>"
            ]
          },
          "metadata": {
            "tags": []
          }
        },
        {
          "output_type": "stream",
          "text": [
            "Image 200 : Class is  cat\n"
          ],
          "name": "stdout"
        },
        {
          "output_type": "display_data",
          "data": {
            "image/png": "[encoded data removed]",
            "text/plain": [
              "<Figure size 576x396 with 1 Axes>"
            ]
          },
          "metadata": {
            "tags": []
          }
        },
        {
          "output_type": "stream",
          "text": [
            "Image 201 : Class is  deer\n"
          ],
          "name": "stdout"
        }
      ]
    },
    {
      "metadata": {
        "id": "IY4xjy6vzZK1",
        "colab_type": "code",
        "outputId": "1a2ce711-8cb2-43a2-f573-cf0692c13160",
        "colab": {
          "base_uri": "https://localhost:8080/",
          "height": 712
        }
      },
      "cell_type": "code",
      "source": [
        "# Display a few images in grayscale\n",
        "for i in range (200,202):\n",
        "  visualise(X_gray[i])\n",
        "  print(\"Image\", i,\": Class is \", labels_dict[y[i]])"
      ],
      "execution_count": 0,
      "outputs": [
        {
          "output_type": "display_data",
          "data": {
            "image/png": "[encoded data removed]",
            "text/plain": [
              "<Figure size 576x396 with 1 Axes>"
            ]
          },
          "metadata": {
            "tags": []
          }
        },
        {
          "output_type": "stream",
          "text": [
            "Image 200 : Class is  cat\n"
          ],
          "name": "stdout"
        },
        {
          "output_type": "display_data",
          "data": {
            "image/png": "[encoded data removed]",
            "text/plain": [
              "<Figure size 576x396 with 1 Axes>"
            ]
          },
          "metadata": {
            "tags": []
          }
        },
        {
          "output_type": "stream",
          "text": [
            "Image 201 : Class is  deer\n"
          ],
          "name": "stdout"
        }
      ]
    },
    {
      "metadata": {
        "id": "LnI9TuRYK8h6",
        "colab_type": "text"
      },
      "cell_type": "markdown",
      "source": [
        "### Train Neural Network"
      ]
    },
    {
      "metadata": {
        "id": "1EPXbXRhxGQX",
        "colab_type": "text"
      },
      "cell_type": "markdown",
      "source": [
        "Using the datasets created above, a Shallow Neural Network is trained to predict the image class (cat or deer). \n",
        "\n",
        "**Parameters used:**\n",
        "\n",
        "\n",
        "\n",
        "*   Hidden Layer Size = 100\n",
        "*   Activation Function = tanh\n",
        "* learning rate = 0.05\n",
        "* number of epochs = 15000\n",
        "\n"
      ]
    },
    {
      "metadata": {
        "id": "1j2Pjelh3Bv6",
        "colab_type": "code",
        "outputId": "e3234e5c-7609-4335-da7e-57b38fe5d476",
        "colab": {
          "base_uri": "https://localhost:8080/",
          "height": 295
        }
      },
      "cell_type": "code",
      "source": [
        "hidden_layer_size = 100\n",
        "activation_func = 'tanh'\n",
        "\n",
        "# Training the images takes approx. 5 min\n",
        "\n",
        "weights = NNWithOneHiddenLayer(X_train, \n",
        "                               y_train, \n",
        "                               hidden_layer_size, \n",
        "                               activation_func=activation_func, \n",
        "                               num_epochs=15000, \n",
        "                               learning_rate=0.05)"
      ],
      "execution_count": 0,
      "outputs": [
        {
          "output_type": "stream",
          "text": [
            "Cost after 0 iterations is 0.6934478918228827\n",
            "Cost after 1000 iterations is 0.5053007670476255\n",
            "Cost after 2000 iterations is 0.3287524664986922\n",
            "Cost after 3000 iterations is 0.1767136445672583\n",
            "Cost after 4000 iterations is 0.04811639421733227\n",
            "Cost after 5000 iterations is 0.02327134752647159\n",
            "Cost after 6000 iterations is 0.013924364223973881\n",
            "Cost after 7000 iterations is 0.009635487304289807\n",
            "Cost after 8000 iterations is 0.007243182496514526\n",
            "Cost after 9000 iterations is 0.005742118235588286\n",
            "Cost after 10000 iterations is 0.004723063843659953\n",
            "Cost after 11000 iterations is 0.003991150362218689\n",
            "Cost after 12000 iterations is 0.003442790999027475\n",
            "Cost after 13000 iterations is 0.0030182459651693977\n",
            "Cost after 14000 iterations is 0.002680827649250947\n",
            "Cost after 14999 iterations is 0.002407098706211823\n"
          ],
          "name": "stdout"
        }
      ]
    },
    {
      "metadata": {
        "id": "AWfNhskRyMhQ",
        "colab_type": "text"
      },
      "cell_type": "markdown",
      "source": [
        "### Predict using Test Dataset"
      ]
    },
    {
      "metadata": {
        "id": "9P6EXq2ayXNc",
        "colab_type": "text"
      },
      "cell_type": "markdown",
      "source": [
        "Make prediction using the test dataset and calculate accuracy"
      ]
    },
    {
      "metadata": {
        "id": "Mu7gifznJXGC",
        "colab_type": "code",
        "outputId": "6c08383f-ad0e-4d0f-ba3f-21daa7892c72",
        "colab": {
          "base_uri": "https://localhost:8080/",
          "height": 35
        }
      },
      "cell_type": "code",
      "source": [
        "y_predict = predict(X_test, weights, activation_func)\n",
        "accuracy = score(y_test, y_predict)\n",
        "print(\"Accuracy : \", accuracy)"
      ],
      "execution_count": 0,
      "outputs": [
        {
          "output_type": "stream",
          "text": [
            "Accuracy :  56.00000000000001\n"
          ],
          "name": "stdout"
        }
      ]
    },
    {
      "metadata": {
        "id": "YV13foXWLbC4",
        "colab_type": "text"
      },
      "cell_type": "markdown",
      "source": [
        "### Display predictions"
      ]
    },
    {
      "metadata": {
        "id": "q0fMALwGLVto",
        "colab_type": "code",
        "outputId": "a96b83e0-3e7e-44a0-846b-7c90555e3727",
        "colab": {
          "base_uri": "https://localhost:8080/",
          "height": 3491
        }
      },
      "cell_type": "code",
      "source": [
        "# Display a few images in grayscale\n",
        "for i in range (50,60):\n",
        "  visualise(X_test[:, i])\n",
        "  print(\"Image\", i,\": Class is \", labels_dict[y_predict[0, i]])"
      ],
      "execution_count": 0,
      "outputs": [
        {
          "output_type": "display_data",
          "data": {
            "image/png": "[encoded data removed]",
            "text/plain": [
              "<Figure size 576x396 with 1 Axes>"
            ]
          },
          "metadata": {
            "tags": []
          }
        },
        {
          "output_type": "stream",
          "text": [
            "Image 50 : Class is  deer\n"
          ],
          "name": "stdout"
        },
        {
          "output_type": "display_data",
          "data": {
            "image/png": "[encoded data removed]",
            "text/plain": [
              "<Figure size 576x396 with 1 Axes>"
            ]
          },
          "metadata": {
            "tags": []
          }
        },
        {
          "output_type": "stream",
          "text": [
            "Image 51 : Class is  deer\n"
          ],
          "name": "stdout"
        },
        {
          "output_type": "display_data",
          "data": {
            "image/png": "[encoded data removed]",
            "text/plain": [
              "<Figure size 576x396 with 1 Axes>"
            ]
          },
          "metadata": {
            "tags": []
          }
        },
        {
          "output_type": "stream",
          "text": [
            "Image 52 : Class is  cat\n"
          ],
          "name": "stdout"
        },
        {
          "output_type": "display_data",
          "data": {
            "image/png": "[encoded data removed]",
            "text/plain": [
              "<Figure size 576x396 with 1 Axes>"
            ]
          },
          "metadata": {
            "tags": []
          }
        },
        {
          "output_type": "stream",
          "text": [
            "Image 53 : Class is  cat\n"
          ],
          "name": "stdout"
        },
        {
          "output_type": "display_data",
          "data": {
            "image/png": "[encoded data removed]",
            "text/plain": [
              "<Figure size 576x396 with 1 Axes>"
            ]
          },
          "metadata": {
            "tags": []
          }
        },
        {
          "output_type": "stream",
          "text": [
            "Image 54 : Class is  cat\n"
          ],
          "name": "stdout"
        },
        {
          "output_type": "display_data",
          "data": {
            "image/png": "[encoded data removed]",
            "text/plain": [
              "<Figure size 576x396 with 1 Axes>"
            ]
          },
          "metadata": {
            "tags": []
          }
        },
        {
          "output_type": "stream",
          "text": [
            "Image 55 : Class is  cat\n"
          ],
          "name": "stdout"
        },
        {
          "output_type": "display_data",
          "data": {
            "image/png": "[encoded data removed]",
            "text/plain": [
              "<Figure size 576x396 with 1 Axes>"
            ]
          },
          "metadata": {
            "tags": []
          }
        },
        {
          "output_type": "stream",
          "text": [
            "Image 56 : Class is  deer\n"
          ],
          "name": "stdout"
        },
        {
          "output_type": "display_data",
          "data": {
            "image/png": "[encoded data removed]",
            "text/plain": [
              "<Figure size 576x396 with 1 Axes>"
            ]
          },
          "metadata": {
            "tags": []
          }
        },
        {
          "output_type": "stream",
          "text": [
            "Image 57 : Class is  deer\n"
          ],
          "name": "stdout"
        },
        {
          "output_type": "display_data",
          "data": {
            "image/png": "[encoded data removed]",
            "text/plain": [
              "<Figure size 576x396 with 1 Axes>"
            ]
          },
          "metadata": {
            "tags": []
          }
        },
        {
          "output_type": "stream",
          "text": [
            "Image 58 : Class is  cat\n"
          ],
          "name": "stdout"
        },
        {
          "output_type": "display_data",
          "data": {
            "image/png": "[encoded data removed]",
            "text/plain": [
              "<Figure size 576x396 with 1 Axes>"
            ]
          },
          "metadata": {
            "tags": []
          }
        },
        {
          "output_type": "stream",
          "text": [
            "Image 59 : Class is  cat\n"
          ],
          "name": "stdout"
        }
      ]
    },
    {
      "metadata": {
        "id": "CClp_PNp3uD7",
        "colab_type": "text"
      },
      "cell_type": "markdown",
      "source": [
        "## Deep Neural Network"
      ]
    },
    {
      "metadata": {
        "id": "d2KYbPGx2k4q",
        "colab_type": "text"
      },
      "cell_type": "markdown",
      "source": [
        "### Deep Neural Network Using Auto Encoder"
      ]
    },
    {
      "metadata": {
        "id": "uOfJe5w9z1n5",
        "colab_type": "text"
      },
      "cell_type": "markdown",
      "source": [
        "Performance of the Image classification can be improved by using Deep Neural Networks (multplie hidden layers). Deep Neural Network can be implemented like above using forward propogation and back propogation through multiple layers. Another approach for building Deep Neural Network is by using auto-encoders.\n",
        "\n",
        "Auto-Encoders are One layer Neural Network with same number of input and output features. The hidden layer usually consists of fewer cells compared to input/output layers. Once the auto-encoder is trained, it acts as compression/decompression i.e. the model learns to represent the input using the hidden units and the hidden units are used to get the input back. \n",
        "\n",
        "Multiple auto-encoders can be used to form a deep neural network. This can be used to predict the class of the image."
      ]
    },
    {
      "metadata": {
        "id": "yDVo3D3i2F8P",
        "colab_type": "text"
      },
      "cell_type": "markdown",
      "source": [
        "In the below implementation, size of hidden layers is passed as a python list. An Auto-Encoder is trained for each hidden layer except the last one. Every time, the hidden activations from layer L is send as input to auto encoder of layer L+1. Finally for the last layer a Shall Neural Network is trained to predict the output. "
      ]
    },
    {
      "metadata": {
        "id": "GEZhKLgh95c5",
        "colab_type": "code",
        "colab": {}
      },
      "cell_type": "code",
      "source": [
        "def DeepNNUsingAutoEncoder(X, y, hidden_layers, activation_func, num_epochs, learning_rates):\n",
        "  \n",
        "  L = len(hidden_layers)\n",
        "  all_weights = dict()\n",
        "  input_autoencoder = X\n",
        "  \n",
        "# Multiple layers of Auto Encoders \n",
        "  \n",
        "  for i in range(L-1):\n",
        "    \n",
        "    print(\"Training Auto Encoder {}...\".format(i+1))\n",
        "    \n",
        "    all_weights[i+1] = NNWithOneHiddenLayer(input_autoencoder,\n",
        "                                              input_autoencoder,\n",
        "                                              hidden_layers[i],\n",
        "                                              activation_func=activation_func,\n",
        "                                              num_epochs=num_epochs,\n",
        "                                              learning_rate=learning_rates[i])\n",
        "    \n",
        "    activations_autoencoder = feed_forward(input_autoencoder, \n",
        "                                           all_weights[i+1], \n",
        "                                           activation_func)\n",
        "    \n",
        "    input_autoencoder = activations_autoencoder['A1']\n",
        "\n",
        "# Last layer of the Neural Network is a Shall Neural Network    \n",
        "    \n",
        "  print(\"Training Shallow NN\")\n",
        "  all_weights[L] = NNWithOneHiddenLayer(input_autoencoder,\n",
        "                                          y,\n",
        "                                          hidden_layers[L-1],\n",
        "                                          activation_func=activation_func,\n",
        "                                          num_epochs=num_epochs,\n",
        "                                          learning_rate=learning_rates[L-1])\n",
        "  \n",
        "  return all_weights"
      ],
      "execution_count": 0,
      "outputs": []
    },
    {
      "metadata": {
        "id": "gd5Xlhqu22rY",
        "colab_type": "text"
      },
      "cell_type": "markdown",
      "source": [
        "Using the above framework, a two layer Neural Network is trained to predict the labels of the images. \n",
        "\n",
        "The first layer of this Deep Neural Network is formed by training an auto encoder using the CIFAR images training data (X_train) as input and output. `NNWithOneHiddenLayer` is used to train the auto encoder with same input and output datasets and below hyperparameters\n",
        "\n",
        "\n",
        "\n",
        "*   Hidden layer size = 500\n",
        "*   Activation funtion = tanh\n",
        "* number of epochs = 10000\n",
        "* learning rate = 0.001\n",
        "\n",
        "A shallow Neural Network is then trained using the hidden layer as input to this network and using the labels as output. The hyperparameters for this Neural Network is as below\n",
        "\n",
        "*   Hidden layer size = 100\n",
        "*   Activation funtion = tanh\n",
        "* number of epochs = 15000\n",
        "* learning rate = 0.05\n"
      ]
    },
    {
      "metadata": {
        "id": "etKitddW9qpU",
        "colab_type": "text"
      },
      "cell_type": "markdown",
      "source": [
        "*Note: Because of huge number of parameters, the model is taking about 20 to 25 min to complete training *\n"
      ]
    },
    {
      "metadata": {
        "id": "H6KCDx8cBSF6",
        "colab_type": "code",
        "outputId": "d1e34c1b-68f6-4f41-9aae-1358d9de0324",
        "colab": {
          "base_uri": "https://localhost:8080/",
          "height": 607
        }
      },
      "cell_type": "code",
      "source": [
        "deep_hidden_layers = [500, 100]\n",
        "activation_func = 'tanh'\n",
        "num_epochs = 15000\n",
        "learning_rates = [0.001, 0.05]\n",
        "\n",
        "deepWeights = DeepNNUsingAutoEncoder(X_train, \n",
        "                                     y_train, \n",
        "                                     deep_hidden_layers, \n",
        "                                     activation_func, \n",
        "                                     num_epochs, \n",
        "                                     learning_rates)"
      ],
      "execution_count": 0,
      "outputs": [
        {
          "output_type": "stream",
          "text": [
            "Training Auto Encoder 1...\n",
            "Cost after 0 iterations is 709.9602743159431\n",
            "Cost after 1000 iterations is 663.7577787794605\n",
            "Cost after 2000 iterations is 646.4995137774758\n",
            "Cost after 3000 iterations is 631.3350546820752\n",
            "Cost after 4000 iterations is 621.3226030845802\n",
            "Cost after 5000 iterations is 618.7922679256947\n",
            "Cost after 6000 iterations is 614.3784922490321\n",
            "Cost after 7000 iterations is 611.5743986480152\n",
            "Cost after 8000 iterations is 609.3618189064194\n",
            "Cost after 9000 iterations is 607.5330926336661\n",
            "Cost after 10000 iterations is 605.9828446667941\n",
            "Cost after 11000 iterations is 604.6417707071718\n",
            "Cost after 12000 iterations is 603.4648224552236\n",
            "Cost after 13000 iterations is 602.4230494885979\n",
            "Cost after 14000 iterations is 601.4949159828502\n",
            "Cost after 14999 iterations is 600.6772253329301\n",
            "Training Shallow NN\n",
            "Cost after 0 iterations is 0.693574854806605\n",
            "Cost after 1000 iterations is 0.4292461131956638\n",
            "Cost after 2000 iterations is 0.16111970371592865\n",
            "Cost after 3000 iterations is 0.0567563913124377\n",
            "Cost after 4000 iterations is 0.026477936177429908\n",
            "Cost after 5000 iterations is 0.015762594068256818\n",
            "Cost after 6000 iterations is 0.010782214740047749\n",
            "Cost after 7000 iterations is 0.008021170780112077\n",
            "Cost after 8000 iterations is 0.006305631559161675\n",
            "Cost after 9000 iterations is 0.005152370159787421\n",
            "Cost after 10000 iterations is 0.004331323199880044\n",
            "Cost after 11000 iterations is 0.003720825222164914\n",
            "Cost after 12000 iterations is 0.003251205491610284\n",
            "Cost after 13000 iterations is 0.002879998263783915\n",
            "Cost after 14000 iterations is 0.0025799869825076636\n",
            "Cost after 14999 iterations is 0.0023332194231503274\n"
          ],
          "name": "stdout"
        }
      ]
    },
    {
      "metadata": {
        "id": "gBXxdg0A76Gq",
        "colab_type": "text"
      },
      "cell_type": "markdown",
      "source": [
        "### Predict"
      ]
    },
    {
      "metadata": {
        "id": "i1AVwa1b8bU5",
        "colab_type": "text"
      },
      "cell_type": "markdown",
      "source": [
        "Below predict function take the weights from above trained Deep Neural Network and predicts the output as below\n",
        "\n",
        "\n",
        "\n",
        "*   Calculate the Activations using Auto-encoder weights for all the auto encoders (i.e. L-1 layers)\n",
        "*   Using the activations from the last auto-encoder, make predictions for the input images using the weights of last layer L.\n",
        "* Convert the predictions to class 0 or 1 using a threshold of 0.5.\n",
        "\n"
      ]
    },
    {
      "metadata": {
        "id": "7ku_D3D2NPwd",
        "colab_type": "code",
        "colab": {}
      },
      "cell_type": "code",
      "source": [
        "def predict_autoencoder_NN(X, deepWeights, activation_func):\n",
        "  \n",
        "  L = len(deepWeights)\n",
        "  current_activation = X\n",
        "  \n",
        "  for i in range(L):\n",
        "    activations = feed_forward(current_activation, deepWeights[i+1], activation_func)\n",
        "    current_activation = activations['A1']\n",
        "  y_predict = activations['A2'] > 0.5\n",
        "  return y_predict.astype(int)\n",
        "  "
      ],
      "execution_count": 0,
      "outputs": []
    },
    {
      "metadata": {
        "id": "DKpSk6nh9Jyo",
        "colab_type": "text"
      },
      "cell_type": "markdown",
      "source": [
        "Accuracy of the improved Deep Neural Network is shown below"
      ]
    },
    {
      "metadata": {
        "id": "xm0q5jbKD7or",
        "colab_type": "code",
        "outputId": "a638bdfb-6e3c-4bc8-b6ea-925f1d1de10f",
        "colab": {
          "base_uri": "https://localhost:8080/",
          "height": 35
        }
      },
      "cell_type": "code",
      "source": [
        "y_predict = predict_autoencoder_NN(X_test, deepWeights, activation_func)\n",
        "accuracy = score(y_test, y_predict)\n",
        "print(\"Accuracy : \", accuracy)"
      ],
      "execution_count": 0,
      "outputs": [
        {
          "output_type": "stream",
          "text": [
            "Accuracy :  60.8\n"
          ],
          "name": "stdout"
        }
      ]
    },
    {
      "metadata": {
        "id": "lI7_JFifBtKX",
        "colab_type": "text"
      },
      "cell_type": "markdown",
      "source": [
        "Observation: Accuracy is varying between 60 to 68 depending on the test train split."
      ]
    },
    {
      "metadata": {
        "id": "kqYejDvqwKmz",
        "colab_type": "text"
      },
      "cell_type": "markdown",
      "source": [
        "## Deep Neural Network with multiple layers \n",
        "\n",
        "To capture more insights and improve the performance of  Image classification can be done by using Deep Neural Networks (multplie hidden layers). Deep Neural Network can be implemented in the same way as shallow network except that it consists of L layer forward propogation and back propogation through multiple layers. "
      ]
    },
    {
      "metadata": {
        "id": "1mljO9gIzeGg",
        "colab_type": "text"
      },
      "cell_type": "markdown",
      "source": [
        "### Initialise Weights\n",
        "\n",
        "For a deep Neural Network, there will be a $l$ sets of weight matrices and bias vectors.\n",
        "\n",
        "The weight matrices are initiaised using random function of numpy and to make the weights smaller, 0.01 is multiplied. Bais vectors are initialised with zeros. Python uses broadcasting to expand the bias vectors to match the dimensions of corresponsding weight vectors. \n",
        "\n",
        "**Dimensions:**\n",
        "\n",
        "**WL** : $(n^{[L]}, n^{[L-1]})$\n",
        "\n",
        "**bL** : $(n^{[L]}, 1)$\n",
        "\n",
        "Where $n^{[l]}$ indicates the  number of cells in layer $l$\n",
        "\n",
        "\n"
      ]
    },
    {
      "metadata": {
        "id": "pCoQ0kBZwPBy",
        "colab_type": "code",
        "colab": {}
      },
      "cell_type": "code",
      "source": [
        "def dnn_initialize_weights(layer_dims):\n",
        "    weights = dict()\n",
        "    L = len(layer_dims)  # number of layers in the network\n",
        "\n",
        "    for l in range(1, L):\n",
        "        weights[\"W\" + str(l)] = np.random.randn(layer_dims[l], layer_dims[l - 1]) * 0.01\n",
        "        weights[\"b\" + str(l)] = np.zeros((layer_dims[l], 1))\n",
        "\n",
        "    return weights\n",
        "  "
      ],
      "execution_count": 0,
      "outputs": []
    },
    {
      "metadata": {
        "id": "Sa0o2TVb16H9",
        "colab_type": "text"
      },
      "cell_type": "markdown",
      "source": [
        "### Deep Forward Propagation\n",
        "\n",
        "In forward propogation, the acivations are calculated by using the input features and weights corresponding to input and hidden layer (W1 and b1). Each layer activations are calculated by calculating the linear function (Z) and applying the activation fuction(relu/sigmoid) to the output of the linear function.\n",
        "\n",
        "for all the previous layers we are using 'relu' as activation function. and in the last output layer, sigmoid activation function is used as we are implementing a binary classifier.\n",
        "\n",
        "**Activatios of Hidden layer:**\n",
        "\n",
        "$Z_{l} = W_{l}.A_{l-1} + b_{l}$\n",
        "\n",
        "$A_{l} = g(Z_{l})$ (relu,sigmoid or tanh activation function can be used here)\n",
        "\n",
        "Here i am using $relu$ activation function\n",
        "\n",
        "\n",
        "$Z_{L} = W_{L}.A_{L-1} + b_{L}$\n",
        "\n",
        "$A_{L} = sigmoid(Z_{L})$\n",
        "\n",
        "\n",
        "where $L$ is the Last layer\n"
      ]
    },
    {
      "metadata": {
        "id": "XJLaVCzB15g7",
        "colab_type": "code",
        "colab": {}
      },
      "cell_type": "code",
      "source": [
        "def dnn_activation_function(Z, ftype='sigmoid'):\n",
        "  \n",
        "  if ftype == 'sigmoid':\n",
        "    return 1 / (1 + np.exp(-1 * Z))\n",
        "  elif ftype == 'tanh':\n",
        "    return np.tanh(Z)\n",
        "  elif ftype == 'relu':\n",
        "    return np.maximum(0, Z)\n",
        "  else:\n",
        "    raise Exception('Invalid activation function') \n",
        "\n",
        "def dnn_activation_forward(A_prev, W, b, activation_func):\n",
        "    \n",
        "    Z = np.dot(W, A_prev) + b\n",
        "    A = dnn_activation_function(Z, activation_func)\n",
        "    cache = (A_prev, W, b, Z)\n",
        "    return A, cache\n",
        "  \n",
        "def dnn_L_Layer_forward(X, weights):\n",
        "    caches = []\n",
        "    A = X\n",
        "    # number of layers in the neural network (length/2 because weights has both W and b)\n",
        "    L = len(weights) // 2  \n",
        "\n",
        "    for l in range(1, L):\n",
        "        A_prev = A\n",
        "        A, cache = dnn_activation_forward(A_prev, weights[\"W\" + str(l)], weights[\"b\" + str(l)], \"relu\")\n",
        "        caches.append(cache)\n",
        "    AL, cache = dnn_activation_forward(A, weights[\"W\" + str(L)], weights[\"b\" + str(L)], \"sigmoid\")\n",
        "    caches.append(cache)\n",
        "    return AL, caches\n"
      ],
      "execution_count": 0,
      "outputs": []
    },
    {
      "metadata": {
        "id": "dlsX7a7WznJL",
        "colab_type": "text"
      },
      "cell_type": "markdown",
      "source": [
        "### Compute Cost\n",
        "\n",
        "Cost of the classifier can be calculated as below\n",
        "\n",
        "$J = \\frac{-1}{m}\\displaystyle\\sum_{i=1}^{m}(y^{(i)}log(AL+ \\epsilon) + (1-y^{(i)})log(1 -AL+\\epsilon)$\n",
        "\n",
        "I have added a small $\\epsilon$  value to avoid $log0$."
      ]
    },
    {
      "metadata": {
        "id": "J7xFTG5kMoMr",
        "colab_type": "code",
        "colab": {}
      },
      "cell_type": "code",
      "source": [
        "def compute_cost_with_epsilon(AL, y):\n",
        "    epsilon = 1e-6\n",
        "    m = y.shape[1]\n",
        "    cost = (-1/m) * np.sum(np.multiply(y, np.log(AL+epsilon)) + np.multiply(1 - y, np.log(1 - AL+epsilon)))\n",
        "    return cost"
      ],
      "execution_count": 0,
      "outputs": []
    },
    {
      "metadata": {
        "id": "70jXbYqpzpHG",
        "colab_type": "text"
      },
      "cell_type": "markdown",
      "source": [
        "### Deep Backpropogation\n",
        "\n",
        "In back propogation, we calculate the gradients of the loss function with respect to the weights and bias parameters.\n",
        "Back propogation can be implemented using the below equations.\n",
        "\n",
        "\n",
        "\n",
        "For layer $l$, \n",
        "\n",
        "$Z^{[l]} = W^{[l]} A^{[l-1]} + b^{[l]}$\n",
        "\n",
        "$dZ^{[l]} = \\frac{\\partial \\mathcal{L} }{\\partial Z^{[l]}}$. \n",
        " \n",
        "Computed the  $(dW^{[l]}, db^{[l]} dA^{[l-1]})$ from $dZ^{[l]}$ by using the below formulae\n",
        "\n",
        "\n",
        "$$ dW^{[l]} = \\frac{\\partial \\mathcal{L} }{\\partial W^{[l]}} = \\frac{1}{m} dZ^{[l]} A^{[l-1] T} $$\n",
        "$$ db^{[l]} = \\frac{\\partial \\mathcal{L} }{\\partial b^{[l]}} = \\frac{1}{m} \\sum_{i = 1}^{m} dZ^{[l](i)}$$\n",
        "$$ dA^{[l-1]} = \\frac{\\partial \\mathcal{L} }{\\partial A^{[l-1]}} = W^{[l] T} dZ^{[l]}$$\n"
      ]
    },
    {
      "metadata": {
        "id": "MEnbn9ZH1CR1",
        "colab_type": "code",
        "colab": {}
      },
      "cell_type": "code",
      "source": [
        "def dnn_activation_backward(dA, Z, activation_func):\n",
        "    if activation_func == 'relu':\n",
        "        dZ = np.array(dA, copy=True)  \n",
        "        dZ[Z <= 0] = 0    \n",
        "    elif activation_func == 'sigmoid':\n",
        "        S = dnn_activation_function(Z, activation_func)\n",
        "        dZ = dA * S * (1 - S)\n",
        "        \n",
        "    return dZ\n",
        "\n",
        "def dnn_back_propogation(dZ, A_prev, W, b):\n",
        "    # finding the gradients of dW and db by accessing the values from cache\n",
        "    m = A_prev.shape[1]\n",
        "    dW = (1/m)*np.dot(dZ,A_prev.T)\n",
        "    db = (1/m)*np.sum(dZ, axis=1, keepdims= True)\n",
        "    dA_prev = np.dot(W.T,dZ)\n",
        "    return dA_prev, dW, db\n",
        "\n",
        "\n",
        "def dnn_linear_activation_backward(dA, cache, activation_func):\n",
        "  \n",
        "    A_prev, W, b, Z = cache\n",
        "\n",
        "    dZ = dnn_activation_backward(dA, Z, activation_func)\n",
        "    dA_prev, dW, db = dnn_back_propogation(dZ, A_prev, W, b)\n",
        "    return dA_prev, dW, db\n",
        "  \n",
        "\n",
        "def dnn_L_Layer_backward(AL, Y, caches):\n",
        "    grads = dict()\n",
        "    L = len(caches)\n",
        "    m = AL.shape[1]\n",
        "    Y = Y.reshape(AL.shape)\n",
        "\n",
        "    # Initializing the backpropagation\n",
        "    dAL = -(np.divide(Y, AL) - np.divide(1 - Y, 1 - AL))\n",
        "    \n",
        "    current_cache = caches[-1]\n",
        "    grads[\"dA\" + str(L - 1)], grads[\"dW\" + str(L)], grads[\"db\" + str(L)] = dnn_linear_activation_backward(dAL,current_cache,'sigmoid')\n",
        "   \n",
        "    for l in reversed(range(L - 1)):\n",
        "        current_cache = caches[l]\n",
        "        grads[\"dA\" + str(l)], grads[\"dW\" + str(l + 1)], grads[\"db\" + str(l + 1)] = dnn_linear_activation_backward(grads[\"dA\" + str(l + 1)], current_cache, 'relu')\n",
        "\n",
        "    return grads\n"
      ],
      "execution_count": 0,
      "outputs": []
    },
    {
      "metadata": {
        "id": "iuflhBabzy_s",
        "colab_type": "text"
      },
      "cell_type": "markdown",
      "source": [
        "### Update Weights\n",
        "\n",
        "Once the gradients are calculated, below function updates the weights using learning rate and gradients of weights"
      ]
    },
    {
      "metadata": {
        "id": "QOjURad3wQo8",
        "colab_type": "code",
        "colab": {}
      },
      "cell_type": "code",
      "source": [
        "def dnn_update_weights(weights, grads, learning_rate):\n",
        "    L = len(weights) // 2 \n",
        "    for l in range(L):\n",
        "        weights[\"W\" + str(l + 1)] = weights[\"W\" + str(l + 1)] - learning_rate * grads[\"dW\" + str(l + 1)]\n",
        "        weights[\"b\" + str(l + 1)] = weights[\"b\" + str(l + 1)] - learning_rate * grads[\"db\" + str(l + 1)]\n",
        "    return weights"
      ],
      "execution_count": 0,
      "outputs": []
    },
    {
      "metadata": {
        "id": "OKhf6k8fz01j",
        "colab_type": "text"
      },
      "cell_type": "markdown",
      "source": [
        "### L Layer Deep Neural Network Model\n",
        "\n",
        "Using the functions created above, a deep Neural Network with $L$ layer can be created as below\n",
        "\n",
        "\n",
        "1.   Initialise the weights of the deep Neural Network using the number of input features, hidden layer dimensionalities and ouput layer size. As we are implementing a binary classification Neural Network, an output layer of size 1 is used.\n",
        "2.   Activations of each layer is calculated using the input data and weights. A default activation function of relu is used to calculate the activations of hidden layers. and for the last layer using the sigmoid activation function. we can change this to any activation function.\n",
        "\n",
        "3. Cost is computed using the activations of output layer (`AL`) and the actual output Y.\n",
        "\n",
        "4. Compute the gradients using back propogation\n",
        "\n",
        "5. Update the weights using the gradients \n",
        "\n",
        "6. Run steps 2-5 multiple times (number of epochs) to train the deep neural network.\n",
        "\n"
      ]
    },
    {
      "metadata": {
        "id": "7XwzlSCf-71s",
        "colab_type": "code",
        "colab": {}
      },
      "cell_type": "code",
      "source": [
        "def dnn_L_Layer(X, Y, layers_dims, learning_rate=0.0075, num_iterations=1000): \n",
        "\n",
        "    weights = dnn_initialize_weights(layers_dims)\n",
        "\n",
        "    for i in range(0, num_iterations):\n",
        "\n",
        "        AL, caches = dnn_L_Layer_forward(X, weights)\n",
        "        cost = compute_cost_with_epsilon(Y, AL)\n",
        "        grads = dnn_L_Layer_backward(AL, Y, caches)\n",
        "        weights = dnn_update_weights(weights, grads, learning_rate)\n",
        "        if i % 1000 == 0:\n",
        "            print (\"Cost after iteration %i: %f\" % (i, cost))\n",
        "            \n",
        "    print (\"Cost after iteration %i: %f\" % (i, cost))\n",
        "\n",
        "    return weights \n",
        "    \n",
        "  "
      ],
      "execution_count": 0,
      "outputs": []
    },
    {
      "metadata": {
        "id": "L7SEoXxaRDHK",
        "colab_type": "text"
      },
      "cell_type": "markdown",
      "source": [
        "## Training the Model "
      ]
    },
    {
      "metadata": {
        "id": "EnGSShvTREqO",
        "colab_type": "code",
        "outputId": "3fc469d0-683d-44d9-b717-d4cd8d46cbfc",
        "colab": {
          "base_uri": "https://localhost:8080/",
          "height": 208
        }
      },
      "cell_type": "code",
      "source": [
        "layer_dims =[1024,100,50,1]\n",
        "\n",
        "dnn_weights = dnn_L_Layer(X_train, \n",
        "                        y_train, \n",
        "                        layer_dims, \n",
        "                        learning_rate=0.02,\n",
        "                        num_iterations = 10000)"
      ],
      "execution_count": 0,
      "outputs": [
        {
          "output_type": "stream",
          "text": [
            "Cost after iteration 0: 6.907754\n",
            "Cost after iteration 1000: 6.906100\n",
            "Cost after iteration 2000: 6.904553\n",
            "Cost after iteration 3000: 6.887762\n",
            "Cost after iteration 4000: 6.271271\n",
            "Cost after iteration 5000: 4.242412\n",
            "Cost after iteration 6000: 2.315383\n",
            "Cost after iteration 7000: 0.641872\n",
            "Cost after iteration 8000: 0.166891\n",
            "Cost after iteration 9000: 0.077975\n",
            "Cost after iteration 9999: 0.047277\n"
          ],
          "name": "stdout"
        }
      ]
    },
    {
      "metadata": {
        "id": "Z81ubbQLSLby",
        "colab_type": "text"
      },
      "cell_type": "markdown",
      "source": [
        "## Predict\n",
        "\n",
        "\n",
        "Below functions makes the predictions using the L_Layer_ forward function with test data. A threshold of 0.5 is used to predict the actual output i.e. if the output of the Neural Network is greater than 0.5, a prediction of 1 is made and if the output is less than 0.5, a pediction of 0 is made.\n"
      ]
    },
    {
      "metadata": {
        "id": "J4EwUTRoSIOG",
        "colab_type": "code",
        "colab": {}
      },
      "cell_type": "code",
      "source": [
        "def dnn_predict(X, weights):\n",
        "    AL,_= dnn_L_Layer_forward(X_test, weights)\n",
        "    y_predict =  AL > 0.5\n",
        "    return y_predict.astype(int)"
      ],
      "execution_count": 0,
      "outputs": []
    },
    {
      "metadata": {
        "id": "BfbTphjE9nRI",
        "colab_type": "text"
      },
      "cell_type": "markdown",
      "source": [
        "Below code makes the predictions using test dataset and calculates the accuracy"
      ]
    },
    {
      "metadata": {
        "id": "3XEuAPbLx5ym",
        "colab_type": "code",
        "outputId": "dca86db0-1a94-4395-eadd-48ae67db96af",
        "colab": {
          "base_uri": "https://localhost:8080/",
          "height": 35
        }
      },
      "cell_type": "code",
      "source": [
        "y_predict = dnn_predict(X_test, dnn_weights)\n",
        "accuracy = score(y_test, y_predict)\n",
        "print(\"Accuracy : \", accuracy)"
      ],
      "execution_count": 0,
      "outputs": [
        {
          "output_type": "stream",
          "text": [
            "Accuracy :  60.8\n"
          ],
          "name": "stdout"
        }
      ]
    },
    {
      "metadata": {
        "id": "QF3C2w8lHKJw",
        "colab_type": "text"
      },
      "cell_type": "markdown",
      "source": [
        "### Observation\n",
        "\n",
        "By implementing the deep neural networks , the accuracy for the image classification has increased significantly."
      ]
    },
    {
      "metadata": {
        "id": "RXGHI036BGf4",
        "colab_type": "text"
      },
      "cell_type": "markdown",
      "source": [
        "## References\n",
        "\n",
        "1. Andrew N.G Deep learning Course (Neural Networks and Deep Learning)\n",
        "2. Auto Encoder : Class lecture Slides\n",
        "3. Plot decision boundary : https://scikit-learn.org/stable/auto_examples/ensemble/plot_voting_decision_regions.html\n",
        "\n"
      ]
    }
  ]
}