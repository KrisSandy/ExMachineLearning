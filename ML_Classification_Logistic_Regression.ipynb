{
  "nbformat": 4,
  "nbformat_minor": 0,
  "metadata": {
    "colab": {
      "name": "ML Classification Logistic Regression",
      "version": "0.3.2",
      "provenance": [],
      "collapsed_sections": [],
      "include_colab_link": true
    },
    "kernelspec": {
      "name": "python3",
      "display_name": "Python 3"
    }
  },
  "cells": [
    {
      "cell_type": "markdown",
      "metadata": {
        "id": "view-in-github",
        "colab_type": "text"
      },
      "source": [
        "<a href=\"https://colab.research.google.com/github/KrisSandy/ExMachineLearning/blob/master/ML_Classification_Logistic_Regression.ipynb\" target=\"_parent\"><img src=\"https://colab.research.google.com/assets/colab-badge.svg\" alt=\"Open In Colab\"/></a>"
      ]
    },
    {
      "metadata": {
        "id": "L8rsZzq1WgBM",
        "colab_type": "text"
      },
      "cell_type": "markdown",
      "source": [
        "# Machine Learning | Classification | Logistic regression\n",
        "Author: SandyBoy"
      ]
    },
    {
      "metadata": {
        "id": "67dfWLOAAPgO",
        "colab_type": "text"
      },
      "cell_type": "markdown",
      "source": [
        "## Logistic Regression"
      ]
    },
    {
      "metadata": {
        "id": "z6wCKc8IARdp",
        "colab_type": "text"
      },
      "cell_type": "markdown",
      "source": [
        "Logistic regression is a machine learning technique used for classification problems. In this technique the probability of the response is calculated for the give predictors using sigmoid function:\n",
        "\n",
        "$h(\\theta) = g(z) = \\frac{1}{(1+e^{-z})} = \\frac{1}{(1+e^{-\\theta^TX})} $\n",
        "\n",
        "where $ z = \\theta^TX$\n",
        "\n",
        "This range of the sigmoid function is between 0 and 1. \n"
      ]
    },
    {
      "metadata": {
        "id": "pE7RKjtOGNde",
        "colab_type": "text"
      },
      "cell_type": "markdown",
      "source": [
        "#### Decision Boundry\n",
        "After training a logistic regression model with the data, for new example if the output of the sigmoid function is > 0.5, then we can say its a case of autoimmune disease, and if the result if < 0.5, then its otherwise. The threshold can be tuned based on the classifier.\n",
        "\n",
        "$\\text{if } h(\\theta) \\geq 0.5 \\text{ predict } y = 1$\n",
        "\n",
        "$\\text{if } h(\\theta) \\lt 0.5 \\text{ predict } y = 0$"
      ]
    },
    {
      "metadata": {
        "id": "XtP49mqIA5F5",
        "colab_type": "text"
      },
      "cell_type": "markdown",
      "source": [
        "####Sigmoid Function"
      ]
    },
    {
      "metadata": {
        "id": "_wfgczaTAMp6",
        "colab_type": "code",
        "outputId": "8dc9d2d3-8cb6-4751-a176-d2831aa9c463",
        "colab": {
          "base_uri": "https://localhost:8080/",
          "height": 364
        }
      },
      "cell_type": "code",
      "source": [
        "import math\n",
        "import matplotlib.pyplot as plt\n",
        "import numpy as np\n",
        "\n",
        "x = np.arange(-10., 10., 0.2)\n",
        "y = [1/(1+math.exp(-i)) for i in x]\n",
        "plt.plot(x, y)\n",
        "plt.plot([2.5, -2.5], [0.5, 0.5], label=\"Decision Boundry\")\n",
        "plt.legend(loc=\"lower right\")"
      ],
      "execution_count": 0,
      "outputs": [
        {
          "output_type": "execute_result",
          "data": {
            "text/plain": [
              "<matplotlib.legend.Legend at 0x7fa95db14e80>"
            ]
          },
          "metadata": {
            "tags": []
          },
          "execution_count": 13
        },
        {
          "output_type": "display_data",
          "data": {
            "image/png": "[encoded data removed]",
            "text/plain": [
              "<matplotlib.figure.Figure at 0x7fa95db8c400>"
            ]
          },
          "metadata": {
            "tags": []
          }
        }
      ]
    },
    {
      "metadata": {
        "id": "tujHKJiRD-K4",
        "colab_type": "text"
      },
      "cell_type": "markdown",
      "source": [
        "#### Cost Function\n",
        "\n",
        "$J(\\theta) = -\\frac{1}{m}\\displaystyle\\sum_{i=1}^{m}[y^{(i)}\\log(h_\\theta(x^{(i)})) + (1-y^{(i)})(\\log(1-h_\\theta(x^{(i)})))] + \\frac{\\lambda}{2m}\\displaystyle\\sum_{j=1}^{m}\\theta_j^2$\n",
        "\n",
        "The last parameter in the equation is the regularization parameter. It is used to reduce the magnitude / values of parameters $\\theta_j$. This will ensure the mode is not be overfitted.\n",
        "\n",
        "##### *Vectorized Implementation*\n",
        "\n",
        "$J(\\theta) = -\\frac{1}{m}(y^T\\log(h) + (1-y^T)\\log(1-h)) + \\frac{\\lambda}{2m}\\displaystyle\\sum_{j=1}^{m}\\theta_j^2$\n",
        "\n",
        "$\\text{where } h = \\theta^TX$\n"
      ]
    },
    {
      "metadata": {
        "id": "Y_Ckr8CwGR0z",
        "colab_type": "text"
      },
      "cell_type": "markdown",
      "source": [
        "#### Gradient Decent\n",
        "\n",
        "$\\text{Repeat until convergence}$\n",
        "\n",
        "$\\{\n",
        "\\theta_j := \\theta_j - \\frac{\\alpha}{m}\\displaystyle\\sum_{i=1}^{m}(h_\\theta(x^{(i)}) - y^{(i)})x_j^{(i)}\n",
        "\\}$\n",
        "\n",
        "##### *Vectorized Implementation*\n",
        "$\\theta = \\theta - \\frac{\\alpha}{m}X^T(h-y)$\n",
        "\n",
        "$\\text{where } h = \\theta^TX$"
      ]
    },
    {
      "metadata": {
        "id": "k0L_X7SeJpov",
        "colab_type": "text"
      },
      "cell_type": "markdown",
      "source": [
        "#### Regularization \n",
        "\n",
        "Small values for parameters \n",
        "\n",
        "* Keep all the features, but reduce magnitude/values of  parameters.\n",
        "* Works well when we have a lot of features, each of which contributes a bit to predicting    \n",
        "* “Simpler” hypothesis\n",
        "* Less prone to overfitting "
      ]
    },
    {
      "metadata": {
        "id": "YNCiiHDYbs-A",
        "colab_type": "text"
      },
      "cell_type": "markdown",
      "source": [
        "## Why scikit-learn"
      ]
    },
    {
      "metadata": {
        "id": "vBWrRNEFWtEs",
        "colab_type": "text"
      },
      "cell_type": "markdown",
      "source": [
        "There are many open source Machine learning packages available in the market. TensorFlow, SciKit-learn, Caffe are few to name. For this task I have chosen scikit-learn library which is an open source package developed in python. scikit-learn along with other scientific packages in python (pandas, numpy etc) provides powerful data processing and machine learning tools which can be leveraged with ease.\n",
        "\n",
        "Besides readily available implementation of Logistic Regression algorithm, below are some of the main reasons for choosing scikit-learn\n",
        "\n",
        "\n",
        "*   scikit-learn is open source package implemented in python.\n",
        "*   Its regularly updated with more than 1 release per year which means the packages are up to date.\n",
        "* Easy to use \n",
        "* It has implementations for most of the machine learning tasks such as Clustering, Classification, Regression etc.\n",
        "* Very good and up to date documentation available.\n",
        "\n",
        "Beow are some of the features of scikit learn:\n",
        "\n",
        "*  Powerful functions for data pre processing, transformations and data normalization.\n",
        "*  Functions to perform many of the Classification, Regression, Clustering algorithms. All the algorithms follow same design principles, so it is easy to adopt and use different machine learning algorithms. \n",
        "* Provides powerful functions for Dimensionality reduction \n",
        "\n",
        "\n",
        "*Reference: https://www.oreilly.com/ideas/six-reasons-why-i-recommend-scikit-learn*\n"
      ]
    },
    {
      "metadata": {
        "id": "nhbriW06b3-W",
        "colab_type": "text"
      },
      "cell_type": "markdown",
      "source": [
        "## Data Pre-processing"
      ]
    },
    {
      "metadata": {
        "id": "0PtJzlvmSN7D",
        "colab_type": "text"
      },
      "cell_type": "markdown",
      "source": [
        ""
      ]
    },
    {
      "metadata": {
        "id": "g5ygSy_McMKt",
        "colab_type": "text"
      },
      "cell_type": "markdown",
      "source": [
        "Below are the steps followed for getting the data in to the format used by scikit learn:\n",
        "\n",
        "* Data in the dataset is separated by tab. Each row represents an attribute and columns represent each individual patients. \n",
        "\n",
        "* In order to load the data into pandas dataframe, the file is read using read_csv using the separator as tab ('\\t'). A transpose of the dataframe is required to bring the data into traditional format i.e. features in columns and observations (patients) in rows. \n",
        "\n",
        "* After getting the data in desired format, column names are added to give more sense and completeness to the dataframe.\n",
        "\n",
        "* Data and Response used to train and test the models should be in numbers as numpy arrays. So Autoimmune_Disease column needs to be converted to 0 and 1 representing negative and positive respectively. "
      ]
    },
    {
      "metadata": {
        "id": "UpXmQt6Efon5",
        "colab_type": "code",
        "outputId": "15de8a03-b5f3-4b61-ff0d-c1fc8d61c059",
        "colab": {
          "base_uri": "https://localhost:8080/",
          "height": 34
        }
      },
      "cell_type": "code",
      "source": [
        "from google.colab import drive\n",
        "drive.mount('/content/gdrive')"
      ],
      "execution_count": 0,
      "outputs": [
        {
          "output_type": "stream",
          "text": [
            "Drive already mounted at /content/gdrive; to attempt to forcibly remount, call drive.mount(\"/content/gdrive\", force_remount=True).\n"
          ],
          "name": "stdout"
        }
      ]
    },
    {
      "metadata": {
        "id": "LL3TIi1CgFyj",
        "colab_type": "code",
        "colab": {}
      },
      "cell_type": "code",
      "source": [
        "import pandas as pd\n",
        "import numpy\n",
        "fields = ['Age', 'Blood_Pressure', 'BMI', 'Plasma_level', 'Autoimmune_Disease', \n",
        "          'Adverse_events', 'Drug_in_serum', 'Liver_function', 'Activity_test',\n",
        "          'Secondary_test']\n",
        "autoimmune_data = pd.read_csv(r'/content/gdrive/My Drive/GYE06/CT475_ML/autoimmune.txt',\n",
        "                 sep='\\t',\n",
        "                 header=None\n",
        "                )\n",
        "autoimmune_data = autoimmune_data.transpose()\n",
        "autoimmune_data.columns = fields\n",
        "autoimmune_data['Autoimmune_Disease'] = autoimmune_data['Autoimmune_Disease'] \\\n",
        ".map({'negative':0, 'positive':1})"
      ],
      "execution_count": 0,
      "outputs": []
    },
    {
      "metadata": {
        "id": "gXeIEDRpn_ps",
        "colab_type": "code",
        "outputId": "2998cecf-f28a-4564-95e1-4a2c3eeb1e79",
        "colab": {
          "base_uri": "https://localhost:8080/",
          "height": 52
        }
      },
      "cell_type": "code",
      "source": [
        "from sklearn.model_selection import train_test_split\n",
        "from sklearn import preprocessing\n",
        "X = autoimmune_data.drop(columns = ['Autoimmune_Disease'])\n",
        "y = autoimmune_data['Autoimmune_Disease']\n",
        "X_train, X_test, y_train, y_test = train_test_split(X, y, random_state = 99)\n",
        "print(X_train.shape)\n",
        "print(X_test.shape)"
      ],
      "execution_count": 0,
      "outputs": [
        {
          "output_type": "stream",
          "text": [
            "(282, 9)\n",
            "(94, 9)\n"
          ],
          "name": "stdout"
        }
      ]
    },
    {
      "metadata": {
        "id": "x_C49xCq_6M0",
        "colab_type": "text"
      },
      "cell_type": "markdown",
      "source": [
        "## Model Construction"
      ]
    },
    {
      "metadata": {
        "id": "n1spNEQRH5gt",
        "colab_type": "code",
        "outputId": "7d74160d-7eed-46bf-a629-c787f8283ee6",
        "colab": {
          "base_uri": "https://localhost:8080/",
          "height": 34
        }
      },
      "cell_type": "code",
      "source": [
        "from sklearn.linear_model import LogisticRegression\n",
        "autoimmune_log_reg = LogisticRegression()\n",
        "autoimmune_log_reg.fit(X_train, y_train)\n",
        "accuracy_log_reg = autoimmune_log_reg.score(X_test, y_test)\n",
        "print(\"Accuracy using Logistic Regression is {}\".format(accuracy_log_reg))"
      ],
      "execution_count": 0,
      "outputs": [
        {
          "output_type": "stream",
          "text": [
            "Accuracy using Logistic Regression is 0.7978723404255319\n"
          ],
          "name": "stdout"
        }
      ]
    },
    {
      "metadata": {
        "id": "C-QaJv3eILHU",
        "colab_type": "text"
      },
      "cell_type": "markdown",
      "source": [
        "References: \n",
        "\n",
        "Logistic Regression: https://towardsdatascience.com/logistic-regression-detailed-overview-46c4da4303bc \n",
        "\n"
      ]
    },
    {
      "metadata": {
        "id": "aBd22-n9wilk",
        "colab_type": "text"
      },
      "cell_type": "markdown",
      "source": [
        "## Model Evaluation\n"
      ]
    },
    {
      "metadata": {
        "id": "E0Z4VdXLhQGN",
        "colab_type": "text"
      },
      "cell_type": "markdown",
      "source": [
        "### 10-fold cross Validation"
      ]
    },
    {
      "metadata": {
        "id": "bL2TRMbZNTUe",
        "colab_type": "text"
      },
      "cell_type": "markdown",
      "source": [
        "k fold cross validation is a technique used to find the accuracy of the model. In this technique the dataset is divided into k folds. The training of the model is done using k-1 folds and 1 fold is used for testing the model. This process is repeated k-1 times and changing the testing fold in each iteration. The accuracy of the model is calculated for each iteration and the mean of all the accuracies are taken to get the model accuracy.\n"
      ]
    },
    {
      "metadata": {
        "id": "vM93jySLdK69",
        "colab_type": "code",
        "outputId": "1c7042cb-3da8-4680-d55f-570f46a7eac3",
        "colab": {
          "base_uri": "https://localhost:8080/",
          "height": 34
        }
      },
      "cell_type": "code",
      "source": [
        "from sklearn.model_selection import cross_val_score\n",
        "accuracy_log_reg = cross_val_score(autoimmune_log_reg, X_train, y_train, cv=10).mean()\n",
        "print(\"Accuracy using Logistic Regression is {}\".format(accuracy_log_reg))"
      ],
      "execution_count": 0,
      "outputs": [
        {
          "output_type": "stream",
          "text": [
            "Accuracy using Logistic Regression is 0.7551724137931034\n"
          ],
          "name": "stdout"
        }
      ]
    },
    {
      "metadata": {
        "id": "iMg0orlwde2K",
        "colab_type": "text"
      },
      "cell_type": "markdown",
      "source": [
        "### Confusion Matrix"
      ]
    },
    {
      "metadata": {
        "id": "QEfKiDPfdjc6",
        "colab_type": "text"
      },
      "cell_type": "markdown",
      "source": [
        "Confusion matrix is one of the methods used to measure the performance of the model with 2 or\n",
        "more classes. Its basically a table of counts between actual and predicted. \n",
        "\n"
      ]
    },
    {
      "metadata": {
        "id": "Qldzs9EqhncR",
        "colab_type": "code",
        "outputId": "51bd3b7b-ea61-41ef-f7cb-0b5e1f9811f9",
        "colab": {
          "base_uri": "https://localhost:8080/",
          "height": 52
        }
      },
      "cell_type": "code",
      "source": [
        "from sklearn.metrics import confusion_matrix\n",
        "y_predict_log_reg = autoimmune_log_reg.predict(X_test)\n",
        "confusion_matrix_log_reg = confusion_matrix(y_test, y_predict_log_reg)\n",
        "tn, fp, fn, tp = confusion_matrix_log_reg.ravel()\n",
        "print(confusion_matrix_log_reg)"
      ],
      "execution_count": 0,
      "outputs": [
        {
          "output_type": "stream",
          "text": [
            "[[59  3]\n",
            " [16 16]]\n"
          ],
          "name": "stdout"
        }
      ]
    },
    {
      "metadata": {
        "id": "l_PmEZwuilTW",
        "colab_type": "text"
      },
      "cell_type": "markdown",
      "source": [
        "### ROC Curves and AUROC"
      ]
    },
    {
      "metadata": {
        "id": "NpPA1fNXin_M",
        "colab_type": "text"
      },
      "cell_type": "markdown",
      "source": [
        "From the above confusion matrix, we can derive below\n",
        "\n",
        "**Sensitivity, Recall, True positive rate, Hit Rate : **\n",
        "\n",
        "$TPR = TP/(TP+FN)$\n",
        "\n",
        "**Specificity, Selectivity, True Negative Rate :**\n",
        "\n",
        "$TNR = TN/(TN+FP)$\n",
        "\n",
        "**Precision: **\n",
        "\n",
        "$ Precision = TP / (TP+FP)$\n",
        "\n",
        "**Fall-out or False Positive Rate : **\n",
        "\n",
        "$FPR = FP/(FP+TN)$ i.e. $1-Specificity$ \n",
        "\n",
        "**Accuracy : **\n",
        "\n",
        "$ Accuracy = TP + TN / (Total)$\n"
      ]
    },
    {
      "metadata": {
        "id": "fk-Fqlu_lwQw",
        "colab_type": "text"
      },
      "cell_type": "markdown",
      "source": [
        "ROC curves are plotted with FPR in the x-axis and TPR in the y-axis. For a binary classification model,\n",
        "number of true positives and true negatives can be varied but adjusting the threshold of the\n",
        "classifier. For example in logistic regression this threshold is set to 0.5 by default and\n",
        "If\n",
        "P(X) > 0.5 then y = 1,\n",
        "P(X) <= 0.5 then y = 0.\n",
        "To plot the ROC curve this threshold is changed in steps and various observations for TPR and FPR\n",
        "are taken at each step. Finally all the observations are\n",
        "plotted.\n",
        "Classification performance can be measured using ‘Area\n",
        "Under ROC curve’ and it varies from 0 to 1. When the\n",
        "classifier predicts everything incorrectly, AUC will be equal\n",
        "to zero and ROC curve will be the line in orange. When the\n",
        "classifier predicts everything correctly, AUC will be equal to\n",
        "1 and the ROC curve will be the line in red. If AUC is 0.5 the\n",
        "graph will be along the line of equality which indicate a\n",
        "random classifier. As the AUC increases the curve will be\n",
        "closer to upper left hand corner."
      ]
    },
    {
      "metadata": {
        "id": "6j2DjC47lx8N",
        "colab_type": "code",
        "outputId": "db6f8e26-3fa3-4543-8b8a-8e3884189165",
        "colab": {
          "base_uri": "https://localhost:8080/",
          "height": 376
        }
      },
      "cell_type": "code",
      "source": [
        "import matplotlib.pyplot as plt\n",
        "plt.plot([0,0], [1, 0], [1, 1], color=\"red\")\n",
        "plt.plot([1,1], [0, 1], [0, 0], color=\"orange\")\n",
        "plt.plot([0, 1], [0, 1], linestyle='--')\n",
        "plt.xlabel(\"False Positive Rate\")\n",
        "plt.ylabel(\"True Positive Rate\")\n",
        "plt.title(\"ROC Curve - Explained\")\n",
        "plt.show()"
      ],
      "execution_count": 0,
      "outputs": [
        {
          "output_type": "display_data",
          "data": {
            "image/png": "[encoded data removed]",
            "text/plain": [
              "<matplotlib.figure.Figure at 0x7f2437d16f60>"
            ]
          },
          "metadata": {
            "tags": []
          }
        }
      ]
    },
    {
      "metadata": {
        "id": "dFBEOY8xmqnd",
        "colab_type": "code",
        "colab": {}
      },
      "cell_type": "code",
      "source": [
        "def plot_roc(fpr, tpr, auroc, title):\n",
        "  plt.plot(fpr, tpr)\n",
        "  plt.plot([0, 1], [0, 1], linestyle='--')\n",
        "  plt.xlabel(\"False Positive Rate\")\n",
        "  plt.ylabel(\"True Positive Rate\")\n",
        "  plt.title(\"ROC Curve - {}\".format(title))\n",
        "  plt.figtext(0.7, 0.2, \"AUROC = {:.2f}\".format(auroc), fontweight=\"bold\")\n",
        "  return plt"
      ],
      "execution_count": 0,
      "outputs": []
    },
    {
      "metadata": {
        "id": "zmhiC8_kmRTq",
        "colab_type": "code",
        "outputId": "cc34d404-2a74-4089-880f-a9b1425721d4",
        "colab": {
          "base_uri": "https://localhost:8080/",
          "height": 434
        }
      },
      "cell_type": "code",
      "source": [
        "y_predict_prob_log_reg = autoimmune_log_reg.predict_proba(X_test)[:, 1]\n",
        "plt.hist(y_predict_prob_log_reg)"
      ],
      "execution_count": 0,
      "outputs": [
        {
          "output_type": "execute_result",
          "data": {
            "text/plain": [
              "(array([18., 23., 14.,  9.,  8.,  6.,  5.,  5.,  3.,  3.]),\n",
              " array([0.05298393, 0.1324052 , 0.21182647, 0.29124775, 0.37066902,\n",
              "        0.45009029, 0.52951157, 0.60893284, 0.68835411, 0.76777538,\n",
              "        0.84719666]),\n",
              " <a list of 10 Patch objects>)"
            ]
          },
          "metadata": {
            "tags": []
          },
          "execution_count": 14
        },
        {
          "output_type": "display_data",
          "data": {
            "image/png": "[encoded data removed]",
            "text/plain": [
              "<matplotlib.figure.Figure at 0x7f2437d24780>"
            ]
          },
          "metadata": {
            "tags": []
          }
        }
      ]
    },
    {
      "metadata": {
        "id": "G0S7uM_umx-6",
        "colab_type": "code",
        "outputId": "3cc46878-72c4-4069-e4c7-d0b4926f3f6f",
        "colab": {
          "base_uri": "https://localhost:8080/",
          "height": 376
        }
      },
      "cell_type": "code",
      "source": [
        "from sklearn.metrics import roc_curve, roc_auc_score\n",
        "fpr, tpr, thresholds = roc_curve(y_test, y_predict_prob_log_reg)\n",
        "auroc = roc_auc_score(y_test, y_predict_prob_log_reg)\n",
        "plot_roc(fpr, tpr, auroc , \"Logistic Regression (positive)\").show()"
      ],
      "execution_count": 0,
      "outputs": [
        {
          "output_type": "display_data",
          "data": {
            "image/png": "[encoded data removed]",
            "text/plain": [
              "<matplotlib.figure.Figure at 0x7f2437d242b0>"
            ]
          },
          "metadata": {
            "tags": []
          }
        }
      ]
    },
    {
      "metadata": {
        "id": "WmAPcU6ox7Wh",
        "colab_type": "text"
      },
      "cell_type": "markdown",
      "source": [
        "#### Observations\n",
        "1. Area Under ROC is the area under the blue line in the above graphs. This can be\n",
        "an indication that this model is performing better compared to other models in this\n",
        "case. As I have used only one test set for plotting the ROC curve and haven’t considered the\n",
        "variance of the accuracies, it cannot conclude that this model is performing\n",
        "better than other models. Also as we have used only one test set, we need to consider the\n",
        "variance in the every TPR and FPR which makes it difficult to conclude which mode is better.\n",
        "\n",
        "2. As the ROC curve is plotted between sensitivity and (1-specificity), the observations close to\n",
        "point (0,0), i.e. left side of the ROC curve (below 0.2 on x-axis) gives a model which fails to\n",
        "predict most of the true positives, but the model preforms better in predicting the true\n",
        "negatives. This threshold can be set for the models for which missing a true positive\n",
        "prediction is fine compared to predicting a false positive predictions.\n",
        "\n",
        "3. The right extreme of the ROC curve (above 0.8 on x-axis) gives a model which fails to predict\n",
        "the true negatives, but the model performs better in predicting the true positives. This\n",
        "threshold can be set to models for which identifying a true positive is critical than mis-\n",
        "classifying negatives."
      ]
    },
    {
      "metadata": {
        "id": "T8uQ3tEatcoi",
        "colab_type": "text"
      },
      "cell_type": "markdown",
      "source": [
        "### Learning Curves"
      ]
    },
    {
      "metadata": {
        "id": "_PyYQ2PQtev7",
        "colab_type": "text"
      },
      "cell_type": "markdown",
      "source": [
        "Learning curves are plotted between Training scores and Cross Validation scores with respect to sample size. This gives an indication of how the training and testing scores are varying with respect to the size of the training set. It can be used to decide whether collecting more data improves the performance of the classifier."
      ]
    },
    {
      "metadata": {
        "id": "MXfapkfmtfmS",
        "colab_type": "code",
        "colab": {}
      },
      "cell_type": "code",
      "source": [
        "from sklearn.model_selection import learning_curve\n",
        "import numpy as np\n",
        "\n",
        "def plot_learning_curve(model, X, y):\n",
        "  \n",
        "  train_sizes = np.linspace(.1, 1.0, 15)\n",
        "  cv = 10\n",
        "  train_sizes, train_scores, test_scores = learning_curve(model, X, y, cv=cv, train_sizes=train_sizes)\n",
        "  \n",
        "  train_scores_mean = np.mean(train_scores, axis=1)\n",
        "  train_scores_std  = np.std(train_scores, axis=1)\n",
        "  test_scores_mean  = np.mean(test_scores, axis=1)\n",
        "  test_scores_std   = np.std(test_scores, axis=1)\n",
        "  \n",
        "  plt.plot(train_sizes, train_scores_mean, marker='o', color=\"r\",label=\"Training score\")\n",
        "  plt.plot(train_sizes, test_scores_mean, marker='o', color=\"g\",label=\"Cross-validation score\")\n",
        "  plt.legend(loc=\"best\")\n",
        "  plt.xlabel(\"Training Size\")\n",
        "  plt.ylabel(\"Score\")\n",
        "  \n",
        "  return plt"
      ],
      "execution_count": 0,
      "outputs": []
    },
    {
      "metadata": {
        "id": "uB-pxuchtjEA",
        "colab_type": "code",
        "outputId": "b99f860b-2592-4d23-ce8a-85da07dac415",
        "colab": {
          "base_uri": "https://localhost:8080/",
          "height": 361
        }
      },
      "cell_type": "code",
      "source": [
        "plot_learning_curve(autoimmune_log_reg, X_train, y_train)\n",
        "plt.show()"
      ],
      "execution_count": 0,
      "outputs": [
        {
          "output_type": "display_data",
          "data": {
            "image/png": "[encoded data removed]",
            "text/plain": [
              "<matplotlib.figure.Figure at 0x7f243536e240>"
            ]
          },
          "metadata": {
            "tags": []
          }
        }
      ]
    },
    {
      "metadata": {
        "id": "IOLSuwP7ykyz",
        "colab_type": "text"
      },
      "cell_type": "markdown",
      "source": [
        "#### Observations\n",
        "1. From the learning curve its evident that the scores of training and cross validation set has almost converged, and hence getting more data might not help im improving the performance of the classifier."
      ]
    },
    {
      "metadata": {
        "id": "IQOqkB9QReGU",
        "colab_type": "text"
      },
      "cell_type": "markdown",
      "source": [
        "####References "
      ]
    },
    {
      "metadata": {
        "id": "9TdzNZcRRgud",
        "colab_type": "text"
      },
      "cell_type": "markdown",
      "source": [
        "\n",
        "* *Machine Learning course by Andrew Ng*\n",
        "*   *http://scikit-learn.org/stable/index.html*\n",
        "*  *https://www.dataschool.io/machine-learning-with-scikit-learn/*\n",
        "* *ROC Curves: https://en.wikipedia.org/wiki/Receiver_operating_characteristic*\n",
        "* *http://www.blogspot.udec.ugto.saedsayad.com/docs/ROC101.pdf*\n",
        "* *Confusion Matric: https://en.wikipedia.org/wiki/Confusion_matrix*\n",
        "* *Sklearn ROC curves: http://scikit-learn.org/stable/auto_examples/model_selection/plot_roc.html*\n",
        "* *Sklearn Confusion Matrix: http://scikit-learn.org/stable/modules/generated/sklearn.metrics.confusion_matrix.html*\n",
        "\n"
      ]
    }
  ]
}