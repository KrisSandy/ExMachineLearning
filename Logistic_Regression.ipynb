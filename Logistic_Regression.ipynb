{
  "nbformat": 4,
  "nbformat_minor": 0,
  "metadata": {
    "colab": {
      "name": "Logistic Regression",
      "version": "0.3.2",
      "provenance": [],
      "collapsed_sections": [],
      "include_colab_link": true
    },
    "kernelspec": {
      "name": "python3",
      "display_name": "Python 3"
    }
  },
  "cells": [
    {
      "cell_type": "markdown",
      "metadata": {
        "id": "view-in-github",
        "colab_type": "text"
      },
      "source": [
        "<a href=\"https://colab.research.google.com/github/KrisSandy/ExMachineLearning/blob/master/Logistic_Regression.ipynb\" target=\"_parent\"><img src=\"https://colab.research.google.com/assets/colab-badge.svg\" alt=\"Open In Colab\"/></a>"
      ]
    },
    {
      "metadata": {
        "id": "on_Zk_HrX1Ah",
        "colab_type": "text"
      },
      "cell_type": "markdown",
      "source": [
        "# Logistic Regression"
      ]
    },
    {
      "metadata": {
        "id": "NsJhxhD6YLln",
        "colab_type": "text"
      },
      "cell_type": "markdown",
      "source": [
        "## Introduction"
      ]
    },
    {
      "metadata": {
        "id": "hNwlTa2CYWAA",
        "colab_type": "text"
      },
      "cell_type": "markdown",
      "source": [
        "Logistic regression is a machine learning technique used for binary classification problems. In this technique\n",
        "the probability of the response is calculated for a given set of features using sigmoid function. Sigmoid function can be mathematically represented as below\n",
        "\n",
        "$sigmoid(z) = \\frac{1}{1+e^{-z}}$\n",
        "\n",
        "Logistic regression uses the sigmoid function to calculate the probalities for a give set of input parameters and classifies the outcome based on the threshold value."
      ]
    },
    {
      "metadata": {
        "id": "A_oHIt8zndzi",
        "colab_type": "text"
      },
      "cell_type": "markdown",
      "source": [
        "#### Hypothesis\n",
        "\n",
        "Let us consider that our training set consists of m examples and n features. The training set can be represented as \n",
        "$\\{(x^{(1)}, y^{(1)}),(x^{(2)}, y^{(2)}),...,(x^{(m)}, y^{(m)})\\}$ where $y\\in \\{0, 1\\}$\n",
        "\n",
        "$x^{(i)}$ is the input features of the training example and $y^{(i)}$ is the class for the $i^{th}$ example. \n",
        "If the features for a training example are represented as $x_1, x_2, ... , x_n$ and parameters for each feature are represented by $\\theta_0, \\theta_1, ... \\theta_n$, then the linear model can be computed as below\n",
        "\n",
        "$z = \\theta_0 x_0+ \\theta_1x_1 + \\theta_2x_2 + ... + \\theta_nx_n$\n",
        "where $x_0 = 1$\n",
        "\n",
        "Assuming $\\theta$ as parameter vector and X is the feature vector, the above equation can be written as \n",
        "\n",
        "$z = \\theta^TX$\n",
        "\n",
        "if $g$ is the sigmod function, the hypothesis for logistic regression is defined as \n",
        "\n",
        "$h(\\theta) = g(z) = \\frac{1}{1+e^{-\\theta^TX}}$\n",
        "\n"
      ]
    },
    {
      "metadata": {
        "id": "qW6t-6wmpt9t",
        "colab_type": "text"
      },
      "cell_type": "markdown",
      "source": [
        "#### Decision Boundaries\n",
        "Sigmoid function returns a value ranging between 0 and 1 as shown in *Figure 1*. For binary classification problems, a threshold is set to classify the outcome. In general this threshold is set to 0.5 and the outcome is predicted as below\n",
        "\n",
        "$y =\n",
        "  \\begin{cases}\n",
        "    1       & \\quad \\text{if } h(\\theta) \\geq 0.5 \\text{ i.e. } \\theta^TX \\geq 0\\\\\n",
        "    0  & \\quad \\text{if } h(\\theta) < 0.5 \\text{ i.e. } \\theta^TX < 0\n",
        "  \\end{cases}\n",
        "$"
      ]
    },
    {
      "metadata": {
        "id": "tWMCM2kjd5FC",
        "colab_type": "code",
        "outputId": "b0154db3-f75d-4814-dd49-903846b1bf7a",
        "colab": {
          "base_uri": "https://localhost:8080/",
          "height": 416
        }
      },
      "cell_type": "code",
      "source": [
        "sigmoid_plot();"
      ],
      "execution_count": 0,
      "outputs": [
        {
          "output_type": "display_data",
          "data": {
            "image/png": "[encoded data removed]",
            "text/plain": [
              "<matplotlib.figure.Figure at 0x7f1d20604f98>"
            ]
          },
          "metadata": {
            "tags": []
          }
        }
      ]
    },
    {
      "metadata": {
        "id": "556ewPNTpJnj",
        "colab_type": "text"
      },
      "cell_type": "markdown",
      "source": [
        "#### Cost Function\n",
        "\n",
        "Cost function give a measure of how error-prone a model is. Cost functions for the logistic regression can be calculated as\n",
        "\n",
        "\n",
        "$Cost(h_{\\theta}(x), y) =   \n",
        " \\begin{cases}\n",
        "  -\\log(h_{\\theta}(x)) & \\quad \\text{ if } y = 1 \\\\ -\\log(1-h_{\\theta}(x)) & \\quad \\text { if } y = 0\n",
        "  \\end{cases}\n",
        "$\n",
        "\n",
        "Adding the cost functions of both the classes together and optimizing it we get the cost function for the classifier as below\n",
        "\n",
        "$J(\\theta) = - \\dfrac{1}{m} [\\sum_{i=1}^{m} y^{(i)} \\log(h_\\theta(x^{(i)})) + (1 - y^{(i)}) \\log(1-h_\\theta(x^{(i)}))]$\n",
        "\n",
        "Vectorized representation of cost function can be written as \n",
        "\n",
        "$J(\\theta) = - \\dfrac{1}{m} [y^{T} \\log(h) + (1 - y^{T}) \\log(1-h)]$\n",
        "\n",
        "where $h = \\theta^TX$\n"
      ]
    },
    {
      "metadata": {
        "id": "ZLNaCBKut2vs",
        "colab_type": "text"
      },
      "cell_type": "markdown",
      "source": [
        "#### Gradient Descent\n",
        "\n",
        "The aim of training a classifier is to find the optimum values for $\\theta$ vector and in turn increasing the accuracy of the predictor. We use Gradient descent for logistic regression to find the optimum values of $\\theta$ by minimizing the cost function.\n",
        "\n",
        "Algorithm for Gradient descent is as follows:\n",
        "\n",
        "$\\text{repeat until convergence \\{} \\\\\n",
        "\\theta_j := \\theta_j - \\alpha \\frac{1}{m} \\displaystyle\\sum_{i=1}^{m} (h_\\theta(x^{(i)}) - y^{(i)}) x_j^{(i)} \\\\ \n",
        "\\text{\\}}$\n",
        "\n",
        "Vectorized implementation of the gradient descent is as follows:\n",
        "\n",
        "$\\theta := \\theta - \\frac{\\alpha}{m}X^T(h-y) $"
      ]
    },
    {
      "metadata": {
        "id": "zGdPkZDvYNEv",
        "colab_type": "text"
      },
      "cell_type": "markdown",
      "source": [
        "#### Regularization\n",
        "\n",
        "In order to avoid overfitting (high variance) of training data, we do regularization by penalising the input parameters. This is done by adding extra terms in the cost function and gradient descent as below\n",
        "\n",
        "Cost Function after regularization:\n",
        "\n",
        "$J(\\theta) = -\\frac{1}{m}\\displaystyle\\sum_{i=1}^{m}[y^{(i)}\\log(h_\\theta(x^{(i)})) + (1-y^{(i)})(\\log(1-h_\\theta(x^{(i)})))] + \\frac{\\lambda}{2m}\\displaystyle\\sum_{j=1}^{m}\\theta_j^2$\n",
        "\n",
        "Gradient Descent after regularization:\n",
        "\n",
        "$\\text{repeat until convergence \\{} \\\\\n",
        "\\theta_j := \\theta_j - \\frac{\\alpha}{m}[ \\displaystyle\\sum_{i=1}^{m} (h_\\theta(x^{(i)}) - y^{(i)}) x_j^{(i)} + \\lambda\\theta_j] \\\\ \n",
        "\\text{\\}}$"
      ]
    },
    {
      "metadata": {
        "id": "6yky6O6GR2b8",
        "colab_type": "text"
      },
      "cell_type": "markdown",
      "source": [
        "## Multiclass Classification"
      ]
    },
    {
      "metadata": {
        "id": "u7yzPXwMR7RN",
        "colab_type": "text"
      },
      "cell_type": "markdown",
      "source": [
        "Logistic regression can be extended to predict multiple class by using one vs all method\n",
        "\n",
        "#### One vs All\n",
        "\n",
        "In one vs all method, we calibrate the weights ($\\theta$) of the model by considering one class at a time and making the output of this class to a 1 and rest of the classes to 0. This process is repeated for all the classes and the calibrated weights are determined for each class. When the classifier has to make a prediction, scores are calculated for each class using corresponding weights and the class with maxium score is returned."
      ]
    },
    {
      "metadata": {
        "id": "jiONBR6gY_7U",
        "colab_type": "text"
      },
      "cell_type": "markdown",
      "source": [
        "## Implementation"
      ]
    },
    {
      "metadata": {
        "id": "Plusx8jfZSU4",
        "colab_type": "text"
      },
      "cell_type": "markdown",
      "source": [
        "#### Programming Language\n",
        "\n",
        "I have used python as the programming language for implementing this classifier, as python has powerful libraries for vector and matrix operations using **numpy** package, simple and yet powerful interface for handling data structures and performaning data operations using **pandas** and optimisation packages in **scipy**. I have used these three packages for this assignment."
      ]
    },
    {
      "metadata": {
        "id": "BplMOlZNazs8",
        "colab_type": "text"
      },
      "cell_type": "markdown",
      "source": [
        "#### Design and Architecture\n",
        "\n",
        "I have created a python class 'LogisticRegression' for implementing all the core functionalities of the classifier. Tuning parameters such as learning rate ($\\lambda$) can be set when creating an object to this class. This class is generic capable of classifying both binary classification and multiclass classification with any number of input parameters. The classifier accepts CSV files as input and assumes that last column in the file is dependent variable.\n",
        "\n",
        "Three simple methods are exposed by the class to train, predict and score the classifier \n",
        "1. **fit**: Fit method will take the training data (X and y) and trains the classifier. For training the classifier, theta vector has been initialised to zeroes. Static methods has been written for calculating sigmoid, cost and gradient using the vectorized versions of the formulas. Optimised theta is derived using the Optimise function of scipy by using cost function and gradient methods.Once the optimised theta is found, our model is trained.\n",
        "2. **predict**: Predict method predicts the output using the trained classifier.\n",
        "3. **score**: Score method accepts test data (X and y) and returns the accuracy of the classifier using the test data by calling predict method using X and comparing y predicted and actual.\n",
        "\n",
        "All the methods are designed to accept the input data in either numpy arrays or pandas dataframe. Validations are donw to check the integrity of the input data.\n",
        "\n",
        "\n",
        "Along with the classifier functionalities, I have also implemented generic functions like split test and train data. "
      ]
    },
    {
      "metadata": {
        "id": "eGX1eKnZUcTY",
        "colab_type": "text"
      },
      "cell_type": "markdown",
      "source": [
        "#### Model Construction\n",
        "\n",
        "Input data is read from the csv file and stored in a pandas dataframe. The predictor variable ('type' of owl) if converted to numeric format by mapping LongEaredOwl to 0, SnowyOwl to 1 and BarnOwl to 2. After splitting the data into training and test set, the model is trained using the training set. During this process the model calculates the optimum $\\theta$ values for each class using cost function and gradient descent (code is available in Appendix)\n",
        "\n",
        "After the model is trained, we can use predict method to make the predictions."
      ]
    },
    {
      "metadata": {
        "id": "HkdapvY6bA8d",
        "colab_type": "text"
      },
      "cell_type": "markdown",
      "source": [
        "\n",
        "\n",
        "\n",
        "\n",
        "\n",
        "\n",
        "#### Accuracies\n",
        "\n",
        "The process of splitting the traning and test data, fitting the model is performed 10 times and the accuracies are calculated. Accuracy of the model is varying because of the test train split and different observations are used to train the model everytime. The mean accuracy for this 10 iterations can be used as an indicator to measure the accuracy of the model "
      ]
    },
    {
      "metadata": {
        "id": "9cJGmzJBdUwM",
        "colab_type": "code",
        "outputId": "0fb31a3a-c21b-4d7f-bb0e-10c05236a667",
        "colab": {
          "base_uri": "https://localhost:8080/",
          "height": 202
        }
      },
      "cell_type": "code",
      "source": [
        "\n",
        "accuracy_10_itr()"
      ],
      "execution_count": 0,
      "outputs": [
        {
          "output_type": "stream",
          "text": [
            "Model accuracy for iteration 1 is 0.9111111111111111\n",
            "Model accuracy for iteration 2 is 0.9333333333333333\n",
            "Model accuracy for iteration 3 is 0.9555555555555556\n",
            "Model accuracy for iteration 4 is 0.9333333333333333\n",
            "Model accuracy for iteration 5 is 0.9111111111111111\n",
            "Model accuracy for iteration 6 is 0.9777777777777777\n",
            "Model accuracy for iteration 7 is 0.8888888888888888\n",
            "Model accuracy for iteration 8 is 0.9111111111111111\n",
            "Model accuracy for iteration 9 is 0.9555555555555556\n",
            "Model accuracy for iteration 10 is 0.9333333333333333\n",
            "Mean Accuracy : 0.9311111111111112\n"
          ],
          "name": "stdout"
        }
      ]
    },
    {
      "metadata": {
        "id": "j3mkHKkohFHk",
        "colab_type": "text"
      },
      "cell_type": "markdown",
      "source": [
        "\n",
        "\n",
        "\n",
        "\n",
        "\n",
        "#### Test predictions\n",
        "\n",
        "Predictions made for a set of test examples is shown below"
      ]
    },
    {
      "metadata": {
        "id": "AexA-bLVnE7l",
        "colab_type": "code",
        "outputId": "a7e92309-1338-4931-eb68-01bef0e8a659",
        "colab": {
          "base_uri": "https://localhost:8080/",
          "height": 790
        }
      },
      "cell_type": "code",
      "source": [
        "print(emit_predictions())"
      ],
      "execution_count": 0,
      "outputs": [
        {
          "output_type": "stream",
          "text": [
            "       Predicted        Actual   Result\n",
            "0   LongEaredOwl  LongEaredOwl  Correct\n",
            "1   LongEaredOwl  LongEaredOwl  Correct\n",
            "2   LongEaredOwl  LongEaredOwl  Correct\n",
            "3   LongEaredOwl  LongEaredOwl  Correct\n",
            "4   LongEaredOwl  LongEaredOwl  Correct\n",
            "5   LongEaredOwl  LongEaredOwl  Correct\n",
            "6   LongEaredOwl  LongEaredOwl  Correct\n",
            "7   LongEaredOwl  LongEaredOwl  Correct\n",
            "8   LongEaredOwl  LongEaredOwl  Correct\n",
            "9   LongEaredOwl  LongEaredOwl  Correct\n",
            "10  LongEaredOwl  LongEaredOwl  Correct\n",
            "11  LongEaredOwl  LongEaredOwl  Correct\n",
            "12  LongEaredOwl  LongEaredOwl  Correct\n",
            "13  LongEaredOwl  LongEaredOwl  Correct\n",
            "14  LongEaredOwl  LongEaredOwl  Correct\n",
            "15      SnowyOwl      SnowyOwl  Correct\n",
            "16      SnowyOwl      SnowyOwl  Correct\n",
            "17      SnowyOwl      SnowyOwl  Correct\n",
            "18      SnowyOwl      SnowyOwl  Correct\n",
            "19      SnowyOwl      SnowyOwl  Correct\n",
            "20      SnowyOwl      SnowyOwl  Correct\n",
            "21      SnowyOwl      SnowyOwl  Correct\n",
            "22      SnowyOwl      SnowyOwl  Correct\n",
            "23      SnowyOwl      SnowyOwl  Correct\n",
            "24      SnowyOwl      SnowyOwl  Correct\n",
            "25      SnowyOwl      SnowyOwl  Correct\n",
            "26      SnowyOwl      SnowyOwl  Correct\n",
            "27      SnowyOwl      SnowyOwl  Correct\n",
            "28      SnowyOwl      SnowyOwl  Correct\n",
            "29      SnowyOwl      SnowyOwl  Correct\n",
            "30       BarnOwl       BarnOwl  Correct\n",
            "31       BarnOwl       BarnOwl  Correct\n",
            "32       BarnOwl       BarnOwl  Correct\n",
            "33       BarnOwl       BarnOwl  Correct\n",
            "34       BarnOwl       BarnOwl  Correct\n",
            "35       BarnOwl       BarnOwl  Correct\n",
            "36       BarnOwl       BarnOwl  Correct\n",
            "37       BarnOwl       BarnOwl  Correct\n",
            "38      SnowyOwl       BarnOwl    Wrong\n",
            "39       BarnOwl       BarnOwl  Correct\n",
            "40       BarnOwl       BarnOwl  Correct\n",
            "41       BarnOwl       BarnOwl  Correct\n",
            "42       BarnOwl       BarnOwl  Correct\n",
            "43       BarnOwl       BarnOwl  Correct\n",
            "44      SnowyOwl       BarnOwl    Wrong\n"
          ],
          "name": "stdout"
        }
      ]
    },
    {
      "metadata": {
        "id": "c7J-PAR3dgmV",
        "colab_type": "text"
      },
      "cell_type": "markdown",
      "source": [
        "#### Sample prediction\n",
        "\n",
        "Prediction for sample feature values is shown below"
      ]
    },
    {
      "metadata": {
        "id": "2zxSeYWsdrnp",
        "colab_type": "code",
        "cellView": "form",
        "outputId": "13e8d78b-9e55-404a-e7d0-c31795cb4af7",
        "colab": {
          "base_uri": "https://localhost:8080/",
          "height": 34
        }
      },
      "cell_type": "code",
      "source": [
        "#@title Enter below values to make a prediction of owl\n",
        "body_length = 3.5  #@param {type: \"number\"}\n",
        "wing_length = 5.8  #@param {type: \"number\"}\n",
        "body_width = 1.6  #@param {type: \"number\"}\n",
        "wing_width = 0.5  #@param {type: \"number\"}\n",
        "\n",
        "sample_predict = model.predict(np.array([body_length, wing_length, body_width, wing_width]))\n",
        "print(list(mapping.keys())[list(mapping.values()).index(sample_predict[0])])"
      ],
      "execution_count": 0,
      "outputs": [
        {
          "output_type": "stream",
          "text": [
            "LongEaredOwl\n"
          ],
          "name": "stdout"
        }
      ]
    },
    {
      "metadata": {
        "id": "dE4QI19OXQv5",
        "colab_type": "text"
      },
      "cell_type": "markdown",
      "source": [
        "\n",
        "\n",
        "\n",
        "\n",
        "\n",
        "#### Learning Curve\n",
        "\n",
        "Learning curves are plotted between the accuracy of the prediction with respect to sample size. This gives an indication of how the model accuracy is varying with respect to the size of the training set. It can be used to decide whether collecting more data improves the performance of the classifier.\n",
        "\n",
        "Below learning curve is for a random split of training and test set. The curve indictes that the model has learned and the accuracies are consistent from size 30, however, learning curve is not a good indicator in this case as the model accuracies are highly dependent on the test and training split."
      ]
    },
    {
      "metadata": {
        "id": "kFKMmcZtwzil",
        "colab_type": "code",
        "outputId": "ae48accb-3652-4099-a0a5-6632c0e81d97",
        "colab": {
          "base_uri": "https://localhost:8080/",
          "height": 376
        }
      },
      "cell_type": "code",
      "source": [
        "\n",
        "draw_learning_curve();"
      ],
      "execution_count": 0,
      "outputs": [
        {
          "output_type": "display_data",
          "data": {
            "image/png": "[encoded data removed]",
            "text/plain": [
              "<matplotlib.figure.Figure at 0x7f1d203285c0>"
            ]
          },
          "metadata": {
            "tags": []
          }
        }
      ]
    },
    {
      "metadata": {
        "id": "O8sBmEICkM15",
        "colab_type": "text"
      },
      "cell_type": "markdown",
      "source": [
        "####Interface\n",
        "\n",
        "I have created an interface for uploading the file, and downloading the result in Google colab. The link for the same is below.\n",
        "\n",
        "**Click on the below link to access the interface for this model**\n",
        "\n",
        "[Go to model Interface](https://colab.research.google.com/drive/12Q3txclGiMDMo9--VkKC_xs_oPkcxOPV)"
      ]
    },
    {
      "metadata": {
        "id": "oHV19OrmeWxD",
        "colab_type": "text"
      },
      "cell_type": "markdown",
      "source": [
        "## Conclusions and Observations\n",
        "\n",
        "Logistic regression is a powerful tool for building classification models and can be easily extended to predict multi-class. Model tuning can be done by changing the learning rate and threshold setting according to the use case which in this case set to default (i.e. 0.5). For the given dataset, logistic regression performed well with mean accuracy of 93%. This may not be consistent as the dataset is small and model training completely depends on the test train split which can be avoided by collecting more data."
      ]
    },
    {
      "metadata": {
        "id": "HToGNnnJuN0R",
        "colab_type": "text"
      },
      "cell_type": "markdown",
      "source": [
        "\n",
        "\n",
        "\n",
        "\n",
        "## Appendix (Code)"
      ]
    },
    {
      "metadata": {
        "id": "I6g0CVpyv8AA",
        "colab_type": "code",
        "colab": {}
      },
      "cell_type": "code",
      "source": [
        "\n",
        "from google.colab import drive\n",
        "drive.mount('/content/gdrive')"
      ],
      "execution_count": 0,
      "outputs": []
    },
    {
      "metadata": {
        "id": "XLS6s5CTuNVk",
        "colab_type": "code",
        "colab": {}
      },
      "cell_type": "code",
      "source": [
        "import pandas as pd\n",
        "import numpy as np\n",
        "from scipy import optimize\n",
        "import matplotlib.pyplot as plt\n",
        "\n",
        "\n",
        "\n",
        "'''\n",
        "Class to implement Logistic Regression\n",
        "'''\n",
        "class LogisticRegression:\n",
        "\n",
        "    __theta = np.zeros(1)\n",
        "    __classes = None\n",
        "\n",
        "    def __init__(self, learning_rate, multi_class=False, threshold=0.5):\n",
        "        self.__lambda = learning_rate\n",
        "        self.__multi_class = multi_class\n",
        "        self.__threshold = threshold\n",
        "\n",
        "    '''\n",
        "    Validate the type of input data. Accepted types are pd.Series, pd.Dataframe\n",
        "    np.ndarray\n",
        "    '''\n",
        "    @staticmethod\n",
        "    def __validate(d):\n",
        "        if not (isinstance(d, pd.Series) or isinstance(d, pd.DataFrame) or isinstance(d, np.ndarray)):\n",
        "            raise Exception(\"Invalid input. Only numpy array and pandas dataframes/series is allowed\")\n",
        "\n",
        "    '''\n",
        "    Convert pd.Series or pd.Dataframe to numpy array\n",
        "    '''\n",
        "    @staticmethod\n",
        "    def __convert2matrix(X):\n",
        "        if isinstance(X, pd.Series) or isinstance(X, pd.DataFrame):\n",
        "            X = X.values\n",
        "        return X\n",
        "\n",
        "    '''\n",
        "    Calculate sigmoid\n",
        "    '''\n",
        "    @staticmethod\n",
        "    def __sigmoid(z):\n",
        "        return 1/(1+np.exp(-z))\n",
        "\n",
        "    '''\n",
        "    Output the prediction based on threshold\n",
        "    '''\n",
        "    def __sign_fn(self, y):\n",
        "        f = lambda x: 0 if x < self.__threshold else 1\n",
        "        return np.array([f(x) for x in y])\n",
        "\n",
        "    '''\n",
        "    Returns the class of the prediction\n",
        "    '''\n",
        "    def __class_fm(self, y):\n",
        "        f = lambda x: self.__classes[x]\n",
        "        return np.array([f(x) for x in y])\n",
        "\n",
        "    '''\n",
        "    Implementation of the cost function (including regularization)\n",
        "    Returns the calculated cost\n",
        "    '''\n",
        "    def __cost(self, theta, X, y):\n",
        "        h = self.__sigmoid(X.dot(theta))\n",
        "        m = len(y)\n",
        "        return (-1/m) * (y.T.dot(np.log(h)) + \n",
        "                         (1-y).T.dot(np.log(1-h))) + \n",
        "                        ((self.__lambda/2*m)*np.sum(theta**2))\n",
        "\n",
        "    '''\n",
        "    Implementation of the gradient function (including regularization)\n",
        "    Returns the gradient\n",
        "    '''\n",
        "    def __gradient_jac(self, theta, X, y):\n",
        "        m=len(y)\n",
        "        h = self.__sigmoid(X.dot(theta))\n",
        "        return (1/m) * X.T.dot(h - y) + ((self.__lambda/m)*theta)\n",
        "\n",
        "    '''\n",
        "    Minimise the cost (finding optimum theta) using cost and gradient\n",
        "    '''\n",
        "    def __minimize_cost(self, theta, X, y):\n",
        "        optim = optimize.minimize(self.__cost, theta, jac=self.__gradient_jac, \n",
        "                                  args=(X, y), method='CG')\n",
        "        return optim.x\n",
        "\n",
        "    '''\n",
        "    Predict method to make predictions for both binary and multiclass. Uses the \n",
        "    optimised theta to calculate the probability and assigns the class with \n",
        "    highest probability.\n",
        "    '''\n",
        "    def predict(self, X):\n",
        "        self.__validate(X)\n",
        "        X = self.__convert2matrix(X)\n",
        "        if X.ndim == 1:\n",
        "            X = X.reshape(1, X.shape[0])\n",
        "        X = np.insert(X, 0, 1, axis=1)\n",
        "        if self.__multi_class:\n",
        "            y_predict = self.__sigmoid(X.dot(self.__theta.T))\n",
        "            y_predict = np.argmax(y_predict, axis=1)\n",
        "            return self.__class_fm(y_predict)\n",
        "        else:\n",
        "            y_predict = self.__sigmoid(X.dot(self.__theta))\n",
        "            return self.__sign_fn(y_predict)\n",
        "\n",
        "\n",
        "    '''\n",
        "    Trains the classifier for both binary and multiclass cases. calls __minimize_cost \n",
        "    function to find the optimum theta values for the given training data \n",
        "    '''\n",
        "    def fit(self, X, y):\n",
        "        self.__validate(X)\n",
        "        self.__validate(y)\n",
        "        X = self.__convert2matrix(X)\n",
        "        y = self.__convert2matrix(y)\n",
        "        X = np.insert(X, 0, 1, axis=1)\n",
        "        if self.__multi_class:\n",
        "            self.__classes = np.unique(y)\n",
        "            self.__theta = np.zeros((len(self.__classes), X.shape[1]))\n",
        "            for index, _class in enumerate(self.__classes):\n",
        "                y_class = np.array(list(map(lambda x: 1 if x == _class else 0, y)))\n",
        "                self.__theta[index] = self.__minimize_cost(self.__theta[index], X, y_class)\n",
        "        else:\n",
        "            self.__theta = np.zeros(X.shape[1])\n",
        "            self.__theta = self.__minimize_cost(self.__theta, X, y)\n",
        "\n",
        "\n",
        "    '''\n",
        "    Predicts the output using the features provided. Accuracy is then calculated \n",
        "    using the predicted \n",
        "    values and actual values.\n",
        "    '''\n",
        "    def score(self, X, y):\n",
        "        self.__validate(X)\n",
        "        self.__validate(y)\n",
        "        y = self.__convert2matrix(y)\n",
        "        y_predict = self.predict(X)\n",
        "        tot = len(y)\n",
        "        correct = 0\n",
        "        for i in range(tot):\n",
        "            if y[i] == y_predict[i]:\n",
        "                correct += 1\n",
        "        return correct/tot\n",
        "\n"
      ],
      "execution_count": 0,
      "outputs": []
    },
    {
      "metadata": {
        "id": "h_xIrYzVu-hb",
        "colab_type": "code",
        "colab": {}
      },
      "cell_type": "code",
      "source": [
        "'''\n",
        "Splits the test and train data randomly according to the fraction provided\n",
        "random_state parameter can be used to control the randomness of the split\n",
        "and results in same split if same random_state value is passes\n",
        "'''\n",
        "\n",
        "\n",
        "def test_train_split(X, y, frac=0.25, random_state=None):\n",
        "    if random_state is None:\n",
        "        X_train = X.sample(frac=1 - frac)\n",
        "    else:\n",
        "        X_train = X.sample(frac=1-frac, random_state=random_state)\n",
        "    return X_train, X.drop(X_train.index), y.iloc[X_train.index], y.drop(X_train.index)\n",
        "\n",
        "\n",
        "'''\n",
        "The method takes in the complete dataframe read and converts the last column as \n",
        "to numerical values starting from 0. The method assumes that last column is \n",
        "predictor variable. It also returns a mapping variable which is a dictionary of \n",
        "mapping the class name with the number assigned\n",
        "'''\n",
        "def prepare_data(data):\n",
        "    y_col = data.shape[1]-1\n",
        "    data.columns = list(range(y_col+1))\n",
        "    mapping = dict()\n",
        "    for index, p_class in enumerate(set(data[y_col].values)):\n",
        "        mapping[p_class] = index\n",
        "    data[y_col] = data[y_col].map(mapping)\n",
        "    X = data.drop(columns=[y_col])\n",
        "    y = data[y_col]\n",
        "    return X, y, mapping\n"
      ],
      "execution_count": 0,
      "outputs": []
    },
    {
      "metadata": {
        "id": "A6uFdvlGu5Wd",
        "colab_type": "code",
        "colab": {}
      },
      "cell_type": "code",
      "source": [
        "data = pd.read_csv(filename)\n",
        "X, y, mapping = prepare_data(data)\n",
        "\n",
        "# creating dictionary of class names and corresponding numbers\n",
        "map_original = dict(zip(mapping.values(), mapping.keys()))\n",
        "\n",
        "# Identify if its a multi class prediction\n",
        "multi_class = True if len(mapping) > 2 else False\n",
        "\n",
        "# Split the data and train the model\n",
        "X_train, X_test, y_train, y_test = test_train_split(X, y, frac=(1/3))\n",
        "model = LogisticRegression(learning_rate=0.0001, multi_class=multi_class)\n",
        "model.fit(X_train, y_train)\n",
        "y_predict = model.predict(X_test)"
      ],
      "execution_count": 0,
      "outputs": []
    },
    {
      "metadata": {
        "id": "nBYvPUBeunrS",
        "colab_type": "code",
        "colab": {}
      },
      "cell_type": "code",
      "source": [
        "'''\n",
        "This method splits the training data in to chunks of 10 and trains the model by \n",
        "adding one chunk to existing training data starting with first chunk.\n",
        "Accuracy is recorded for every iteration and is plotted\n",
        "'''\n",
        "\n",
        "def draw_learning_curve(X, y, multi_class):\n",
        "    X_train, X_test, y_train, y_test = test_train_split(X, y, frac=(1/3))\n",
        "    increment_size = int(len(X_train)/10)\n",
        "    lrm_model = LogisticRegression(learning_rate=0.0001, multi_class=multi_class)\n",
        "    learning_curve = {'accuracy': [], 'size': []}\n",
        "    for i in range(10):\n",
        "        m = (i+1)*increment_size\n",
        "        lrm_model.fit(X_train.head(m), y_train.head(m))\n",
        "        learning_curve['size'].append(m)\n",
        "        learning_curve['accuracy'].append(lrm_model.score(X_test, y_test))\n",
        "    plt.plot(learning_curve['size'], learning_curve['accuracy'])\n",
        "    plt.xlabel('Size')\n",
        "    plt.ylabel('Accuracy')\n",
        "    plt.title('Figure 2 - Learning Rate')\n",
        "    return plt"
      ],
      "execution_count": 0,
      "outputs": []
    },
    {
      "metadata": {
        "id": "uN3-3fyOb3tP",
        "colab_type": "code",
        "colab": {}
      },
      "cell_type": "code",
      "source": [
        "'''\n",
        "This method splits the data into training and test set, trains the model with the \n",
        "training set and records the accuracy using the test set. This process is done \n",
        "10 times using random split and the accuracies will be printed and recorded.\n",
        "Mean accuracy of the 10 iterations will be printed as well\n",
        "'''\n",
        "def accuracy_10_itr(X, y, multi_class):\n",
        "    accuracies = np.empty(10)\n",
        "    for i in range(10):\n",
        "        X_train, X_test, y_train, y_test = test_train_split(X, y, frac=(1/3))\n",
        "        lrm_model = LogisticRegression(learning_rate=0.0001, multi_class=multi_class)\n",
        "        lrm_model.fit(X_train, y_train)\n",
        "        accuracies[i] = lrm_model.score(X_test, y_test)\n",
        "        print('Model accuracy for iteration {} is {}'.format(i+1, accuracies[i]))\n",
        "\n",
        "    print(\"Mean Accuracy : {}\".format(accuracies.mean()))"
      ],
      "execution_count": 0,
      "outputs": []
    },
    {
      "metadata": {
        "id": "GyPanLpGhVgp",
        "colab_type": "code",
        "colab": {}
      },
      "cell_type": "code",
      "source": [
        "'''\n",
        "This method converts the class numbers of predicted and actual y values.\n",
        "Check if the prediction is correct and updates the result column\n",
        "Writes the dataframe into csv file which will be stored in the same folder as the script\n",
        "'''\n",
        "def emit_predictions(y_predict, y_test, map_original):\n",
        "    predictions = list()\n",
        "    for i in range(len(y_predict)):\n",
        "        predictions.append([y_predict[i], y_test.values[i],\n",
        "                            'Correct' if y_predict[i] == y_test.values[i] else 'Wrong'])\n",
        "    df_result = pd.DataFrame(predictions, \n",
        "                             columns=[\"Predicted\", \"Actual\", \"Result\"])\n",
        "    df_result[\"Predicted\"] = df_result[\"Predicted\"].map(map_original)\n",
        "    df_result[\"Actual\"] = df_result[\"Actual\"].map(map_original)\n",
        "    df_result.to_csv('predictions.csv', header=True, index=False)\n",
        "    return df_result\n",
        "\n"
      ],
      "execution_count": 0,
      "outputs": []
    },
    {
      "metadata": {
        "id": "zn5RSuf3wKaX",
        "colab_type": "code",
        "colab": {}
      },
      "cell_type": "code",
      "source": [
        "def sigmoid_plot():\n",
        "\n",
        "    x = np.linspace(-10,10)\n",
        "    y = 1 / (1 + np.exp(-x))\n",
        "    plt.figure(1)\n",
        "    plt.plot(x, y)\n",
        "    plt.plot([8, -8], [0.5, 0.5], label=\"Decision Boundry\")\n",
        "    plt.legend(loc=\"lower right\")\n",
        "    plt.title(\"Figure 1 - Sigmoid Function \")\n",
        "    plt.text(-10.5,-.3,\"The sigmoid function intercepts the y axis at 0.5 when x is 0. The function \\nreturns values between 0 and 0.5 when x < 0 and returns values \\nbetween 0.5 and 1 when x > zero.\")\n",
        "    return plt"
      ],
      "execution_count": 0,
      "outputs": []
    }
  ]
}