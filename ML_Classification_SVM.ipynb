{
  "nbformat": 4,
  "nbformat_minor": 0,
  "metadata": {
    "colab": {
      "name": "ML Classification SVM",
      "version": "0.3.2",
      "provenance": [],
      "collapsed_sections": [],
      "include_colab_link": true
    },
    "kernelspec": {
      "name": "python3",
      "display_name": "Python 3"
    }
  },
  "cells": [
    {
      "cell_type": "markdown",
      "metadata": {
        "id": "view-in-github",
        "colab_type": "text"
      },
      "source": [
        "<a href=\"https://colab.research.google.com/github/KrisSandy/ExMachineLearning/blob/master/ML_Classification_SVM.ipynb\" target=\"_parent\"><img src=\"https://colab.research.google.com/assets/colab-badge.svg\" alt=\"Open In Colab\"/></a>"
      ]
    },
    {
      "metadata": {
        "id": "L8rsZzq1WgBM",
        "colab_type": "text"
      },
      "cell_type": "markdown",
      "source": [
        "# Machine Learning | Classification | SVM\n",
        "Author: SandyBoy"
      ]
    },
    {
      "metadata": {
        "id": "YNCiiHDYbs-A",
        "colab_type": "text"
      },
      "cell_type": "markdown",
      "source": [
        "## Why scikit-learn"
      ]
    },
    {
      "metadata": {
        "id": "vBWrRNEFWtEs",
        "colab_type": "text"
      },
      "cell_type": "markdown",
      "source": [
        "There are many open source Machine learning packages available in the market. TensorFlow, SciKit-learn, Caffe are few to name. For this task I have chosen scikit-learn library which is an open source package developed in python. scikit-learn along with other scientific packages in python (pandas, numpy etc) provides powerful data processing and machine learning tools which can be leveraged with ease.\n",
        "\n",
        "Besides readily available implementation of SVM algorithm, below are some of the main reasons for choosing scikit-learn\n",
        "\n",
        "\n",
        "*   scikit-learn is open source package implemented in python.\n",
        "*   Its regularly updated with more than 1 release per year which means the packages are up to date.\n",
        "* Easy to use \n",
        "* It has implementations for most of the machine learning tasks such as Clustering, Classification, Regression etc.\n",
        "* Very good and up to date documentation available.\n",
        "\n",
        "Beow are some of the features of scikit learn:\n",
        "\n",
        "*  Powerful functions for data pre processing, transformations and data normalization.\n",
        "*  Functions to perform many of the Classification, Regression, Clustering algorithms. All the algorithms follow same design principles, so it is easy to adopt and use different machine learning algorithms. \n",
        "* Provides powerful functions for Dimensionality reduction \n",
        "\n",
        "\n",
        "*Reference: https://www.oreilly.com/ideas/six-reasons-why-i-recommend-scikit-learn*\n"
      ]
    },
    {
      "metadata": {
        "id": "nhbriW06b3-W",
        "colab_type": "text"
      },
      "cell_type": "markdown",
      "source": [
        "## Data Pre-processing"
      ]
    },
    {
      "metadata": {
        "id": "0PtJzlvmSN7D",
        "colab_type": "text"
      },
      "cell_type": "markdown",
      "source": [
        ""
      ]
    },
    {
      "metadata": {
        "id": "g5ygSy_McMKt",
        "colab_type": "text"
      },
      "cell_type": "markdown",
      "source": [
        "Below are the steps followed for getting the data in to the format used by scikit learn:\n",
        "\n",
        "* Data in the dataset is separated by tab. Each row represents an attribute and columns represent each individual patients. \n",
        "\n",
        "* In order to load the data into pandas dataframe, the file is read using read_csv using the separator as tab ('\\t'). A transpose of the dataframe is required to bring the data into traditional format i.e. features in columns and observations (patients) in rows. \n",
        "\n",
        "* After getting the data in desired format, column names are added to give more sense and completeness to the dataframe.\n",
        "\n",
        "* Data and Response used to train and test the models should be in numbers as numpy arrays. So Autoimmune_Disease column needs to be converted to 0 and 1 representing negative and positive respectively. "
      ]
    },
    {
      "metadata": {
        "id": "UpXmQt6Efon5",
        "colab_type": "code",
        "outputId": "8677b198-20fa-4cc6-ab66-4856dc258ca1",
        "colab": {
          "base_uri": "https://localhost:8080/",
          "height": 34
        }
      },
      "cell_type": "code",
      "source": [
        "from google.colab import drive\n",
        "drive.mount('/content/gdrive')"
      ],
      "execution_count": 1,
      "outputs": [
        {
          "output_type": "stream",
          "text": [
            "Drive already mounted at /content/gdrive; to attempt to forcibly remount, call drive.mount(\"/content/gdrive\", force_remount=True).\n"
          ],
          "name": "stdout"
        }
      ]
    },
    {
      "metadata": {
        "id": "LL3TIi1CgFyj",
        "colab_type": "code",
        "colab": {}
      },
      "cell_type": "code",
      "source": [
        "import pandas as pd\n",
        "import numpy\n",
        "fields = ['Age', 'Blood_Pressure', 'BMI', 'Plasma_level', 'Autoimmune_Disease', \n",
        "          'Adverse_events', 'Drug_in_serum', 'Liver_function', 'Activity_test',\n",
        "          'Secondary_test']\n",
        "autoimmune_data = pd.read_csv(r'/content/gdrive/My Drive/GYE06/CT475_ML/autoimmune.txt',\n",
        "                 sep='\\t',\n",
        "                 header=None\n",
        "                )\n",
        "autoimmune_data = autoimmune_data.transpose()\n",
        "autoimmune_data.columns = fields\n",
        "autoimmune_data['Autoimmune_Disease'] = autoimmune_data['Autoimmune_Disease'] \\\n",
        ".map({'negative':0, 'positive':1})"
      ],
      "execution_count": 0,
      "outputs": []
    },
    {
      "metadata": {
        "id": "pkJ578ehgnEH",
        "colab_type": "text"
      },
      "cell_type": "markdown",
      "source": [
        "## Model Construction"
      ]
    },
    {
      "metadata": {
        "id": "NO3rLj3TiGOB",
        "colab_type": "text"
      },
      "cell_type": "markdown",
      "source": [
        "k Nearest Neighbors algorithm is an instance based learning algorithm used for classification. This algorithm predicts the outcome by calculating the distance from the query point to all the data points.  It then takes the k nearest data points and classifies the query point as the category with higest number in the k data points. Distance can be measured either as Euclidean, or Cosign, or Manhattan or Hamming distance. \n",
        "\n",
        "Scikit-learn's KNeighborsClassifier has been used for implementing k Nearest Neighbors algorithm. The default distance measurement for kNN algorithm in scikitlearn is 'minkowski'. This can be changed to euclidean distance by using metrics parameter.\n"
      ]
    },
    {
      "metadata": {
        "id": "4hocb-m4-ilW",
        "colab_type": "text"
      },
      "cell_type": "markdown",
      "source": [
        "#### Normalizing data"
      ]
    },
    {
      "metadata": {
        "id": "E5w2jYa3-2vr",
        "colab_type": "text"
      },
      "cell_type": "markdown",
      "source": [
        "When the attributes in the data have wide range of values, attributes with large number range will have more impact during the distance calculation than attributes with smaller number range. Hence data must be normalized. We will be using z normalization, which means data will be scaled in such a way that mean of an attribute is zero and standard deviation is 1\n"
      ]
    },
    {
      "metadata": {
        "id": "gXeIEDRpn_ps",
        "colab_type": "code",
        "outputId": "004ca0ee-e846-48a4-b0eb-ef2f3d2364ca",
        "colab": {
          "base_uri": "https://localhost:8080/",
          "height": 52
        }
      },
      "cell_type": "code",
      "source": [
        "from sklearn.model_selection import train_test_split\n",
        "from sklearn import preprocessing\n",
        "X = autoimmune_data.drop(columns = ['Autoimmune_Disease'])\n",
        "y = autoimmune_data['Autoimmune_Disease']\n",
        "X_scaled = preprocessing.scale(X)\n",
        "X_scaled.mean(axis=0) # axis=0 indicated that mean should be taken wrt col\n",
        "X_train, X_test, y_train, y_test = train_test_split(X_scaled, y, random_state = 99)\n",
        "print(X_train.shape)\n",
        "print(X_test.shape)"
      ],
      "execution_count": 3,
      "outputs": [
        {
          "output_type": "stream",
          "text": [
            "(282, 9)\n",
            "(94, 9)\n"
          ],
          "name": "stdout"
        }
      ]
    },
    {
      "metadata": {
        "id": "1xXEYg-bPX3q",
        "colab_type": "text"
      },
      "cell_type": "markdown",
      "source": [
        "SVM algorithm tries the find the optimal hyperplane between the classified data points. The optimum hyperplane is the one with maximum margin. It predicts the outcome as below \n",
        "\n",
        "outcome = 1 when hypothesis is >= 1\n",
        "\n",
        "outcome = 0 when hypothesis is <= -1"
      ]
    },
    {
      "metadata": {
        "id": "J1avbE3xS06B",
        "colab_type": "code",
        "outputId": "c2b40722-657e-4bf5-a557-9679401f5e67",
        "colab": {
          "base_uri": "https://localhost:8080/",
          "height": 34
        }
      },
      "cell_type": "code",
      "source": [
        "from sklearn import svm\n",
        "\n",
        "autoimmune_svm = svm.SVC(probability = True)\n",
        "autoimmune_svm.fit(X_train, y_train)\n",
        "accuracy_svm = autoimmune_svm.score(X_test, y_test)\n",
        "print(\"Accuracy using SVM is {}\".format(accuracy_svm))"
      ],
      "execution_count": 4,
      "outputs": [
        {
          "output_type": "stream",
          "text": [
            "Accuracy using SVM is 0.8085106382978723\n"
          ],
          "name": "stdout"
        }
      ]
    },
    {
      "metadata": {
        "id": "aBd22-n9wilk",
        "colab_type": "text"
      },
      "cell_type": "markdown",
      "source": [
        "## Model Evaluation\n"
      ]
    },
    {
      "metadata": {
        "id": "E0Z4VdXLhQGN",
        "colab_type": "text"
      },
      "cell_type": "markdown",
      "source": [
        "### 10-fold cross Validation"
      ]
    },
    {
      "metadata": {
        "id": "bL2TRMbZNTUe",
        "colab_type": "text"
      },
      "cell_type": "markdown",
      "source": [
        "k fold cross validation is a technique used to find the accuracy of the model. In this technique the dataset is divided into k folds. The training of the model is done using k-1 folds and 1 fold is used for testing the model. This process is repeated k-1 times and changing the testing fold in each iteration. The accuracy of the model is calculated for each iteration and the mean of all the accuracies are taken to get the model accuracy.\n"
      ]
    },
    {
      "metadata": {
        "id": "OAAJ97v8ga-n",
        "colab_type": "code",
        "outputId": "1b5272c9-251d-48e0-d40c-ffe2b5b89525",
        "colab": {
          "base_uri": "https://localhost:8080/",
          "height": 34
        }
      },
      "cell_type": "code",
      "source": [
        "from sklearn.model_selection import cross_val_score\n",
        "accuracy_svm = cross_val_score(autoimmune_svm, X_train, y_train, cv=10).mean()\n",
        "print(\"Accuracy using SVM is {}\".format(accuracy_svm))"
      ],
      "execution_count": 6,
      "outputs": [
        {
          "output_type": "stream",
          "text": [
            "Accuracy using SVM is 0.7763729246487866\n"
          ],
          "name": "stdout"
        }
      ]
    },
    {
      "metadata": {
        "id": "iMg0orlwde2K",
        "colab_type": "text"
      },
      "cell_type": "markdown",
      "source": [
        "### Confusion Matrix"
      ]
    },
    {
      "metadata": {
        "id": "QEfKiDPfdjc6",
        "colab_type": "text"
      },
      "cell_type": "markdown",
      "source": [
        "Confusion matrix is one of the methods used to measure the performance of the model with 2 or\n",
        "more classes. Its basically a table of counts between actual and predicted. \n",
        "\n"
      ]
    },
    {
      "metadata": {
        "id": "H5f5pp4YiMoR",
        "colab_type": "code",
        "outputId": "02c29970-da76-497b-bcdb-6d9508d618cc",
        "colab": {
          "base_uri": "https://localhost:8080/",
          "height": 52
        }
      },
      "cell_type": "code",
      "source": [
        "from sklearn.metrics import confusion_matrix\n",
        "y_predict_svm = autoimmune_svm.predict(X_test)\n",
        "confusion_matrix_svm = confusion_matrix(y_test, y_predict_svm)\n",
        "tn, fp, fn, tp = confusion_matrix_svm.ravel()\n",
        "print(confusion_matrix_svm)"
      ],
      "execution_count": 8,
      "outputs": [
        {
          "output_type": "stream",
          "text": [
            "[[58  4]\n",
            " [14 18]]\n"
          ],
          "name": "stdout"
        }
      ]
    },
    {
      "metadata": {
        "id": "l_PmEZwuilTW",
        "colab_type": "text"
      },
      "cell_type": "markdown",
      "source": [
        "### ROC Curves and AUROC"
      ]
    },
    {
      "metadata": {
        "id": "NpPA1fNXin_M",
        "colab_type": "text"
      },
      "cell_type": "markdown",
      "source": [
        "From the above confusion matrix, we can derive below\n",
        "\n",
        "**Sensitivity, Recall, True positive rate, Hit Rate : **\n",
        "\n",
        "$TPR = TP/(TP+FN)$\n",
        "\n",
        "**Specificity, Selectivity, True Negative Rate :**\n",
        "\n",
        "$TNR = TN/(TN+FP)$\n",
        "\n",
        "**Precision: **\n",
        "\n",
        "$ Precision = TP / (TP+FP)$\n",
        "\n",
        "**Fall-out or False Positive Rate : **\n",
        "\n",
        "$FPR = FP/(FP+TN)$ i.e. $1-Specificity$ \n",
        "\n",
        "**Accuracy : **\n",
        "\n",
        "$ Accuracy = TP + TN / (Total)$\n"
      ]
    },
    {
      "metadata": {
        "id": "fk-Fqlu_lwQw",
        "colab_type": "text"
      },
      "cell_type": "markdown",
      "source": [
        "ROC curves are plotted with FPR in the x-axis and TPR in the y-axis. For a binary classification model,\n",
        "number of true positives and true negatives can be varied but adjusting the threshold of the\n",
        "classifier. For example in logistic regression this threshold is set to 0.5 by default and\n",
        "If\n",
        "P(X) > 0.5 then y = 1,\n",
        "P(X) <= 0.5 then y = 0.\n",
        "To plot the ROC curve this threshold is changed in steps and various observations for TPR and FPR\n",
        "are taken at each step. Finally all the observations are\n",
        "plotted.\n",
        "Classification performance can be measured using ‘Area\n",
        "Under ROC curve’ and it varies from 0 to 1. When the\n",
        "classifier predicts everything incorrectly, AUC will be equal\n",
        "to zero and ROC curve will be the line in orange. When the\n",
        "classifier predicts everything correctly, AUC will be equal to\n",
        "1 and the ROC curve will be the line in red. If AUC is 0.5 the\n",
        "graph will be along the line of equality which indicate a\n",
        "random classifier. As the AUC increases the curve will be\n",
        "closer to upper left hand corner."
      ]
    },
    {
      "metadata": {
        "id": "6j2DjC47lx8N",
        "colab_type": "code",
        "outputId": "7782e392-045f-48fb-baab-1e6fec906bae",
        "colab": {
          "base_uri": "https://localhost:8080/",
          "height": 376
        }
      },
      "cell_type": "code",
      "source": [
        "import matplotlib.pyplot as plt\n",
        "plt.plot([0,0], [1, 0], [1, 1], color=\"red\")\n",
        "plt.plot([1,1], [0, 1], [0, 0], color=\"orange\")\n",
        "plt.plot([0, 1], [0, 1], linestyle='--')\n",
        "plt.xlabel(\"False Positive Rate\")\n",
        "plt.ylabel(\"True Positive Rate\")\n",
        "plt.title(\"ROC Curve - Explained\")\n",
        "plt.show()"
      ],
      "execution_count": 9,
      "outputs": [
        {
          "output_type": "display_data",
          "data": {
            "image/png": "[encoded data removed]",
            "text/plain": [
              "<matplotlib.figure.Figure at 0x7f2f15e22978>"
            ]
          },
          "metadata": {
            "tags": []
          }
        }
      ]
    },
    {
      "metadata": {
        "id": "dFBEOY8xmqnd",
        "colab_type": "code",
        "colab": {}
      },
      "cell_type": "code",
      "source": [
        "def plot_roc(fpr, tpr, auroc, title):\n",
        "  plt.plot(fpr, tpr)\n",
        "  plt.plot([0, 1], [0, 1], linestyle='--')\n",
        "  plt.xlabel(\"False Positive Rate\")\n",
        "  plt.ylabel(\"True Positive Rate\")\n",
        "  plt.title(\"ROC Curve - {}\".format(title))\n",
        "  plt.figtext(0.7, 0.2, \"AUROC = {:.2f}\".format(auroc), fontweight=\"bold\")\n",
        "  return plt"
      ],
      "execution_count": 0,
      "outputs": []
    },
    {
      "metadata": {
        "id": "G8fkiNEInIc6",
        "colab_type": "code",
        "outputId": "6b5448ef-444d-4195-ef0d-9f1ece45479b",
        "colab": {
          "base_uri": "https://localhost:8080/",
          "height": 434
        }
      },
      "cell_type": "code",
      "source": [
        "y_predict_prob_svm = autoimmune_svm.predict_proba(X_test)[:, 1]\n",
        "plt.hist(y_predict_prob_svm)"
      ],
      "execution_count": 11,
      "outputs": [
        {
          "output_type": "execute_result",
          "data": {
            "text/plain": [
              "(array([30., 14.,  9.,  7., 11.,  7.,  3.,  7.,  5.,  1.]),\n",
              " array([0.04759996, 0.13465206, 0.22170416, 0.30875626, 0.39580835,\n",
              "        0.48286045, 0.56991255, 0.65696465, 0.74401675, 0.83106885,\n",
              "        0.91812095]),\n",
              " <a list of 10 Patch objects>)"
            ]
          },
          "metadata": {
            "tags": []
          },
          "execution_count": 11
        },
        {
          "output_type": "display_data",
          "data": {
            "image/png": "[encoded data removed]",
            "text/plain": [
              "<matplotlib.figure.Figure at 0x7f2f1354d400>"
            ]
          },
          "metadata": {
            "tags": []
          }
        }
      ]
    },
    {
      "metadata": {
        "id": "AtDM3GOmoWRT",
        "colab_type": "code",
        "outputId": "f7730458-8e08-45a6-f0fc-d6c95484f670",
        "colab": {
          "base_uri": "https://localhost:8080/",
          "height": 376
        }
      },
      "cell_type": "code",
      "source": [
        "from sklearn.metrics import roc_curve, roc_auc_score\n",
        "fpr, tpr, thresholds = roc_curve(y_test, y_predict_prob_svm)\n",
        "auroc = roc_auc_score(y_test, y_predict_prob_svm)\n",
        "plot_roc(fpr, tpr, auroc , \"SVM (positive)\").show()"
      ],
      "execution_count": 13,
      "outputs": [
        {
          "output_type": "display_data",
          "data": {
            "image/png": "[encoded data removed]",
            "text/plain": [
              "<matplotlib.figure.Figure at 0x7f2f1351c630>"
            ]
          },
          "metadata": {
            "tags": []
          }
        }
      ]
    },
    {
      "metadata": {
        "id": "F0J3zUjnyXGV",
        "colab_type": "text"
      },
      "cell_type": "markdown",
      "source": [
        "#### Observations\n",
        "1. Area Under ROC is the area under the blue line in the above graphs. This can be\n",
        "an indication that this model is performing better compared to other models in this\n",
        "case. As I have used only one test set for plotting the ROC curve and haven’t considered the\n",
        "variance of the accuracies, it cannot conclude that this model is performing\n",
        "better than other models. Also as we have used only one test set, we need to consider the\n",
        "variance in the every TPR and FPR which makes it difficult to conclude which mode is better.\n",
        "\n",
        "2. As the ROC curve is plotted between sensitivity and (1-specificity), the observations close to\n",
        "point (0,0), i.e. left side of the ROC curve (below 0.2 on x-axis) gives a model which fails to\n",
        "predict most of the true positives, but the model preforms better in predicting the true\n",
        "negatives. This threshold can be set for the models for which missing a true positive\n",
        "prediction is fine compared to predicting a false positive predictions.\n",
        "\n",
        "3. The right extreme of the ROC curve (above 0.8 on x-axis) gives a model which fails to predict\n",
        "the true negatives, but the model performs better in predicting the true positives. This\n",
        "threshold can be set to models for which identifying a true positive is critical than mis-\n",
        "classifying negatives."
      ]
    },
    {
      "metadata": {
        "id": "T8uQ3tEatcoi",
        "colab_type": "text"
      },
      "cell_type": "markdown",
      "source": [
        "### Learning Curves"
      ]
    },
    {
      "metadata": {
        "id": "_PyYQ2PQtev7",
        "colab_type": "text"
      },
      "cell_type": "markdown",
      "source": [
        "Learning curves are plotted between Training scores and Cross Validation scores with respect to sample size. This gives an indication of how the training and testing scores are varying with respect to the size of the training set. It can be used to decide whether collecting more data improves the performance of the classifier."
      ]
    },
    {
      "metadata": {
        "id": "MXfapkfmtfmS",
        "colab_type": "code",
        "colab": {}
      },
      "cell_type": "code",
      "source": [
        "from sklearn.model_selection import learning_curve\n",
        "import numpy as np\n",
        "\n",
        "def plot_learning_curve(model, X, y):\n",
        "  \n",
        "  train_sizes = np.linspace(.1, 1.0, 15)\n",
        "  cv = 10\n",
        "  train_sizes, train_scores, test_scores = learning_curve(model, X, y, cv=cv, train_sizes=train_sizes)\n",
        "  \n",
        "  train_scores_mean = np.mean(train_scores, axis=1)\n",
        "  train_scores_std  = np.std(train_scores, axis=1)\n",
        "  test_scores_mean  = np.mean(test_scores, axis=1)\n",
        "  test_scores_std   = np.std(test_scores, axis=1)\n",
        "  \n",
        "  plt.plot(train_sizes, train_scores_mean, marker='o', color=\"r\",label=\"Training score\")\n",
        "  plt.plot(train_sizes, test_scores_mean, marker='o', color=\"g\",label=\"Cross-validation score\")\n",
        "  plt.legend(loc=\"best\")\n",
        "  plt.xlabel(\"Training Size\")\n",
        "  plt.ylabel(\"Score\")\n",
        "  \n",
        "  return plt"
      ],
      "execution_count": 0,
      "outputs": []
    },
    {
      "metadata": {
        "id": "uB-pxuchtjEA",
        "colab_type": "code",
        "colab": {
          "base_uri": "https://localhost:8080/",
          "height": 361
        },
        "outputId": "b5cd13f2-4c13-42b6-9f91-c577f1b6b2d8"
      },
      "cell_type": "code",
      "source": [
        "plot_learning_curve(autoimmune_svm, X_train, y_train)\n",
        "plt.show()"
      ],
      "execution_count": 16,
      "outputs": [
        {
          "output_type": "display_data",
          "data": {
            "image/png": "[encoded data removed]",
            "text/plain": [
              "<matplotlib.figure.Figure at 0x7f2f1351cb38>"
            ]
          },
          "metadata": {
            "tags": []
          }
        }
      ]
    },
    {
      "metadata": {
        "id": "B_R-0yPFygJb",
        "colab_type": "text"
      },
      "cell_type": "markdown",
      "source": [
        "#### Observations\n",
        "1. From the learning curve its evident that the scores of training and cross validation set has not yet converged, and hence getting more data might help im improving the performance of the classifier."
      ]
    },
    {
      "metadata": {
        "id": "IQOqkB9QReGU",
        "colab_type": "text"
      },
      "cell_type": "markdown",
      "source": [
        "####References "
      ]
    },
    {
      "metadata": {
        "id": "9TdzNZcRRgud",
        "colab_type": "text"
      },
      "cell_type": "markdown",
      "source": [
        "\n",
        "*   *http://scikit-learn.org/stable/index.html*\n",
        "*  *https://www.dataschool.io/machine-learning-with-scikit-learn/*\n",
        "* *ROC Curves: https://en.wikipedia.org/wiki/Receiver_operating_characteristic*\n",
        "* *http://www.blogspot.udec.ugto.saedsayad.com/docs/ROC101.pdf*\n",
        "* *Confusion Matric: https://en.wikipedia.org/wiki/Confusion_matrix*\n",
        "* *Sklearn ROC curves: http://scikit-learn.org/stable/auto_examples/model_selection/plot_roc.html*\n",
        "* *Sklearn Confusion Matrix: http://scikit-learn.org/stable/modules/generated/sklearn.metrics.confusion_matrix.html*\n",
        "\n",
        "\n",
        "\n"
      ]
    }
  ]
}