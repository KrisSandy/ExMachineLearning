{
  "nbformat": 4,
  "nbformat_minor": 0,
  "metadata": {
    "colab": {
      "name": "Perceptron",
      "version": "0.3.2",
      "provenance": [],
      "include_colab_link": true
    },
    "kernelspec": {
      "name": "python3",
      "display_name": "Python 3"
    }
  },
  "cells": [
    {
      "cell_type": "markdown",
      "metadata": {
        "id": "view-in-github",
        "colab_type": "text"
      },
      "source": [
        "<a href=\"https://colab.research.google.com/github/KrisSandy/ExMachineLearning/blob/master/Perceptron.ipynb\" target=\"_parent\"><img src=\"https://colab.research.google.com/assets/colab-badge.svg\" alt=\"Open In Colab\"/></a>"
      ]
    },
    {
      "metadata": {
        "id": "Tomoh7Yy1cBh",
        "colab_type": "text"
      },
      "cell_type": "markdown",
      "source": [
        "# Perceptron"
      ]
    },
    {
      "metadata": {
        "id": "XFRgnnn32irP",
        "colab_type": "text"
      },
      "cell_type": "markdown",
      "source": [
        "Perceptron is a linear classifier which seperates the positive and negative cases by drawing a linear seperator line between the two classes. It uses stochastic gradient descent for training the model / reducing the cost."
      ]
    },
    {
      "metadata": {
        "id": "o82UFP3g28Oy",
        "colab_type": "text"
      },
      "cell_type": "markdown",
      "source": [
        "### Hypothesis\n",
        "\n",
        "$h_\\theta(x) =f( \\theta^T.X)$\n",
        "\n",
        "f is a sign function such that\n",
        "\n",
        "$ f(\\theta^T.X) =\n",
        "  \\begin{cases}\n",
        "    +1  & \\quad \\text{if } \\theta^T.X > 0\\\\\n",
        "    -1  & \\quad \\text{if } \\theta^T.X < 0\n",
        "  \\end{cases}\n",
        "$"
      ]
    },
    {
      "metadata": {
        "id": "EtwiB50P6s-Z",
        "colab_type": "text"
      },
      "cell_type": "markdown",
      "source": [
        "### Stochastic Gradient Descent\n",
        "\n",
        "$\\theta_j := \\theta_j + \\alpha(y - h_\\theta(x)).x_j$ \n",
        "\n",
        "for a single example $(x, y)$\n",
        "\n",
        "The above equation converges to a solution if the data is linearly seperable"
      ]
    },
    {
      "metadata": {
        "id": "dYZ8Mvqm7jpo",
        "colab_type": "text"
      },
      "cell_type": "markdown",
      "source": [
        "### Create a class to train, predict and score perceptron model"
      ]
    },
    {
      "metadata": {
        "id": "eknekFRn7sJK",
        "colab_type": "code",
        "colab": {}
      },
      "cell_type": "code",
      "source": [
        "import pandas as pd\n",
        "import numpy as np\n",
        "\n",
        "\n",
        "class Perceptron:\n",
        "\n",
        "    W = np.zeros(1)\n",
        "\n",
        "    def __init__(self, learning_rate=0.1, number_iter=5):\n",
        "        self.learning_rate = learning_rate\n",
        "        self.number_iter = number_iter\n",
        "\n",
        "    def __sign_fn(self, score):\n",
        "        return 0 if score < 0 else 1\n",
        "\n",
        "    def __sign_fn2(self, y):\n",
        "        f = lambda x: 0 if x < 0 else 1\n",
        "        return np.array([f(x) for x in y])\n",
        "\n",
        "    def __convert2matrix(self, X):\n",
        "        if isinstance(X, pd.Series) or isinstance(X, pd.DataFrame):\n",
        "            X = X.values\n",
        "        return X\n",
        "\n",
        "    def __stochastic_gradient(self, X, y):\n",
        "        for time in range(0, self.number_iter):\n",
        "            count = 0\n",
        "            self.learning_rate /= (time+1)\n",
        "            for index, row in enumerate(X):\n",
        "                y_predict = self.predict(row)\n",
        "                if y_predict[0] != y[index]:\n",
        "                    row = np.insert(row, 0, 1)\n",
        "                    self.W = self.W + (self.learning_rate*(y[index]-y_predict[0])*row)\n",
        "                    count += 1\n",
        "            if count == 0:\n",
        "                # print(\"perceptron converged after {} iterations\".format(time+1))\n",
        "                return\n",
        "            # print(\"Count of changes : {} after iteration {}\".format(count, time+1))\n",
        "\n",
        "    def predict(self, X):\n",
        "        X = self.__convert2matrix(X)\n",
        "        if len(X.shape) == 1:\n",
        "            X = np.array([X])\n",
        "        X = np.insert(X, 0, 1, axis=1)\n",
        "        scores = X.dot(self.W.T)\n",
        "        y_predict2 = self.__sign_fn2(scores)\n",
        "        return y_predict2\n",
        "\n",
        "    def fit(self, X, y):\n",
        "        X = self.__convert2matrix(X)\n",
        "        y = self.__convert2matrix(y)\n",
        "        self.W = np.zeros(X.shape[1] + 1)\n",
        "        self.__stochastic_gradient(X, y)\n",
        "\n",
        "    def score(self, X, y):\n",
        "        y = self.__convert2matrix(y)\n",
        "        y_predict = self.predict(X)\n",
        "        tot = len(y)\n",
        "        correct = 0\n",
        "        for i in range(tot):\n",
        "            if y[i] == y_predict[i]:\n",
        "                correct += 1\n",
        "\n",
        "        return correct/tot\n",
        "\n"
      ],
      "execution_count": 0,
      "outputs": []
    },
    {
      "metadata": {
        "id": "J-4aR9WH7wcD",
        "colab_type": "text"
      },
      "cell_type": "markdown",
      "source": [
        "### Train and predict"
      ]
    },
    {
      "metadata": {
        "id": "x4wm_f679G-5",
        "colab_type": "code",
        "colab": {
          "base_uri": "https://localhost:8080/",
          "height": 121
        },
        "outputId": "2e4c73e9-fe7d-4806-dcd7-0f891d73ae91"
      },
      "cell_type": "code",
      "source": [
        "from google.colab import drive\n",
        "drive.mount('/content/gdrive')"
      ],
      "execution_count": 2,
      "outputs": [
        {
          "output_type": "stream",
          "text": [
            "Go to this URL in a browser: https://accounts.google.com/o/oauth2/auth?client_id=947318989803-6bn6qk8qdgf4n4g3pfee6491hc0brc4i.apps.googleusercontent.com&redirect_uri=urn%3Aietf%3Awg%3Aoauth%3A2.0%3Aoob&scope=email%20https%3A%2F%2Fwww.googleapis.com%2Fauth%2Fdocs.test%20https%3A%2F%2Fwww.googleapis.com%2Fauth%2Fdrive%20https%3A%2F%2Fwww.googleapis.com%2Fauth%2Fdrive.photos.readonly%20https%3A%2F%2Fwww.googleapis.com%2Fauth%2Fpeopleapi.readonly&response_type=code\n",
            "\n",
            "Enter your authorization code:\n",
            "··········\n",
            "Mounted at /content/gdrive\n"
          ],
          "name": "stdout"
        }
      ]
    },
    {
      "metadata": {
        "id": "chGf4iO_99Xz",
        "colab_type": "code",
        "colab": {}
      },
      "cell_type": "code",
      "source": [
        "owls = pd.read_csv('/content/gdrive/My Drive/Data/owls2.csv', names=['body_length', 'wing_length', 'body_width', 'wing_width', 'type'])\n",
        "owls['type'] = owls['type'].map({'LongEaredOwl': 0, 'SnowyOwl': 1})\n",
        "X = owls.drop(columns=['type'])\n",
        "y = owls['type']"
      ],
      "execution_count": 0,
      "outputs": []
    },
    {
      "metadata": {
        "id": "yw4fLE4j8l9h",
        "colab_type": "code",
        "colab": {
          "base_uri": "https://localhost:8080/",
          "height": 67
        },
        "outputId": "e0a85a14-0186-4df4-b424-d2760bae424a"
      },
      "cell_type": "code",
      "source": [
        "from sklearn.model_selection import train_test_split\n",
        "\n",
        "X_train, X_test, y_train, y_test = train_test_split(X, y)\n",
        "model = Perceptron(number_iter=20, learning_rate=0.001)\n",
        "model.fit(X_train, y_train)\n",
        "y_p_predicts = model.predict(X_test)\n",
        "print(y_test.values)\n",
        "print(y_p_predicts)\n",
        "print(model.score(X_test, y_test))"
      ],
      "execution_count": 8,
      "outputs": [
        {
          "output_type": "stream",
          "text": [
            "[0 0 0 0 1 1 1 0 1 1 0 1 0 1 0 0 0 0 0 0 1 1 0]\n",
            "[0 0 0 0 1 1 1 0 1 1 0 1 0 1 0 0 0 0 0 0 1 1 0]\n",
            "1.0\n"
          ],
          "name": "stdout"
        }
      ]
    }
  ]
}